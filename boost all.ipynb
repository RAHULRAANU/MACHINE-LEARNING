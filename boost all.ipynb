{
 "cells": [
  {
   "cell_type": "code",
   "execution_count": 19,
   "id": "49d944e0",
   "metadata": {},
   "outputs": [],
   "source": [
    "# Import libraries\n",
    "%matplotlib inline\n",
    "import numpy as np\n",
    "import pandas as pd\n",
    "import matplotlib.pyplot as plt\n",
    "import seaborn as sns\n",
    "import catboost\n",
    "\n",
    "from sklearn.model_selection import train_test_split\n",
    "from sklearn.linear_model import LinearRegression\n",
    "from sklearn import preprocessing \n",
    "from catboost import CatBoostRegressor\n",
    "\n",
    "from sklearn.model_selection import train_test_split\n",
    "from IPython.core.interactiveshell import InteractiveShell\n",
    "InteractiveShell.ast_node_interactivity = \"all\"\n",
    "\n",
    "\n",
    "pd.set_option(\"display.max_columns\",None)"
   ]
  },
  {
   "cell_type": "code",
   "execution_count": 20,
   "id": "fd7b17d6",
   "metadata": {},
   "outputs": [],
   "source": [
    "df_train = pd.read_csv(r\"//home/rahul/jupyter prt/train.csv\")"
   ]
  },
  {
   "cell_type": "code",
   "execution_count": 21,
   "id": "1457a810",
   "metadata": {},
   "outputs": [],
   "source": [
    "df_test = pd.read_csv(r\"//home/rahul/jupyter prt/test.csv\")"
   ]
  },
  {
   "cell_type": "code",
   "execution_count": 22,
   "id": "9c33c3a2",
   "metadata": {},
   "outputs": [
    {
     "data": {
      "text/plain": [
       "((1460, 81), (1459, 80))"
      ]
     },
     "execution_count": 22,
     "metadata": {},
     "output_type": "execute_result"
    }
   ],
   "source": [
    "df_train.shape ,df_test.shape"
   ]
  },
  {
   "cell_type": "code",
   "execution_count": 23,
   "id": "f55a5187",
   "metadata": {},
   "outputs": [
    {
     "data": {
      "text/plain": [
       "PoolQC          1453\n",
       "MiscFeature     1406\n",
       "Alley           1369\n",
       "Fence           1179\n",
       "FireplaceQu      690\n",
       "LotFrontage      259\n",
       "GarageYrBlt       81\n",
       "GarageCond        81\n",
       "GarageType        81\n",
       "GarageFinish      81\n",
       "GarageQual        81\n",
       "BsmtFinType2      38\n",
       "BsmtExposure      38\n",
       "BsmtQual          37\n",
       "BsmtCond          37\n",
       "dtype: int64"
      ]
     },
     "execution_count": 23,
     "metadata": {},
     "output_type": "execute_result"
    },
    {
     "data": {
      "text/plain": [
       "PoolQC          1456\n",
       "MiscFeature     1408\n",
       "Alley           1352\n",
       "Fence           1169\n",
       "FireplaceQu      730\n",
       "LotFrontage      227\n",
       "GarageYrBlt       78\n",
       "GarageQual        78\n",
       "GarageFinish      78\n",
       "GarageCond        78\n",
       "GarageType        76\n",
       "BsmtCond          45\n",
       "BsmtQual          44\n",
       "BsmtExposure      44\n",
       "BsmtFinType1      42\n",
       "dtype: int64"
      ]
     },
     "execution_count": 23,
     "metadata": {},
     "output_type": "execute_result"
    }
   ],
   "source": [
    "df_train.isnull().sum().sort_values(ascending=False).head(15)\n",
    "df_test.isnull().sum().sort_values(ascending=False).head(15)"
   ]
  },
  {
   "cell_type": "code",
   "execution_count": 24,
   "id": "ae773a4a",
   "metadata": {},
   "outputs": [],
   "source": [
    "df_train.drop(columns=['PoolQC','MiscFeature','Alley','Fence'],axis=1, inplace=True)\n",
    "df_test.drop(columns=['PoolQC','MiscFeature','Alley','Fence'],axis=1, inplace=True)"
   ]
  },
  {
   "cell_type": "code",
   "execution_count": 25,
   "id": "d55818fb",
   "metadata": {
    "scrolled": true
   },
   "outputs": [
    {
     "data": {
      "text/plain": [
       "LotFrontage     259\n",
       "MasVnrType        8\n",
       "MasVnrArea        8\n",
       "BsmtQual         37\n",
       "BsmtCond         37\n",
       "BsmtExposure     38\n",
       "BsmtFinType1     37\n",
       "BsmtFinType2     38\n",
       "Electrical        1\n",
       "FireplaceQu     690\n",
       "GarageType       81\n",
       "GarageYrBlt      81\n",
       "GarageFinish     81\n",
       "GarageQual       81\n",
       "GarageCond       81\n",
       "dtype: int64"
      ]
     },
     "execution_count": 25,
     "metadata": {},
     "output_type": "execute_result"
    }
   ],
   "source": [
    "# nv = df_train.isnull().sum().sort_values(ascending=False).head(20)\n",
    "# nv\n",
    "null_value_stats = df_train.isnull().sum(axis=0)\n",
    "nv = null_value_stats[null_value_stats != 0]\n",
    "nv\n",
    "# nv.values\n",
    "# nv.index"
   ]
  },
  {
   "cell_type": "code",
   "execution_count": 26,
   "id": "491e8d59",
   "metadata": {},
   "outputs": [
    {
     "data": {
      "text/plain": [
       "Index(['MSZoning', 'Street', 'LotShape', 'LandContour', 'Utilities',\n",
       "       'LotConfig', 'LandSlope', 'Neighborhood', 'Condition1', 'Condition2',\n",
       "       'BldgType', 'HouseStyle', 'RoofStyle', 'RoofMatl', 'Exterior1st',\n",
       "       'Exterior2nd', 'MasVnrType', 'ExterQual', 'ExterCond', 'Foundation',\n",
       "       'BsmtQual', 'BsmtCond', 'BsmtExposure', 'BsmtFinType1', 'BsmtFinType2',\n",
       "       'Heating', 'HeatingQC', 'CentralAir', 'Electrical', 'KitchenQual',\n",
       "       'Functional', 'FireplaceQu', 'GarageType', 'GarageFinish', 'GarageQual',\n",
       "       'GarageCond', 'PavedDrive', 'SaleType', 'SaleCondition'],\n",
       "      dtype='object')"
      ]
     },
     "execution_count": 26,
     "metadata": {},
     "output_type": "execute_result"
    }
   ],
   "source": [
    "obj = df_train[df_train.dtypes[df_train.dtypes == 'object'].index]\n",
    "obj.columns"
   ]
  },
  {
   "cell_type": "code",
   "execution_count": 27,
   "id": "52135f2a",
   "metadata": {},
   "outputs": [
    {
     "name": "stdout",
     "output_type": "stream",
     "text": [
      "MasVnrType\t: None\n",
      "BsmtQual\t: TA\n",
      "BsmtCond\t: TA\n",
      "BsmtExposure\t: No\n",
      "BsmtFinType1\t: Unf\n",
      "BsmtFinType2\t: Unf\n",
      "Electrical\t: SBrkr\n",
      "FireplaceQu\t: Gd\n",
      "GarageType\t: Attchd\n",
      "GarageFinish\t: Unf\n",
      "GarageQual\t: TA\n",
      "GarageCond\t: TA\n"
     ]
    }
   ],
   "source": [
    "for x in nv.index:\n",
    "    if x in obj.columns:\n",
    "        print(f\"{x}\\t:\",df_train[x].mode()[0])  \n",
    "        fl = df_train[x].mode()[0]\n",
    "        df_train[x] = df_train[x].fillna(fl)"
   ]
  },
  {
   "cell_type": "code",
   "execution_count": 28,
   "id": "7626a39e",
   "metadata": {},
   "outputs": [
    {
     "data": {
      "text/plain": [
       "LotFrontage    259\n",
       "MasVnrArea       8\n",
       "GarageYrBlt     81\n",
       "dtype: int64"
      ]
     },
     "execution_count": 28,
     "metadata": {},
     "output_type": "execute_result"
    }
   ],
   "source": [
    "# df_train.isnull().sum().sort_values(ascending=False).head(15)\n",
    "null_value_stats = df_train.isnull().sum(axis=0)\n",
    "nv = null_value_stats[null_value_stats != 0]\n",
    "nv"
   ]
  },
  {
   "cell_type": "code",
   "execution_count": 29,
   "id": "7a895688",
   "metadata": {},
   "outputs": [
    {
     "data": {
      "text/plain": [
       "Index(['Id', 'MSSubClass', 'LotArea', 'OverallQual', 'OverallCond',\n",
       "       'YearBuilt', 'YearRemodAdd', 'BsmtFinSF1', 'BsmtFinSF2', 'BsmtUnfSF',\n",
       "       'TotalBsmtSF', '1stFlrSF', '2ndFlrSF', 'LowQualFinSF', 'GrLivArea',\n",
       "       'BsmtFullBath', 'BsmtHalfBath', 'FullBath', 'HalfBath', 'BedroomAbvGr',\n",
       "       'KitchenAbvGr', 'TotRmsAbvGrd', 'Fireplaces', 'GarageCars',\n",
       "       'GarageArea', 'WoodDeckSF', 'OpenPorchSF', 'EnclosedPorch', '3SsnPorch',\n",
       "       'ScreenPorch', 'PoolArea', 'MiscVal', 'MoSold', 'YrSold', 'SalePrice'],\n",
       "      dtype='object')"
      ]
     },
     "execution_count": 29,
     "metadata": {},
     "output_type": "execute_result"
    }
   ],
   "source": [
    "obj1 = df_train[df_train.dtypes[df_train.dtypes == 'int64'].index]\n",
    "obj1.columns"
   ]
  },
  {
   "cell_type": "code",
   "execution_count": 30,
   "id": "3d069a4a",
   "metadata": {},
   "outputs": [],
   "source": [
    "# nv.index\n",
    "for x1 in nv.index:\n",
    "    if x1 in obj1.columns:\n",
    "        print(f\"{x1}\\t:\",df_train[x1].mean())  \n",
    "        fl1 = df_train[x1].mean()\n",
    "        df_train[x1] = df_train[x1].fillna(fl1)"
   ]
  },
  {
   "cell_type": "code",
   "execution_count": 31,
   "id": "a7de6ffd",
   "metadata": {},
   "outputs": [
    {
     "data": {
      "text/plain": [
       "LotFrontage     259\n",
       "GarageYrBlt      81\n",
       "MasVnrArea        8\n",
       "Id                0\n",
       "BedroomAbvGr      0\n",
       "FireplaceQu       0\n",
       "Fireplaces        0\n",
       "Functional        0\n",
       "TotRmsAbvGrd      0\n",
       "KitchenQual       0\n",
       "KitchenAbvGr      0\n",
       "HalfBath          0\n",
       "FullBath          0\n",
       "BsmtHalfBath      0\n",
       "BsmtFullBath      0\n",
       "dtype: int64"
      ]
     },
     "execution_count": 31,
     "metadata": {},
     "output_type": "execute_result"
    },
    {
     "data": {
      "text/plain": [
       "LotFrontage    259\n",
       "MasVnrArea       8\n",
       "GarageYrBlt     81\n",
       "dtype: int64"
      ]
     },
     "execution_count": 31,
     "metadata": {},
     "output_type": "execute_result"
    }
   ],
   "source": [
    "df_train.isnull().sum().sort_values(ascending=False).head(15)\n",
    "null_value_stats = df_train.isnull().sum(axis=0)\n",
    "nv = null_value_stats[null_value_stats != 0]\n",
    "nv"
   ]
  },
  {
   "cell_type": "code",
   "execution_count": 32,
   "id": "9177f17f",
   "metadata": {},
   "outputs": [
    {
     "data": {
      "text/plain": [
       "Index(['LotFrontage', 'MasVnrArea', 'GarageYrBlt'], dtype='object')"
      ]
     },
     "execution_count": 32,
     "metadata": {},
     "output_type": "execute_result"
    }
   ],
   "source": [
    "obj2 = df_train[df_train.dtypes[df_train.dtypes == 'float64'].index]\n",
    "obj2.columns"
   ]
  },
  {
   "cell_type": "code",
   "execution_count": 33,
   "id": "51c84bb7",
   "metadata": {},
   "outputs": [
    {
     "name": "stdout",
     "output_type": "stream",
     "text": [
      "LotFrontage\t: 69.0\n",
      "MasVnrArea\t: 0.0\n",
      "GarageYrBlt\t: 1980.0\n"
     ]
    }
   ],
   "source": [
    "for x2 in nv.index:\n",
    "    if x2 in obj2.columns:\n",
    "        print(f\"{x2}\\t:\",df_train[x2].median())  \n",
    "        fl2 = df_train[x2].mean()\n",
    "        df_train[x2] = df_train[x2].fillna(fl2)"
   ]
  },
  {
   "cell_type": "code",
   "execution_count": 34,
   "id": "84714799",
   "metadata": {},
   "outputs": [
    {
     "data": {
      "text/plain": [
       "array([], dtype=int64)"
      ]
     },
     "execution_count": 34,
     "metadata": {},
     "output_type": "execute_result"
    }
   ],
   "source": [
    "# df_test.isnull().sum().sort_values(ascending=False).head(25)\n",
    "null_value_stats = df_train.isnull().sum(axis=0)\n",
    "nv = null_value_stats[null_value_stats != 0]\n",
    "nv.values"
   ]
  },
  {
   "cell_type": "code",
   "execution_count": 35,
   "id": "b2c4861c",
   "metadata": {},
   "outputs": [
    {
     "data": {
      "text/plain": [
       "MSZoning          4\n",
       "LotFrontage     227\n",
       "Utilities         2\n",
       "Exterior1st       1\n",
       "Exterior2nd       1\n",
       "MasVnrType       16\n",
       "MasVnrArea       15\n",
       "BsmtQual         44\n",
       "BsmtCond         45\n",
       "BsmtExposure     44\n",
       "BsmtFinType1     42\n",
       "BsmtFinSF1        1\n",
       "BsmtFinType2     42\n",
       "BsmtFinSF2        1\n",
       "BsmtUnfSF         1\n",
       "TotalBsmtSF       1\n",
       "BsmtFullBath      2\n",
       "BsmtHalfBath      2\n",
       "KitchenQual       1\n",
       "Functional        2\n",
       "FireplaceQu     730\n",
       "GarageType       76\n",
       "GarageYrBlt      78\n",
       "GarageFinish     78\n",
       "GarageCars        1\n",
       "GarageArea        1\n",
       "GarageQual       78\n",
       "GarageCond       78\n",
       "SaleType          1\n",
       "dtype: int64"
      ]
     },
     "execution_count": 35,
     "metadata": {},
     "output_type": "execute_result"
    }
   ],
   "source": [
    "# nv1 = df_test.isnull().sum().sort_values(ascending=False).head(15)\n",
    "# nv1\n",
    "null_value_stats = df_test.isnull().sum(axis=0)\n",
    "nv1 = null_value_stats[null_value_stats != 0]\n",
    "nv1"
   ]
  },
  {
   "cell_type": "code",
   "execution_count": 36,
   "id": "a60d6c0a",
   "metadata": {},
   "outputs": [
    {
     "data": {
      "text/plain": [
       "Index(['MSZoning', 'Street', 'LotShape', 'LandContour', 'Utilities',\n",
       "       'LotConfig', 'LandSlope', 'Neighborhood', 'Condition1', 'Condition2',\n",
       "       'BldgType', 'HouseStyle', 'RoofStyle', 'RoofMatl', 'Exterior1st',\n",
       "       'Exterior2nd', 'MasVnrType', 'ExterQual', 'ExterCond', 'Foundation',\n",
       "       'BsmtQual', 'BsmtCond', 'BsmtExposure', 'BsmtFinType1', 'BsmtFinType2',\n",
       "       'Heating', 'HeatingQC', 'CentralAir', 'Electrical', 'KitchenQual',\n",
       "       'Functional', 'FireplaceQu', 'GarageType', 'GarageFinish', 'GarageQual',\n",
       "       'GarageCond', 'PavedDrive', 'SaleType', 'SaleCondition'],\n",
       "      dtype='object')"
      ]
     },
     "execution_count": 36,
     "metadata": {},
     "output_type": "execute_result"
    }
   ],
   "source": [
    "obj3 = df_test[df_test.dtypes[df_test.dtypes == 'object'].index]\n",
    "obj3.columns"
   ]
  },
  {
   "cell_type": "code",
   "execution_count": 37,
   "id": "b28476d2",
   "metadata": {},
   "outputs": [
    {
     "name": "stdout",
     "output_type": "stream",
     "text": [
      "MSZoning\t: RL\n",
      "Utilities\t: AllPub\n",
      "Exterior1st\t: VinylSd\n",
      "Exterior2nd\t: VinylSd\n",
      "MasVnrType\t: None\n",
      "BsmtQual\t: TA\n",
      "BsmtCond\t: TA\n",
      "BsmtExposure\t: No\n",
      "BsmtFinType1\t: GLQ\n",
      "BsmtFinType2\t: Unf\n",
      "KitchenQual\t: TA\n",
      "Functional\t: Typ\n",
      "FireplaceQu\t: Gd\n",
      "GarageType\t: Attchd\n",
      "GarageFinish\t: Unf\n",
      "GarageQual\t: TA\n",
      "GarageCond\t: TA\n",
      "SaleType\t: WD\n"
     ]
    }
   ],
   "source": [
    "for x3 in nv1.index:\n",
    "    if x3 in obj3.columns:\n",
    "        print(f\"{x3}\\t:\",df_test[x3].mode()[0])  \n",
    "        fl3 = df_test[x3].mode()[0]\n",
    "        df_test[x3] = df_test[x3].fillna(fl3)"
   ]
  },
  {
   "cell_type": "code",
   "execution_count": 38,
   "id": "67198dcc",
   "metadata": {},
   "outputs": [
    {
     "data": {
      "text/plain": [
       "LotFrontage     227\n",
       "MasVnrArea       15\n",
       "BsmtFinSF1        1\n",
       "BsmtFinSF2        1\n",
       "BsmtUnfSF         1\n",
       "TotalBsmtSF       1\n",
       "BsmtFullBath      2\n",
       "BsmtHalfBath      2\n",
       "GarageYrBlt      78\n",
       "GarageCars        1\n",
       "GarageArea        1\n",
       "dtype: int64"
      ]
     },
     "execution_count": 38,
     "metadata": {},
     "output_type": "execute_result"
    }
   ],
   "source": [
    "null_value_stats = df_test.isnull().sum(axis=0)\n",
    "nv1 = null_value_stats[null_value_stats != 0]\n",
    "nv1"
   ]
  },
  {
   "cell_type": "code",
   "execution_count": 39,
   "id": "2ba4110c",
   "metadata": {},
   "outputs": [
    {
     "data": {
      "text/plain": [
       "Index(['Id', 'MSSubClass', 'LotArea', 'OverallQual', 'OverallCond',\n",
       "       'YearBuilt', 'YearRemodAdd', '1stFlrSF', '2ndFlrSF', 'LowQualFinSF',\n",
       "       'GrLivArea', 'FullBath', 'HalfBath', 'BedroomAbvGr', 'KitchenAbvGr',\n",
       "       'TotRmsAbvGrd', 'Fireplaces', 'WoodDeckSF', 'OpenPorchSF',\n",
       "       'EnclosedPorch', '3SsnPorch', 'ScreenPorch', 'PoolArea', 'MiscVal',\n",
       "       'MoSold', 'YrSold'],\n",
       "      dtype='object')"
      ]
     },
     "execution_count": 39,
     "metadata": {},
     "output_type": "execute_result"
    }
   ],
   "source": [
    "obj4 = df_test[df_test.dtypes[df_test.dtypes == 'int64'].index]\n",
    "obj4.columns"
   ]
  },
  {
   "cell_type": "code",
   "execution_count": 40,
   "id": "e1aa4ddb",
   "metadata": {},
   "outputs": [],
   "source": [
    "for x4 in nv1.index:\n",
    "    if x4 in obj4.columns:\n",
    "        print(f\"{x4}\\t:\",df_test[x4].mean())\n",
    "#         fl4 = df_test[x4].mean()\n",
    "#         df_test[x4] = df_test[x4].fillna(fl4)"
   ]
  },
  {
   "cell_type": "code",
   "execution_count": 41,
   "id": "63c57230",
   "metadata": {},
   "outputs": [
    {
     "data": {
      "text/plain": [
       "LotFrontage     227\n",
       "MasVnrArea       15\n",
       "BsmtFinSF1        1\n",
       "BsmtFinSF2        1\n",
       "BsmtUnfSF         1\n",
       "TotalBsmtSF       1\n",
       "BsmtFullBath      2\n",
       "BsmtHalfBath      2\n",
       "GarageYrBlt      78\n",
       "GarageCars        1\n",
       "GarageArea        1\n",
       "dtype: int64"
      ]
     },
     "execution_count": 41,
     "metadata": {},
     "output_type": "execute_result"
    }
   ],
   "source": [
    "null_value_stats = df_test.isnull().sum(axis=0)\n",
    "nv1 = null_value_stats[null_value_stats != 0]\n",
    "nv1"
   ]
  },
  {
   "cell_type": "code",
   "execution_count": 42,
   "id": "405f3dca",
   "metadata": {},
   "outputs": [
    {
     "data": {
      "text/plain": [
       "Index(['LotFrontage', 'MasVnrArea', 'BsmtFinSF1', 'BsmtFinSF2', 'BsmtUnfSF',\n",
       "       'TotalBsmtSF', 'BsmtFullBath', 'BsmtHalfBath', 'GarageYrBlt',\n",
       "       'GarageCars', 'GarageArea'],\n",
       "      dtype='object')"
      ]
     },
     "execution_count": 42,
     "metadata": {},
     "output_type": "execute_result"
    }
   ],
   "source": [
    "obj5 = df_test[df_test.dtypes[df_test.dtypes == 'float64'].index]\n",
    "obj5.columns"
   ]
  },
  {
   "cell_type": "code",
   "execution_count": 43,
   "id": "929876ed",
   "metadata": {},
   "outputs": [
    {
     "name": "stdout",
     "output_type": "stream",
     "text": [
      "LotFrontage\t: 67.0\n",
      "MasVnrArea\t: 0.0\n",
      "BsmtFinSF1\t: 350.5\n",
      "BsmtFinSF2\t: 0.0\n",
      "BsmtUnfSF\t: 460.0\n",
      "TotalBsmtSF\t: 988.0\n",
      "BsmtFullBath\t: 0.0\n",
      "BsmtHalfBath\t: 0.0\n",
      "GarageYrBlt\t: 1979.0\n",
      "GarageCars\t: 2.0\n",
      "GarageArea\t: 480.0\n"
     ]
    }
   ],
   "source": [
    "for x5 in nv1.index:\n",
    "    if x5 in obj5.columns:\n",
    "        print(f\"{x5}\\t:\",df_test[x5].median())\n",
    "        fl5 = df_test[x5].median()\n",
    "        df_test[x5] = df_test[x5].fillna(fl5)"
   ]
  },
  {
   "cell_type": "code",
   "execution_count": 44,
   "id": "5d703d46",
   "metadata": {},
   "outputs": [
    {
     "data": {
      "text/plain": [
       "Id              0\n",
       "FullBath        0\n",
       "Fireplaces      0\n",
       "Functional      0\n",
       "TotRmsAbvGrd    0\n",
       "KitchenQual     0\n",
       "KitchenAbvGr    0\n",
       "BedroomAbvGr    0\n",
       "HalfBath        0\n",
       "BsmtHalfBath    0\n",
       "MSSubClass      0\n",
       "BsmtFullBath    0\n",
       "GrLivArea       0\n",
       "LowQualFinSF    0\n",
       "2ndFlrSF        0\n",
       "dtype: int64"
      ]
     },
     "execution_count": 44,
     "metadata": {},
     "output_type": "execute_result"
    },
    {
     "data": {
      "text/plain": [
       "Series([], dtype: int64)"
      ]
     },
     "execution_count": 44,
     "metadata": {},
     "output_type": "execute_result"
    }
   ],
   "source": [
    "nv1 = df_test.isnull().sum().sort_values(ascending=False).head(15)\n",
    "nv1\n",
    "null_value_stats = df_test.isnull().sum(axis=0)\n",
    "nv1 = null_value_stats[null_value_stats != 0]\n",
    "nv1"
   ]
  },
  {
   "cell_type": "code",
   "execution_count": 62,
   "id": "c73e81b6",
   "metadata": {},
   "outputs": [],
   "source": [
    "X = df_train.iloc[:, :-1]\n",
    "Y = df_train.iloc[:,-1:]"
   ]
  },
  {
   "cell_type": "code",
   "execution_count": 63,
   "id": "9430d84e",
   "metadata": {},
   "outputs": [],
   "source": [
    "Y = Y.astype(float)\n",
    "# X \n",
    "# Y"
   ]
  },
  {
   "cell_type": "code",
   "execution_count": 64,
   "id": "5ef7bbb8",
   "metadata": {},
   "outputs": [],
   "source": [
    "X_train,X_test, Y_train, Y_test = train_test_split(X,Y, train_size=0.73, random_state=2529)"
   ]
  },
  {
   "cell_type": "code",
   "execution_count": 73,
   "id": "24b55fb5",
   "metadata": {},
   "outputs": [
    {
     "data": {
      "text/plain": [
       "((1065, 76), (1065, 1), (395, 76), (395, 1))"
      ]
     },
     "execution_count": 73,
     "metadata": {},
     "output_type": "execute_result"
    }
   ],
   "source": [
    "X_train.shape, Y_train.shape, X_test.shape, Y_test.shape"
   ]
  },
  {
   "cell_type": "code",
   "execution_count": 78,
   "id": "bd83b6ec",
   "metadata": {},
   "outputs": [
    {
     "name": "stdout",
     "output_type": "stream",
     "text": [
      "Names of categorical columns :  ['MSZoning', 'Street', 'LotShape', 'LandContour', 'Utilities', 'LotConfig', 'LandSlope', 'Neighborhood', 'Condition1', 'Condition2', 'BldgType', 'HouseStyle', 'RoofStyle', 'RoofMatl', 'Exterior1st', 'Exterior2nd', 'MasVnrType', 'ExterQual', 'ExterCond', 'Foundation', 'BsmtQual', 'BsmtCond', 'BsmtExposure', 'BsmtFinType1', 'BsmtFinType2', 'Heating', 'HeatingQC', 'CentralAir', 'Electrical', 'KitchenQual', 'Functional', 'FireplaceQu', 'GarageType', 'GarageFinish', 'GarageQual', 'GarageCond', 'PavedDrive', 'SaleType', 'SaleCondition']\n",
      "Location of categorical columns :  [2, 5, 6, 7, 8, 9, 10, 11, 12, 13, 14, 15, 20, 21, 22, 23, 24, 26, 27, 28, 29, 30, 31, 32, 34, 38, 39, 40, 41, 52, 54, 56, 57, 59, 62, 63, 64, 74, 75]\n"
     ]
    }
   ],
   "source": [
    "#List of categorical columns\n",
    "categoricalcolumns = X.select_dtypes(include=[\"category\"]).columns.tolist()\n",
    "print(\"Names of categorical columns : \", categoricalcolumns)\n",
    "#Get location of categorical columns\n",
    "cat_features = [X.columns.get_loc(col) for col in categoricalcolumns]\n",
    "print(\"Location of categorical columns : \",cat_features)"
   ]
  },
  {
   "cell_type": "code",
   "execution_count": 79,
   "id": "e04dd4e8",
   "metadata": {},
   "outputs": [
    {
     "data": {
      "text/plain": [
       "Id                  int64\n",
       "MSSubClass          int64\n",
       "MSZoning         category\n",
       "LotFrontage       float64\n",
       "LotArea             int64\n",
       "                   ...   \n",
       "MiscVal             int64\n",
       "MoSold              int64\n",
       "YrSold              int64\n",
       "SaleType         category\n",
       "SaleCondition    category\n",
       "Length: 76, dtype: object"
      ]
     },
     "execution_count": 79,
     "metadata": {},
     "output_type": "execute_result"
    }
   ],
   "source": [
    "# print('Test Survival Rate:',Y_test.sum()/Y_test.count())\n",
    "# obi = list(X.loc[:, X.dtypes =='object'].columns.values)\n",
    "# obi[0]\n",
    "\n",
    "for feature in categoricalcolumns:\n",
    "    X[feature] = pd.Series(X[feature],dtype='category')\n",
    "X.dtypes\n"
   ]
  },
  {
   "cell_type": "code",
   "execution_count": 82,
   "id": "c11c239b",
   "metadata": {},
   "outputs": [],
   "source": [
    "# LIGHTGBM\n",
    "X_train,X_test, Y_train, Y_test = train_test_split(X,Y, train_size=0.73, random_state=2529)"
   ]
  },
  {
   "cell_type": "code",
   "execution_count": 83,
   "id": "0daf0c77",
   "metadata": {},
   "outputs": [
    {
     "data": {
      "text/html": [
       "<style>#sk-container-id-1 {color: black;background-color: white;}#sk-container-id-1 pre{padding: 0;}#sk-container-id-1 div.sk-toggleable {background-color: white;}#sk-container-id-1 label.sk-toggleable__label {cursor: pointer;display: block;width: 100%;margin-bottom: 0;padding: 0.3em;box-sizing: border-box;text-align: center;}#sk-container-id-1 label.sk-toggleable__label-arrow:before {content: \"▸\";float: left;margin-right: 0.25em;color: #696969;}#sk-container-id-1 label.sk-toggleable__label-arrow:hover:before {color: black;}#sk-container-id-1 div.sk-estimator:hover label.sk-toggleable__label-arrow:before {color: black;}#sk-container-id-1 div.sk-toggleable__content {max-height: 0;max-width: 0;overflow: hidden;text-align: left;background-color: #f0f8ff;}#sk-container-id-1 div.sk-toggleable__content pre {margin: 0.2em;color: black;border-radius: 0.25em;background-color: #f0f8ff;}#sk-container-id-1 input.sk-toggleable__control:checked~div.sk-toggleable__content {max-height: 200px;max-width: 100%;overflow: auto;}#sk-container-id-1 input.sk-toggleable__control:checked~label.sk-toggleable__label-arrow:before {content: \"▾\";}#sk-container-id-1 div.sk-estimator input.sk-toggleable__control:checked~label.sk-toggleable__label {background-color: #d4ebff;}#sk-container-id-1 div.sk-label input.sk-toggleable__control:checked~label.sk-toggleable__label {background-color: #d4ebff;}#sk-container-id-1 input.sk-hidden--visually {border: 0;clip: rect(1px 1px 1px 1px);clip: rect(1px, 1px, 1px, 1px);height: 1px;margin: -1px;overflow: hidden;padding: 0;position: absolute;width: 1px;}#sk-container-id-1 div.sk-estimator {font-family: monospace;background-color: #f0f8ff;border: 1px dotted black;border-radius: 0.25em;box-sizing: border-box;margin-bottom: 0.5em;}#sk-container-id-1 div.sk-estimator:hover {background-color: #d4ebff;}#sk-container-id-1 div.sk-parallel-item::after {content: \"\";width: 100%;border-bottom: 1px solid gray;flex-grow: 1;}#sk-container-id-1 div.sk-label:hover label.sk-toggleable__label {background-color: #d4ebff;}#sk-container-id-1 div.sk-serial::before {content: \"\";position: absolute;border-left: 1px solid gray;box-sizing: border-box;top: 0;bottom: 0;left: 50%;z-index: 0;}#sk-container-id-1 div.sk-serial {display: flex;flex-direction: column;align-items: center;background-color: white;padding-right: 0.2em;padding-left: 0.2em;position: relative;}#sk-container-id-1 div.sk-item {position: relative;z-index: 1;}#sk-container-id-1 div.sk-parallel {display: flex;align-items: stretch;justify-content: center;background-color: white;position: relative;}#sk-container-id-1 div.sk-item::before, #sk-container-id-1 div.sk-parallel-item::before {content: \"\";position: absolute;border-left: 1px solid gray;box-sizing: border-box;top: 0;bottom: 0;left: 50%;z-index: -1;}#sk-container-id-1 div.sk-parallel-item {display: flex;flex-direction: column;z-index: 1;position: relative;background-color: white;}#sk-container-id-1 div.sk-parallel-item:first-child::after {align-self: flex-end;width: 50%;}#sk-container-id-1 div.sk-parallel-item:last-child::after {align-self: flex-start;width: 50%;}#sk-container-id-1 div.sk-parallel-item:only-child::after {width: 0;}#sk-container-id-1 div.sk-dashed-wrapped {border: 1px dashed gray;margin: 0 0.4em 0.5em 0.4em;box-sizing: border-box;padding-bottom: 0.4em;background-color: white;}#sk-container-id-1 div.sk-label label {font-family: monospace;font-weight: bold;display: inline-block;line-height: 1.2em;}#sk-container-id-1 div.sk-label-container {text-align: center;}#sk-container-id-1 div.sk-container {/* jupyter's `normalize.less` sets `[hidden] { display: none; }` but bootstrap.min.css set `[hidden] { display: none !important; }` so we also need the `!important` here to be able to override the default hidden behavior on the sphinx rendered scikit-learn.org. See: https://github.com/scikit-learn/scikit-learn/issues/21755 */display: inline-block !important;position: relative;}#sk-container-id-1 div.sk-text-repr-fallback {display: none;}</style><div id=\"sk-container-id-1\" class=\"sk-top-container\"><div class=\"sk-text-repr-fallback\"><pre>LGBMRegressor(learning_rate=0.4, max_depth=3, n_estimators=200, objective=&#x27;mse&#x27;,\n",
       "              random_state=0)</pre><b>In a Jupyter environment, please rerun this cell to show the HTML representation or trust the notebook. <br />On GitHub, the HTML representation is unable to render, please try loading this page with nbviewer.org.</b></div><div class=\"sk-container\" hidden><div class=\"sk-item\"><div class=\"sk-estimator sk-toggleable\"><input class=\"sk-toggleable__control sk-hidden--visually\" id=\"sk-estimator-id-1\" type=\"checkbox\" checked><label for=\"sk-estimator-id-1\" class=\"sk-toggleable__label sk-toggleable__label-arrow\">LGBMRegressor</label><div class=\"sk-toggleable__content\"><pre>LGBMRegressor(learning_rate=0.4, max_depth=3, n_estimators=200, objective=&#x27;mse&#x27;,\n",
       "              random_state=0)</pre></div></div></div></div></div>"
      ],
      "text/plain": [
       "LGBMRegressor(learning_rate=0.4, max_depth=3, n_estimators=200, objective='mse',\n",
       "              random_state=0)"
      ]
     },
     "execution_count": 83,
     "metadata": {},
     "output_type": "execute_result"
    }
   ],
   "source": [
    "\n",
    "import lightgbm\n",
    "\n",
    "\n",
    "\n",
    "lgbm = lightgbm.LGBMRegressor(boosting_type='gbdt',\n",
    "                              max_depth=3,\n",
    "                              n_estimators=200,\n",
    "                              learning_rate=0.4,\n",
    "                              objective='mse',\n",
    "                              n_jobs=-1, random_state=0)\n",
    "\n",
    "lgbm.fit(X_train, Y_train)\n",
    "\n",
    "y_pred = lgbm.predict(X_test)\n",
    "\n",
    "\n"
   ]
  },
  {
   "cell_type": "code",
   "execution_count": 84,
   "id": "c8b6cff7",
   "metadata": {},
   "outputs": [
    {
     "name": "stdout",
     "output_type": "stream",
     "text": [
      "RMSE 26401.48908413169\n"
     ]
    }
   ],
   "source": [
    "from sklearn.metrics import mean_squared_error as mse\n",
    "\n",
    "lgbm_rmse = np.sqrt(mse(Y_test, y_pred))\n",
    "\n",
    "print(\"RMSE\", np.mean(lgbm_rmse))\n"
   ]
  },
  {
   "cell_type": "code",
   "execution_count": 85,
   "id": "59df32dd",
   "metadata": {},
   "outputs": [],
   "source": [
    "# print(y_pred)"
   ]
  },
  {
   "cell_type": "code",
   "execution_count": 86,
   "id": "43dd38f5",
   "metadata": {},
   "outputs": [
    {
     "data": {
      "text/plain": [
       "0.882044138478801"
      ]
     },
     "execution_count": 86,
     "metadata": {},
     "output_type": "execute_result"
    }
   ],
   "source": [
    "from sklearn.metrics import r2_score\n",
    "\n",
    "r2_score(Y_test, y_pred)"
   ]
  },
  {
   "cell_type": "code",
   "execution_count": 87,
   "id": "9cde54f9",
   "metadata": {},
   "outputs": [
    {
     "data": {
      "text/plain": [
       "0.93917204945569"
      ]
     },
     "execution_count": 87,
     "metadata": {},
     "output_type": "execute_result"
    }
   ],
   "source": [
    "lgbm_rsquared = np.sqrt(r2_score(Y_test,y_pred))\n",
    "lgbm_rsquared"
   ]
  },
  {
   "cell_type": "code",
   "execution_count": 88,
   "id": "a1cc7359",
   "metadata": {},
   "outputs": [
    {
     "name": "stdout",
     "output_type": "stream",
     "text": [
      "Names of categorical columns :  ['MSZoning', 'Street', 'LotShape', 'LandContour', 'Utilities', 'LotConfig', 'LandSlope', 'Neighborhood', 'Condition1', 'Condition2', 'BldgType', 'HouseStyle', 'RoofStyle', 'RoofMatl', 'Exterior1st', 'Exterior2nd', 'MasVnrType', 'ExterQual', 'ExterCond', 'Foundation', 'BsmtQual', 'BsmtCond', 'BsmtExposure', 'BsmtFinType1', 'BsmtFinType2', 'Heating', 'HeatingQC', 'CentralAir', 'Electrical', 'KitchenQual', 'Functional', 'FireplaceQu', 'GarageType', 'GarageFinish', 'GarageQual', 'GarageCond', 'PavedDrive', 'SaleType', 'SaleCondition']\n"
     ]
    }
   ],
   "source": [
    "#List of categorical columns\n",
    "categoricalcolumns1 = df_test.select_dtypes(include=[\"object\"]).columns.tolist()\n",
    "print(\"Names of categorical columns : \", categoricalcolumns1)\n",
    "\n"
   ]
  },
  {
   "cell_type": "code",
   "execution_count": 89,
   "id": "07468960",
   "metadata": {},
   "outputs": [
    {
     "data": {
      "text/plain": [
       "Id                  int64\n",
       "MSSubClass          int64\n",
       "MSZoning         category\n",
       "LotFrontage       float64\n",
       "LotArea             int64\n",
       "                   ...   \n",
       "MiscVal             int64\n",
       "MoSold              int64\n",
       "YrSold              int64\n",
       "SaleType         category\n",
       "SaleCondition    category\n",
       "Length: 76, dtype: object"
      ]
     },
     "execution_count": 89,
     "metadata": {},
     "output_type": "execute_result"
    }
   ],
   "source": [
    "for feature in categoricalcolumns1:\n",
    "    df_test[feature] = pd.Series(df_test[feature],dtype='category')\n",
    "df_test.dtypes"
   ]
  },
  {
   "cell_type": "code",
   "execution_count": 90,
   "id": "085c3f28",
   "metadata": {},
   "outputs": [],
   "source": [
    "y_competition = lgbm.predict(df_test)"
   ]
  },
  {
   "cell_type": "code",
   "execution_count": 91,
   "id": "f1f8edfc",
   "metadata": {},
   "outputs": [
    {
     "data": {
      "text/plain": [
       "1459"
      ]
     },
     "execution_count": 91,
     "metadata": {},
     "output_type": "execute_result"
    }
   ],
   "source": [
    "len(y_competition.tolist())"
   ]
  },
  {
   "cell_type": "code",
   "execution_count": 92,
   "id": "d792f1cf",
   "metadata": {},
   "outputs": [],
   "source": [
    "# CATBOOST"
   ]
  },
  {
   "cell_type": "code",
   "execution_count": 93,
   "id": "556053b7",
   "metadata": {},
   "outputs": [],
   "source": [
    "# Make necessary imports\n",
    "from catboost import CatBoostRegressor, Pool, cv\n",
    "from sklearn.metrics import accuracy_score\n",
    "\n",
    "#To show plots\n",
    "from ipywidgets import interact  \n",
    "import ipywidgets as widgets  "
   ]
  },
  {
   "cell_type": "code",
   "execution_count": 94,
   "id": "c55b702a",
   "metadata": {},
   "outputs": [
    {
     "data": {
      "text/plain": [
       "array([ 2,  5,  6,  7,  8,  9, 10, 11, 12, 13, 14, 15, 20, 21, 22, 23, 24,\n",
       "       26, 27, 28, 29, 30, 31, 32, 34, 38, 39, 40, 41, 52, 54, 56, 57, 59,\n",
       "       62, 63, 64, 74, 75])"
      ]
     },
     "execution_count": 94,
     "metadata": {},
     "output_type": "execute_result"
    }
   ],
   "source": [
    "#  Identify columns with categorical features\n",
    "categorical_features_indices = np.where((X_train.dtypes != np.float64) & (X_train.dtypes != np.int64))[0]\n",
    "categorical_features_indices"
   ]
  },
  {
   "cell_type": "code",
   "execution_count": 95,
   "id": "ac99d9f7",
   "metadata": {},
   "outputs": [],
   "source": [
    "train_data = Pool(X_train, Y_train, categorical_features_indices)"
   ]
  },
  {
   "cell_type": "code",
   "execution_count": 96,
   "id": "ed8be99e",
   "metadata": {},
   "outputs": [
    {
     "data": {
      "application/vnd.jupyter.widget-view+json": {
       "model_id": "126eb4bbd4374ee09c0a93d5ead1383c",
       "version_major": 2,
       "version_minor": 0
      },
      "text/plain": [
       "MetricVisualizer(layout=Layout(align_self='stretch', height='500px'))"
      ]
     },
     "metadata": {},
     "output_type": "display_data"
    },
    {
     "data": {
      "text/plain": [
       "<catboost.core.CatBoostRegressor at 0x7fb91a2bbd30>"
      ]
     },
     "execution_count": 96,
     "metadata": {},
     "output_type": "execute_result"
    }
   ],
   "source": [
    "model = CatBoostRegressor(iterations=50, loss_function='RMSE')\n",
    "\n",
    "# train the model\n",
    "model.fit(    \n",
    "#    train_data,  #   Tried this with pooled data defined above\n",
    "     X_train,\n",
    "     Y_train,\n",
    "     cat_features=categorical_features_indices,\n",
    "     eval_set=(X_test, Y_test),\n",
    "     verbose=False,\n",
    "     plot=True\n",
    ")"
   ]
  },
  {
   "cell_type": "code",
   "execution_count": 97,
   "id": "9d0c8503",
   "metadata": {},
   "outputs": [],
   "source": [
    "y_pred = model.predict(X_test)"
   ]
  },
  {
   "cell_type": "code",
   "execution_count": 98,
   "id": "e5ccaec5",
   "metadata": {},
   "outputs": [
    {
     "data": {
      "text/plain": [
       "0.8825630132602281"
      ]
     },
     "execution_count": 98,
     "metadata": {},
     "output_type": "execute_result"
    }
   ],
   "source": [
    "r2_score(Y_test, y_pred)\n"
   ]
  },
  {
   "cell_type": "code",
   "execution_count": 99,
   "id": "9a424748",
   "metadata": {},
   "outputs": [
    {
     "name": "stdout",
     "output_type": "stream",
     "text": [
      "RMSE 26343.356469536673\n"
     ]
    }
   ],
   "source": [
    "lgbm_rmse = np.sqrt(mse(Y_test, y_pred))\n",
    "\n",
    "print(\"RMSE\", np.mean(lgbm_rmse))\n"
   ]
  },
  {
   "cell_type": "code",
   "execution_count": 100,
   "id": "8027a90a",
   "metadata": {},
   "outputs": [
    {
     "data": {
      "text/plain": [
       "1459"
      ]
     },
     "execution_count": 100,
     "metadata": {},
     "output_type": "execute_result"
    }
   ],
   "source": [
    "y_competition = model.predict(df_test)\n",
    "len(y_competition.tolist())"
   ]
  },
  {
   "cell_type": "code",
   "execution_count": 101,
   "id": "d3eff788",
   "metadata": {},
   "outputs": [
    {
     "data": {
      "text/plain": [
       "0.9394482493784466"
      ]
     },
     "execution_count": 101,
     "metadata": {},
     "output_type": "execute_result"
    }
   ],
   "source": [
    "catboost_rsquared = np.sqrt(r2_score(Y_test,y_pred))\n",
    "catboost_rsquared"
   ]
  },
  {
   "cell_type": "code",
   "execution_count": 102,
   "id": "8029b14d",
   "metadata": {},
   "outputs": [],
   "source": [
    "df_test.to_csv(\"boost all.csv\",index=False)"
   ]
  },
  {
   "cell_type": "code",
   "execution_count": 103,
   "id": "fc5df8e8",
   "metadata": {},
   "outputs": [],
   "source": [
    "# XGBOOSTING"
   ]
  },
  {
   "cell_type": "code",
   "execution_count": 104,
   "id": "b838261a",
   "metadata": {},
   "outputs": [],
   "source": [
    "from xgboost import XGBRegressor\n",
    "import xgboost"
   ]
  },
  {
   "cell_type": "code",
   "execution_count": 118,
   "id": "63b4d50e",
   "metadata": {},
   "outputs": [],
   "source": [
    "# X_test = pd.get_dummies(X_test[categoricalcolumns1], drop_first=True )\n",
    "# X_train = pd.get_dummies(X_train[categoricalcolumns1], drop_first=True )\n",
    "# Y_train = pd.get_dummies(Y_train[categoricalcolumns1], drop_first=True )"
   ]
  },
  {
   "cell_type": "code",
   "execution_count": 110,
   "id": "267fcbf2",
   "metadata": {},
   "outputs": [
    {
     "name": "stdout",
     "output_type": "stream",
     "text": [
      "The best hyperparameters are  {'learning_rate': 0.015, 'max_depth': 5, 'n_estimators': 700}\n"
     ]
    }
   ],
   "source": [
    "#=========================================================================\n",
    "# exhaustively search for the optimal hyperparameters\n",
    "#=========================================================================\n",
    "\n",
    "regressor=xgboost.XGBRegressor(eval_metric='rmsle')\n",
    "\n",
    "from sklearn.model_selection import GridSearchCV\n",
    "# set up our search grid\n",
    "param_grid = {\"max_depth\":    [4, 5,],\n",
    "              \"n_estimators\": [500, 600, 700,555,666],\n",
    "              \"learning_rate\": [0.001,0.015]\n",
    "             }\n",
    "\n",
    "\n",
    "# try out every combination of the above values\n",
    "search = GridSearchCV(regressor, param_grid, cv=5).fit(X_train, Y_train)\n",
    "\n",
    "print(\"The best hyperparameters are \",search.best_params_)"
   ]
  },
  {
   "cell_type": "code",
   "execution_count": 111,
   "id": "1b981dd0",
   "metadata": {},
   "outputs": [
    {
     "data": {
      "text/html": [
       "<style>#sk-container-id-2 {color: black;background-color: white;}#sk-container-id-2 pre{padding: 0;}#sk-container-id-2 div.sk-toggleable {background-color: white;}#sk-container-id-2 label.sk-toggleable__label {cursor: pointer;display: block;width: 100%;margin-bottom: 0;padding: 0.3em;box-sizing: border-box;text-align: center;}#sk-container-id-2 label.sk-toggleable__label-arrow:before {content: \"▸\";float: left;margin-right: 0.25em;color: #696969;}#sk-container-id-2 label.sk-toggleable__label-arrow:hover:before {color: black;}#sk-container-id-2 div.sk-estimator:hover label.sk-toggleable__label-arrow:before {color: black;}#sk-container-id-2 div.sk-toggleable__content {max-height: 0;max-width: 0;overflow: hidden;text-align: left;background-color: #f0f8ff;}#sk-container-id-2 div.sk-toggleable__content pre {margin: 0.2em;color: black;border-radius: 0.25em;background-color: #f0f8ff;}#sk-container-id-2 input.sk-toggleable__control:checked~div.sk-toggleable__content {max-height: 200px;max-width: 100%;overflow: auto;}#sk-container-id-2 input.sk-toggleable__control:checked~label.sk-toggleable__label-arrow:before {content: \"▾\";}#sk-container-id-2 div.sk-estimator input.sk-toggleable__control:checked~label.sk-toggleable__label {background-color: #d4ebff;}#sk-container-id-2 div.sk-label input.sk-toggleable__control:checked~label.sk-toggleable__label {background-color: #d4ebff;}#sk-container-id-2 input.sk-hidden--visually {border: 0;clip: rect(1px 1px 1px 1px);clip: rect(1px, 1px, 1px, 1px);height: 1px;margin: -1px;overflow: hidden;padding: 0;position: absolute;width: 1px;}#sk-container-id-2 div.sk-estimator {font-family: monospace;background-color: #f0f8ff;border: 1px dotted black;border-radius: 0.25em;box-sizing: border-box;margin-bottom: 0.5em;}#sk-container-id-2 div.sk-estimator:hover {background-color: #d4ebff;}#sk-container-id-2 div.sk-parallel-item::after {content: \"\";width: 100%;border-bottom: 1px solid gray;flex-grow: 1;}#sk-container-id-2 div.sk-label:hover label.sk-toggleable__label {background-color: #d4ebff;}#sk-container-id-2 div.sk-serial::before {content: \"\";position: absolute;border-left: 1px solid gray;box-sizing: border-box;top: 0;bottom: 0;left: 50%;z-index: 0;}#sk-container-id-2 div.sk-serial {display: flex;flex-direction: column;align-items: center;background-color: white;padding-right: 0.2em;padding-left: 0.2em;position: relative;}#sk-container-id-2 div.sk-item {position: relative;z-index: 1;}#sk-container-id-2 div.sk-parallel {display: flex;align-items: stretch;justify-content: center;background-color: white;position: relative;}#sk-container-id-2 div.sk-item::before, #sk-container-id-2 div.sk-parallel-item::before {content: \"\";position: absolute;border-left: 1px solid gray;box-sizing: border-box;top: 0;bottom: 0;left: 50%;z-index: -1;}#sk-container-id-2 div.sk-parallel-item {display: flex;flex-direction: column;z-index: 1;position: relative;background-color: white;}#sk-container-id-2 div.sk-parallel-item:first-child::after {align-self: flex-end;width: 50%;}#sk-container-id-2 div.sk-parallel-item:last-child::after {align-self: flex-start;width: 50%;}#sk-container-id-2 div.sk-parallel-item:only-child::after {width: 0;}#sk-container-id-2 div.sk-dashed-wrapped {border: 1px dashed gray;margin: 0 0.4em 0.5em 0.4em;box-sizing: border-box;padding-bottom: 0.4em;background-color: white;}#sk-container-id-2 div.sk-label label {font-family: monospace;font-weight: bold;display: inline-block;line-height: 1.2em;}#sk-container-id-2 div.sk-label-container {text-align: center;}#sk-container-id-2 div.sk-container {/* jupyter's `normalize.less` sets `[hidden] { display: none; }` but bootstrap.min.css set `[hidden] { display: none !important; }` so we also need the `!important` here to be able to override the default hidden behavior on the sphinx rendered scikit-learn.org. See: https://github.com/scikit-learn/scikit-learn/issues/21755 */display: inline-block !important;position: relative;}#sk-container-id-2 div.sk-text-repr-fallback {display: none;}</style><div id=\"sk-container-id-2\" class=\"sk-top-container\"><div class=\"sk-text-repr-fallback\"><pre>XGBRegressor(base_score=0.5, booster=&#x27;gbtree&#x27;, callbacks=None,\n",
       "             colsample_bylevel=1, colsample_bynode=1, colsample_bytree=1,\n",
       "             early_stopping_rounds=None, enable_categorical=False,\n",
       "             eval_metric=&#x27;rmsle&#x27;, gamma=0, gpu_id=-1, grow_policy=&#x27;depthwise&#x27;,\n",
       "             importance_type=None, interaction_constraints=&#x27;&#x27;,\n",
       "             learning_rate=0.015, max_bin=256, max_cat_to_onehot=4,\n",
       "             max_delta_step=0, max_depth=5, max_leaves=0, min_child_weight=1,\n",
       "             missing=nan, monotone_constraints=&#x27;()&#x27;, n_estimators=700, n_jobs=0,\n",
       "             num_parallel_tree=1, predictor=&#x27;auto&#x27;, random_state=0, reg_alpha=0,\n",
       "             reg_lambda=1, ...)</pre><b>In a Jupyter environment, please rerun this cell to show the HTML representation or trust the notebook. <br />On GitHub, the HTML representation is unable to render, please try loading this page with nbviewer.org.</b></div><div class=\"sk-container\" hidden><div class=\"sk-item\"><div class=\"sk-estimator sk-toggleable\"><input class=\"sk-toggleable__control sk-hidden--visually\" id=\"sk-estimator-id-2\" type=\"checkbox\" checked><label for=\"sk-estimator-id-2\" class=\"sk-toggleable__label sk-toggleable__label-arrow\">XGBRegressor</label><div class=\"sk-toggleable__content\"><pre>XGBRegressor(base_score=0.5, booster=&#x27;gbtree&#x27;, callbacks=None,\n",
       "             colsample_bylevel=1, colsample_bynode=1, colsample_bytree=1,\n",
       "             early_stopping_rounds=None, enable_categorical=False,\n",
       "             eval_metric=&#x27;rmsle&#x27;, gamma=0, gpu_id=-1, grow_policy=&#x27;depthwise&#x27;,\n",
       "             importance_type=None, interaction_constraints=&#x27;&#x27;,\n",
       "             learning_rate=0.015, max_bin=256, max_cat_to_onehot=4,\n",
       "             max_delta_step=0, max_depth=5, max_leaves=0, min_child_weight=1,\n",
       "             missing=nan, monotone_constraints=&#x27;()&#x27;, n_estimators=700, n_jobs=0,\n",
       "             num_parallel_tree=1, predictor=&#x27;auto&#x27;, random_state=0, reg_alpha=0,\n",
       "             reg_lambda=1, ...)</pre></div></div></div></div></div>"
      ],
      "text/plain": [
       "XGBRegressor(base_score=0.5, booster='gbtree', callbacks=None,\n",
       "             colsample_bylevel=1, colsample_bynode=1, colsample_bytree=1,\n",
       "             early_stopping_rounds=None, enable_categorical=False,\n",
       "             eval_metric='rmsle', gamma=0, gpu_id=-1, grow_policy='depthwise',\n",
       "             importance_type=None, interaction_constraints='',\n",
       "             learning_rate=0.015, max_bin=256, max_cat_to_onehot=4,\n",
       "             max_delta_step=0, max_depth=5, max_leaves=0, min_child_weight=1,\n",
       "             missing=nan, monotone_constraints='()', n_estimators=700, n_jobs=0,\n",
       "             num_parallel_tree=1, predictor='auto', random_state=0, reg_alpha=0,\n",
       "             reg_lambda=1, ...)"
      ]
     },
     "execution_count": 111,
     "metadata": {},
     "output_type": "execute_result"
    }
   ],
   "source": [
    "# regressor = xgboost.XGBRegressor(eval_metric='rmsle')\n",
    "\n",
    "\n",
    "regressor = xgboost.XGBRegressor(learning_rate = search.best_params_[\"learning_rate\"],\n",
    "                           n_estimators  = search.best_params_[\"n_estimators\"],\n",
    "                           max_depth     = search.best_params_[\"max_depth\"],\n",
    "                           eval_metric='rmsle')\n",
    "\n",
    "regressor.fit(X_train, Y_train)"
   ]
  },
  {
   "cell_type": "code",
   "execution_count": 112,
   "id": "680a1b7f",
   "metadata": {},
   "outputs": [],
   "source": [
    "y_pred = regressor.predict(X_test)\n",
    "# y_pred"
   ]
  },
  {
   "cell_type": "code",
   "execution_count": 113,
   "id": "a105127f",
   "metadata": {},
   "outputs": [
    {
     "data": {
      "text/plain": [
       "0.7571762430149431"
      ]
     },
     "execution_count": 113,
     "metadata": {},
     "output_type": "execute_result"
    }
   ],
   "source": [
    "r2_score(Y_test, y_pred)"
   ]
  },
  {
   "cell_type": "code",
   "execution_count": 114,
   "id": "aec1ef90",
   "metadata": {},
   "outputs": [
    {
     "data": {
      "text/plain": [
       "0.8701587458705125"
      ]
     },
     "execution_count": 114,
     "metadata": {},
     "output_type": "execute_result"
    }
   ],
   "source": [
    "xgboost_rsquared = np.sqrt(r2_score(Y_test,y_pred))\n",
    "xgboost_rsquared"
   ]
  },
  {
   "cell_type": "code",
   "execution_count": 130,
   "id": "a5bd110d",
   "metadata": {},
   "outputs": [
    {
     "data": {
      "text/plain": [
       "1459"
      ]
     },
     "execution_count": 130,
     "metadata": {},
     "output_type": "execute_result"
    },
    {
     "data": {
      "text/plain": [
       "[125014.68670376435,\n",
       " 157083.0331499868,\n",
       " 185883.0762851908,\n",
       " 183654.18875233468,\n",
       " 191464.0462572239,\n",
       " 160940.7277263299,\n",
       " 171901.21862223267,\n",
       " 146684.07440118893,\n",
       " 171335.94241597815,\n",
       " 124379.33554895077,\n",
       " 192935.70969540003,\n",
       " 90392.35490451327,\n",
       " 101567.62294103448,\n",
       " 155299.83099940486,\n",
       " 121925.18988710875,\n",
       " 408583.48653477395,\n",
       " 264906.0900317496,\n",
       " 310731.1952504641,\n",
       " 289695.93926415883,\n",
       " 481825.1827209309,\n",
       " 318099.52558602055,\n",
       " 209172.6520502373,\n",
       " 173596.58754006334,\n",
       " 169189.56444454065,\n",
       " 180882.97093569953,\n",
       " 202723.06284885775,\n",
       " 330657.86225352937,\n",
       " 229878.0330454871,\n",
       " 187212.2946899134,\n",
       " 201446.27032585643,\n",
       " 198555.5439735706,\n",
       " 104645.3262815237,\n",
       " 176567.83437275336,\n",
       " 308828.2711799008,\n",
       " 301824.12049507524,\n",
       " 231106.50533970405,\n",
       " 180395.02001179004,\n",
       " 164791.5424275157,\n",
       " 168094.68142182037,\n",
       " 154981.61546418897,\n",
       " 172918.95562057692,\n",
       " 158051.2389394315,\n",
       " 278509.2728124859,\n",
       " 249736.47190702707,\n",
       " 217493.52318303764,\n",
       " 175404.67859697164,\n",
       " 229402.16842294825,\n",
       " 195903.95824328373,\n",
       " 146717.60417907435,\n",
       " 144966.37766332008,\n",
       " 131454.87643886986,\n",
       " 180612.8665102393,\n",
       " 139542.1488146166,\n",
       " 178329.86052640184,\n",
       " 203220.41323614435,\n",
       " 153735.26715957074,\n",
       " 167742.10810717338,\n",
       " 122629.97085022068,\n",
       " 237372.21515038583,\n",
       " 136099.99276563758,\n",
       " 130654.17314370807,\n",
       " 161839.39543488546,\n",
       " 105373.20339016634,\n",
       " 128575.36888310075,\n",
       " 126297.34191814315,\n",
       " 119850.38628229739,\n",
       " 95323.88778032296,\n",
       " 132520.46392686974,\n",
       " 137133.88640133216,\n",
       " 161605.99439983314,\n",
       " 132876.94167606474,\n",
       " 103064.19407445709,\n",
       " 135355.47393266542,\n",
       " 119066.37765620346,\n",
       " 168271.275352086,\n",
       " 114916.90416661509,\n",
       " 71361.14543279403,\n",
       " 191703.59969503246,\n",
       " 180771.76445130818,\n",
       " 113512.3878164172,\n",
       " 129914.25386452372,\n",
       " 139814.8790021395,\n",
       " 193456.69912144655,\n",
       " 85758.50106173499,\n",
       " 109587.16923811569,\n",
       " 121428.76274781587,\n",
       " 139822.40345900736,\n",
       " 124696.35607961314,\n",
       " 111381.86665384684,\n",
       " 138087.0962082759,\n",
       " 118427.73422558546,\n",
       " 128741.39236982664,\n",
       " 161479.67793117842,\n",
       " 116077.09354560946,\n",
       " 169772.74081562113,\n",
       " 96930.13190580884,\n",
       " 92122.22910168931,\n",
       " 93748.45261887321,\n",
       " 94003.69692128267,\n",
       " 138885.41020727216,\n",
       " 138819.7080659945,\n",
       " 123824.23309534002,\n",
       " 120895.83177630862,\n",
       " 152499.71808143475,\n",
       " 133485.92367424959,\n",
       " 206751.7865397442,\n",
       " 60192.660765401146,\n",
       " 244234.3507163402,\n",
       " 176609.7944007976,\n",
       " 138098.7480334579,\n",
       " 117233.90086230534,\n",
       " 147218.79027162187,\n",
       " 250824.0800001988,\n",
       " 125427.90830439635,\n",
       " 227556.33049647522,\n",
       " 223044.32452965103,\n",
       " 186762.86926960442,\n",
       " 143387.89643854773,\n",
       " 140492.85573912773,\n",
       " 192201.04232905348,\n",
       " 143994.48003555604,\n",
       " 122115.64531729669,\n",
       " 334491.6539111759,\n",
       " 219479.08706297952,\n",
       " 149019.10537654342,\n",
       " 68700.6043659622,\n",
       " 89917.75738733834,\n",
       " 138062.33720544662,\n",
       " 93199.74767640817,\n",
       " 133379.02526278,\n",
       " 93089.36301889966,\n",
       " 133183.8110394883,\n",
       " 123753.94249403101,\n",
       " 131243.6143452311,\n",
       " 105182.35425488125,\n",
       " 229545.23689096325,\n",
       " 211228.95410403464,\n",
       " 191838.03514000057,\n",
       " 205354.03689364254,\n",
       " 182700.61429593505,\n",
       " 71833.1689952137,\n",
       " 125314.34466230782,\n",
       " 88042.18990493641,\n",
       " 283954.49687035684,\n",
       " 248626.30848732276,\n",
       " 171913.87608118274,\n",
       " 155513.3940558594,\n",
       " 202518.6854522241,\n",
       " 188328.3674836847,\n",
       " 141705.89640239842,\n",
       " 137658.4403091137,\n",
       " 146904.2770009901,\n",
       " 154236.45580936328,\n",
       " 136176.87502552193,\n",
       " 101455.69006111071,\n",
       " 79355.2452741068,\n",
       " 99861.13825180956,\n",
       " 126610.63918307322,\n",
       " 140513.7902158128,\n",
       " 179051.1641459808,\n",
       " 124422.29910633348,\n",
       " 155083.28184670187,\n",
       " 272614.09845994756,\n",
       " 194945.9315698007,\n",
       " 122972.2815425501,\n",
       " 148722.38524829596,\n",
       " 177356.30058270134,\n",
       " 314557.98766103934,\n",
       " 173436.09882403456,\n",
       " 327924.9758165763,\n",
       " 206303.54503110278,\n",
       " 250380.52668203285,\n",
       " 162857.85366461065,\n",
       " 172119.6554335394,\n",
       " 166477.92509782207,\n",
       " 143094.5578730728,\n",
       " 192922.3131438373,\n",
       " 217310.0540340462,\n",
       " 180548.0537813551,\n",
       " 253790.93442818042,\n",
       " 199454.6974315958,\n",
       " 250002.54979108705,\n",
       " 226839.2308653769,\n",
       " 230409.23030875702,\n",
       " 197108.96786791953,\n",
       " 154513.7099962964,\n",
       " 170257.20286161962,\n",
       " 123724.68946632209,\n",
       " 130891.5743989753,\n",
       " 125533.53801953557,\n",
       " 123603.5070532831,\n",
       " 87767.84844713761,\n",
       " 88760.47443140089,\n",
       " 148669.35224093223,\n",
       " 168489.77070717976,\n",
       " 133821.1902311988,\n",
       " 142114.77547669763,\n",
       " 147426.35385611103,\n",
       " 132528.06658053712,\n",
       " 159286.5784680326,\n",
       " 466612.6199959484,\n",
       " 390281.9701816112,\n",
       " 416847.29074340325,\n",
       " 493543.5926694838,\n",
       " 319241.04564657167,\n",
       " 320040.04764923465,\n",
       " 404105.7673624832,\n",
       " 346794.0060276409,\n",
       " 312870.57478585385,\n",
       " 351495.8296543112,\n",
       " 257333.34615522902,\n",
       " 487081.9949289858,\n",
       " 319874.08784704196,\n",
       " 234601.75332457508,\n",
       " 191946.84197294532,\n",
       " 188506.8506613212,\n",
       " 214059.80056562566,\n",
       " 493257.5429454336,\n",
       " 413860.7814254197,\n",
       " 346882.15281327255,\n",
       " 262350.5543618691,\n",
       " 322908.1081097256,\n",
       " 191289.5539265817,\n",
       " 182356.17310282929,\n",
       " 152642.8702784027,\n",
       " 166170.09858183216,\n",
       " 164483.31641589932,\n",
       " 202772.5144473507,\n",
       " 196541.71837571377,\n",
       " 185342.05207934906,\n",
       " 176739.5556771019,\n",
       " 269632.31404122006,\n",
       " 163239.97883945698,\n",
       " 177660.67919758818,\n",
       " 161447.70446550977,\n",
       " 292246.51765907946,\n",
       " 163481.01617963903,\n",
       " 391603.3509513174,\n",
       " 335979.9402470727,\n",
       " 234274.4205825558,\n",
       " 282072.7973650286,\n",
       " 285850.0462335196,\n",
       " 238585.42799864372,\n",
       " 273327.08833754354,\n",
       " 220364.69776678493,\n",
       " 482147.8136412017,\n",
       " 200344.67240332472,\n",
       " 188188.38261351586,\n",
       " 280729.8409122638,\n",
       " 199097.9793375642,\n",
       " 244729.60338353057,\n",
       " 282894.14944647416,\n",
       " 258327.48159886524,\n",
       " 223007.14378049175,\n",
       " 198366.61182181898,\n",
       " 180905.05055476556,\n",
       " 169557.89389843092,\n",
       " 124445.69868154626,\n",
       " 203869.35063426787,\n",
       " 256211.16687449213,\n",
       " 164639.54110288902,\n",
       " 133320.01580282836,\n",
       " 162067.78872036852,\n",
       " 221247.32501556296,\n",
       " 250667.13701531838,\n",
       " 186191.5947800234,\n",
       " 148061.47977831733,\n",
       " 179624.9769020014,\n",
       " 156649.94233707397,\n",
       " 159584.29899313915,\n",
       " 119044.23354819958,\n",
       " 139218.02448942835,\n",
       " 123690.82975522152,\n",
       " 131810.97609096972,\n",
       " 146191.9231060951,\n",
       " 120035.65507214775,\n",
       " 329202.0922074686,\n",
       " 213329.60695083538,\n",
       " 285687.88755434897,\n",
       " 212991.9938197554,\n",
       " 174691.6708579849,\n",
       " 164878.5256524099,\n",
       " 167357.53153290946,\n",
       " 361890.5105153881,\n",
       " 193615.1192339522,\n",
       " 191073.8199883926,\n",
       " 212465.6822741033,\n",
       " 229132.64413257962,\n",
       " 152665.71381732094,\n",
       " 116554.2242549755,\n",
       " 259842.68662106688,\n",
       " 125897.40908014013,\n",
       " 133562.86232248513,\n",
       " 205789.7660089398,\n",
       " 167715.60642355937,\n",
       " 129974.42480292796,\n",
       " 117977.6945775976,\n",
       " 143128.96936987783,\n",
       " 172223.52276381478,\n",
       " 166929.9330911415,\n",
       " 136550.17905317064,\n",
       " 163720.2414211037,\n",
       " 167199.6957472361,\n",
       " 115661.42449817981,\n",
       " 151069.6969134824,\n",
       " 170637.34883802984,\n",
       " 221227.52289084636,\n",
       " 145019.15386616607,\n",
       " 170523.1113422079,\n",
       " 155136.26922548513,\n",
       " 124076.91854071876,\n",
       " 129795.78801728382,\n",
       " 129529.8777630988,\n",
       " 126579.24555652941,\n",
       " 129214.37548275963,\n",
       " 130249.63421065344,\n",
       " 116749.04116567105,\n",
       " 135752.53788222236,\n",
       " 113925.23498286458,\n",
       " 165003.4816053906,\n",
       " 130225.1317018806,\n",
       " 91833.80329054523,\n",
       " 140138.36306881168,\n",
       " 101856.59098220097,\n",
       " 121869.34990204463,\n",
       " 144093.21689517784,\n",
       " 172726.5688885799,\n",
       " 59691.87815410276,\n",
       " 90853.6894250173,\n",
       " 76010.31902260178,\n",
       " 187971.32548851366,\n",
       " 148342.73797680152,\n",
       " 145260.29583572372,\n",
       " 142806.02110890546,\n",
       " 124747.48105989635,\n",
       " 112655.8871329152,\n",
       " 124695.7387434079,\n",
       " 125440.07530934695,\n",
       " 103278.08660616404,\n",
       " 121932.29191825163,\n",
       " 128467.82990158132,\n",
       " 120006.07959190547,\n",
       " 130201.1951406406,\n",
       " 134038.05145872443,\n",
       " 140161.9766353002,\n",
       " 120957.62304491302,\n",
       " 136749.76668285858,\n",
       " 126333.91859477929,\n",
       " 121551.73802602821,\n",
       " 142518.08830802914,\n",
       " 92551.56869763939,\n",
       " 89739.12542695507,\n",
       " 121613.7579696481,\n",
       " 88177.34920039511,\n",
       " 52461.7740628598,\n",
       " 91412.94440996899,\n",
       " 111579.76594808005,\n",
       " 179229.7201165006,\n",
       " 129586.38096998619,\n",
       " 63359.85784586547,\n",
       " 102325.23120649881,\n",
       " 136976.32367499132,\n",
       " 51171.11268167039,\n",
       " 131680.65778933527,\n",
       " 133231.528809542,\n",
       " 115195.7813793327,\n",
       " 114461.10176552772,\n",
       " 153160.1102126588,\n",
       " 116812.28444789996,\n",
       " 134024.83425132153,\n",
       " 159383.17537848052,\n",
       " 103076.65801946205,\n",
       " 135760.5450468556,\n",
       " 125518.95194233747,\n",
       " 153405.7505723359,\n",
       " 116393.18459213956,\n",
       " 93604.66042378648,\n",
       " 106693.93001251554,\n",
       " 98234.36977408353,\n",
       " 151987.5716852341,\n",
       " 133208.79911690942,\n",
       " 83766.57695405462,\n",
       " 154811.1282981476,\n",
       " 131148.90635525552,\n",
       " 149102.1929082373,\n",
       " 147083.7893638863,\n",
       " 160031.0231292215,\n",
       " 58709.12355975373,\n",
       " 111520.33701315534,\n",
       " 109076.4784725062,\n",
       " 140423.60936972965,\n",
       " 130500.30327601914,\n",
       " 136346.89054875757,\n",
       " 165943.25143523456,\n",
       " 141179.7061648634,\n",
       " 221350.0460756143,\n",
       " 152659.94287901558,\n",
       " 139487.5786300235,\n",
       " 122411.72447089784,\n",
       " 160717.527306743,\n",
       " 122411.72447089784,\n",
       " 283872.53918789164,\n",
       " 286355.3609084997,\n",
       " 286355.3609084997,\n",
       " 346156.7382182623,\n",
       " 349350.7063036818,\n",
       " 238445.83212356677,\n",
       " 313046.0289891122,\n",
       " 201093.5986670046,\n",
       " 236327.4984522781,\n",
       " 244219.11583540606,\n",
       " 165629.17857650996,\n",
       " 236072.27310294483,\n",
       " 150587.23471572346,\n",
       " 208318.3339696221,\n",
       " 186153.14015464185,\n",
       " 211161.79145428352,\n",
       " 201807.68777350124,\n",
       " 135796.1104710497,\n",
       " 130733.03061587909,\n",
       " 249917.97792941757,\n",
       " 278496.4463342801,\n",
       " 195417.11436219962,\n",
       " 215682.82034029128,\n",
       " 272372.7859964304,\n",
       " 306592.3110861841,\n",
       " 188341.30731867434,\n",
       " 273147.7462911523,\n",
       " 158296.17126065685,\n",
       " 130014.38448759264,\n",
       " 130896.92277768652,\n",
       " 103450.0532280513,\n",
       " 144697.11124709697,\n",
       " 124584.33591095009,\n",
       " 143116.73080789114,\n",
       " 128783.8807960081,\n",
       " 136027.4232160665,\n",
       " 118015.09971429006,\n",
       " 158287.20244660592,\n",
       " 160079.36576085145,\n",
       " 160715.23473420777,\n",
       " 136661.8024431495,\n",
       " 209187.50034653977,\n",
       " 128550.9692432145,\n",
       " 181139.23755505998,\n",
       " 186907.30081202122,\n",
       " 196344.22675153398,\n",
       " 109981.95161011704,\n",
       " 137465.70579704948,\n",
       " 116677.94505426541,\n",
       " 193155.7379199439,\n",
       " 364651.7237407435,\n",
       " 153975.58820280392,\n",
       " 66495.29590247615,\n",
       " 340211.6939251906,\n",
       " 72749.67241362904,\n",
       " 256516.28494487895,\n",
       " 139300.48556027404,\n",
       " 167210.09538252137,\n",
       " 159019.67214464073,\n",
       " 414620.60027325444,\n",
       " 334795.5363020126,\n",
       " 197079.5484751998,\n",
       " 237922.7861016799,\n",
       " 217357.20907988073,\n",
       " 434965.00519451045,\n",
       " 142435.89635968176,\n",
       " 173220.72512399527,\n",
       " 127434.41582129485,\n",
       " 130472.47995500662,\n",
       " 136912.46914294097,\n",
       " 135711.1707574116,\n",
       " 151862.46706699132,\n",
       " 172294.91210362565,\n",
       " 165098.73665047172,\n",
       " 175397.39982427596,\n",
       " 183251.95580351233,\n",
       " 164130.44338007527,\n",
       " 246816.2228576782,\n",
       " 189305.6535010852,\n",
       " 166516.13232955776,\n",
       " 195077.29123073939,\n",
       " 208927.8409566028,\n",
       " 334776.8314563243,\n",
       " 365790.6428359132,\n",
       " 136762.68668917188,\n",
       " 306704.6557751871,\n",
       " 166849.4773129317,\n",
       " 266501.39778031025,\n",
       " 175065.15962379728,\n",
       " 272355.7423453402,\n",
       " 224941.003251696,\n",
       " 164084.7010271137,\n",
       " 193208.9004253918,\n",
       " 122777.94633876707,\n",
       " 307817.1645261077,\n",
       " 131658.03506558482,\n",
       " 343376.7748263065,\n",
       " 141344.76895388588,\n",
       " 110975.1716324517,\n",
       " 114329.79834351134,\n",
       " 91916.14673950162,\n",
       " 101968.93755172164,\n",
       " 119580.97389042811,\n",
       " 142065.28384406224,\n",
       " 153304.81581860717,\n",
       " 284193.636931486,\n",
       " 430814.6640957704,\n",
       " 371195.51340044884,\n",
       " 431219.75809671695,\n",
       " 437660.1373814258,\n",
       " 394675.63771571626,\n",
       " 257907.90961285267,\n",
       " 306791.44722080743,\n",
       " 453944.8492552039,\n",
       " 265350.05335085955,\n",
       " 358221.82608685456,\n",
       " 366770.1314790263,\n",
       " 330714.07617882476,\n",
       " 185819.44038362202,\n",
       " 345423.5062944669,\n",
       " 218115.87032070765,\n",
       " 196549.67378052525,\n",
       " 175347.98894343665,\n",
       " 221378.75322866772,\n",
       " 225368.5242349885,\n",
       " 189117.69805421086,\n",
       " 164914.81075194525,\n",
       " 204701.971501712,\n",
       " 233461.75510294564,\n",
       " 231684.64021980177,\n",
       " 217413.54959996816,\n",
       " 174689.25786411384,\n",
       " 244409.69898827662,\n",
       " 181548.4584868343,\n",
       " 243730.92361826144,\n",
       " 340102.3283171761,\n",
       " 371924.5044017069,\n",
       " 251964.40073516613,\n",
       " 328049.3944160689,\n",
       " 264607.78235205845,\n",
       " 231822.04665069145,\n",
       " 257128.62598092092,\n",
       " 289018.81975013355,\n",
       " 216831.70488031663,\n",
       " 215040.19230729507,\n",
       " 239406.05854984242,\n",
       " 224699.14631973725,\n",
       " 191251.2322277777,\n",
       " 199804.23424067616,\n",
       " 137748.24159385767,\n",
       " 170753.56153359034,\n",
       " 170617.13856033725,\n",
       " 182915.40264065366,\n",
       " 211870.95134148028,\n",
       " 181970.85524883235,\n",
       " 206041.48555802144,\n",
       " 128759.89731090404,\n",
       " 145510.61140227655,\n",
       " 108382.98999599247,\n",
       " 111354.39928379221,\n",
       " 174953.65745141616,\n",
       " 140367.28400944427,\n",
       " 281476.4648499525,\n",
       " 346257.4997912941,\n",
       " 175552.4942736421,\n",
       " 150789.86549660435,\n",
       " 158968.09490941584,\n",
       " 153304.17275935583,\n",
       " 277506.35089916695,\n",
       " 236814.6274174701,\n",
       " 236243.2443455328,\n",
       " 275698.38832345925,\n",
       " 164448.7363566277,\n",
       " 210342.1997683216,\n",
       " 214255.27547080736,\n",
       " 213244.03694769987,\n",
       " 293680.4847584544,\n",
       " 219892.81550072614,\n",
       " 345106.66731974605,\n",
       " 254684.35179174918,\n",
       " 204118.6328652166,\n",
       " 177938.98740761282,\n",
       " 166282.47689271887,\n",
       " 207296.10152530103,\n",
       " 130770.38417093472,\n",
       " 129785.08267932002,\n",
       " 125987.90659090594,\n",
       " 139584.57911851624,\n",
       " 180299.2624273751,\n",
       " 120259.11809571306,\n",
       " 124011.47655087874,\n",
       " 164263.93572070857,\n",
       " 90149.80005402904,\n",
       " 157670.06401259534,\n",
       " 146815.51265085334,\n",
       " 128763.0867278056,\n",
       " 217966.6670565297,\n",
       " 139829.84089887945,\n",
       " 179324.8731625909,\n",
       " 169389.8489858373,\n",
       " 133946.21862470644,\n",
       " 112479.2515083189,\n",
       " 120033.32771576795,\n",
       " 118423.32292173593,\n",
       " 172458.32877393003,\n",
       " 145736.32348831708,\n",
       " 144082.97526822175,\n",
       " 64700.03638138187,\n",
       " 102104.91228368638,\n",
       " 88380.69024831937,\n",
       " 105832.57211122537,\n",
       " 144586.34928871354,\n",
       " 200693.58074710466,\n",
       " 162461.637923988,\n",
       " 117404.38351360778,\n",
       " 148863.72896989464,\n",
       " 120909.56700251237,\n",
       " 127328.14514827312,\n",
       " 116762.38749485003,\n",
       " 125350.27622008137,\n",
       " 117448.25940941126,\n",
       " 131432.85811684176,\n",
       " 106041.42151986567,\n",
       " 112959.43475231616,\n",
       " 109681.73757997483,\n",
       " 117520.75788938178,\n",
       " 107289.18598578282,\n",
       " 78082.3142551753,\n",
       " 125818.70223125514,\n",
       " 135051.64620224354,\n",
       " 135760.30002302947,\n",
       " 117675.78650653483,\n",
       " 135099.8254715589,\n",
       " 134833.98389295867,\n",
       " 75690.37982578285,\n",
       " 120911.73316136234,\n",
       " 133054.53057099998,\n",
       " 66736.89366067963,\n",
       " 104742.14687448568,\n",
       " 119961.31656926274,\n",
       " 123375.87116887729,\n",
       " 103059.46414686444,\n",
       " 155718.66966967157,\n",
       " 134595.28981065896,\n",
       " 85326.07710301424,\n",
       " 198033.25809509386,\n",
       " 109265.57445352465,\n",
       " 115830.59676144086,\n",
       " 134622.77058673315,\n",
       " 145236.96269941956,\n",
       " 141183.74937647887,\n",
       " 119948.73991617511,\n",
       " 126235.50831205316,\n",
       " 162243.46372592857,\n",
       " 129133.80587468421,\n",
       " 156766.64957501215,\n",
       " 121047.91558821886,\n",
       " 115527.63909592615,\n",
       " 135038.85919594084,\n",
       " 98260.04071522961,\n",
       " 122477.438125549,\n",
       " 80629.94172975708,\n",
       " 191707.16461075217,\n",
       " 136402.1103127913,\n",
       " 149324.10255384553,\n",
       " 147404.19077913958,\n",
       " 132238.1599848914,\n",
       " 96859.03017947401,\n",
       " 120472.65793746567,\n",
       " 150342.20130971706,\n",
       " 127324.81904851214,\n",
       " 124414.01474193961,\n",
       " 119893.22585975807,\n",
       " 88145.16710830142,\n",
       " 70439.35023351618,\n",
       " 104123.14225977362,\n",
       " 147917.5208081726,\n",
       " 142151.91332227993,\n",
       " 152446.10917427973,\n",
       " 138147.2352139749,\n",
       " 131185.2246563036,\n",
       " 127865.60219391916,\n",
       " 126195.34541660412,\n",
       " 146243.44221004058,\n",
       " 150606.20758981642,\n",
       " 149900.46863820986,\n",
       " 126152.57860056835,\n",
       " 152672.888508854,\n",
       " 223409.61518123356,\n",
       " 123853.23040998931,\n",
       " 175605.8602555667,\n",
       " 180373.53066150466,\n",
       " 105181.98106843943,\n",
       " 141607.65465433654,\n",
       " 267496.339882568,\n",
       " 234333.32061931965,\n",
       " 238269.60772681696,\n",
       " 198169.47321820422,\n",
       " 176318.7551894745,\n",
       " 237140.86616283073,\n",
       " 464465.2355919386,\n",
       " 369973.89054884214,\n",
       " 264529.46279636683,\n",
       " 167944.42637656903,\n",
       " 143066.11668043572,\n",
       " 219946.21967705607,\n",
       " 200872.41526474847,\n",
       " 185757.12165122048,\n",
       " 225595.93128952745,\n",
       " 153312.58774685298,\n",
       " 133806.92902163052,\n",
       " 182120.47060906223,\n",
       " 225446.35613216035,\n",
       " 297431.6165555443,\n",
       " 316160.2125326456,\n",
       " 242858.734819512,\n",
       " 230872.87005228506,\n",
       " 149629.6791669422,\n",
       " 217539.62054110793,\n",
       " 164992.03115125163,\n",
       " 226235.13297363545,\n",
       " 171977.6196300361,\n",
       " 131057.04276768779,\n",
       " 127063.23485217201,\n",
       " 135471.18409969873,\n",
       " 149355.26054260464,\n",
       " 145780.65989241994,\n",
       " 191613.85008779445,\n",
       " 84856.60373009226,\n",
       " 84396.39059730405,\n",
       " 86476.47228379172,\n",
       " 119641.00563532655,\n",
       " 105543.40111197102,\n",
       " 113344.46923722644,\n",
       " 95843.49368420056,\n",
       " 121384.01660460225,\n",
       " 144908.3513627575,\n",
       " 179677.5752204738,\n",
       " 144327.23864692432,\n",
       " 136881.59871630487,\n",
       " 213484.7854953314,\n",
       " 120959.96029456906,\n",
       " 215031.84987262322,\n",
       " 110932.12668233484,\n",
       " 139014.43101477416,\n",
       " 210155.484251202,\n",
       " 255280.21544856846,\n",
       " 201444.94916430677,\n",
       " 118193.56789359658,\n",
       " 125375.54898829712,\n",
       " 121435.12538846553,\n",
       " 100625.32662620231,\n",
       " 128940.63095010046,\n",
       " 118225.5041391715,\n",
       " 161000.38431701405,\n",
       " 80045.9370848141,\n",
       " 72638.65798422825,\n",
       " 85881.91427483415,\n",
       " 81538.14684583338,\n",
       " 332291.2610343889,\n",
       " 286489.3698041971,\n",
       " 281237.1538922071,\n",
       " 225686.77675364958,\n",
       " 134989.6381507325,\n",
       " 181882.0153280701,\n",
       " 208944.37404169573,\n",
       " 269919.75235419226,\n",
       " 252052.5066578975,\n",
       " 143407.61731188878,\n",
       " 221472.48572573697,\n",
       " 153780.20691626763,\n",
       " 171460.544362271,\n",
       " 243940.5968454364,\n",
       " 204213.05088801228,\n",
       " 269942.533317788,\n",
       " 328853.99663843645,\n",
       " 195681.7281172776,\n",
       " 115667.84931133362,\n",
       " 161529.11071146987,\n",
       " 153793.3242974767,\n",
       " 127926.09609305917,\n",
       " 127791.2320670269,\n",
       " 115757.16394499516,\n",
       " 105779.49025451139,\n",
       " 156969.2236212349,\n",
       " 142755.80621838217,\n",
       " 123807.21925789499,\n",
       " 128556.9946569704,\n",
       " 138321.16001100413,\n",
       " 133609.26943822665,\n",
       " 166132.3874227962,\n",
       " 141050.8145152189,\n",
       " 166860.76916135987,\n",
       " 184215.60619191817,\n",
       " 183148.48779861833,\n",
       " 209862.71928566496,\n",
       " 168728.39698046673,\n",
       " 172917.91161764448,\n",
       " 154168.01052230474,\n",
       " 188425.52595485107,\n",
       " 225634.26742241642,\n",
       " 360449.9320364673,\n",
       " 481456.10864667164,\n",
       " 175324.91836426826,\n",
       " 270071.7668290007,\n",
       " 343302.2719052056,\n",
       " 395184.562985967,\n",
       " 135747.38806704915,\n",
       " 198389.475030155,\n",
       " 222903.17646190128,\n",
       " 221157.55993834676,\n",
       " 175314.2245967306,\n",
       " 179979.00639602914,\n",
       " 166825.5502313278,\n",
       " 194762.57437285857,\n",
       " 176504.2442495124,\n",
       " 140961.55161443714,\n",
       " 140801.6075765896,\n",
       " 130324.0185876503,\n",
       " 164304.0607825422,\n",
       " 177888.00409815312,\n",
       " 112272.24400556828,\n",
       " 106589.43089683935,\n",
       " 148958.33594233642,\n",
       " 124156.67735864717,\n",
       " 368584.981104578,\n",
       " 275993.9207076645,\n",
       " 384895.0535360273,\n",
       " 445587.548050564,\n",
       " 341389.1921189029,\n",
       " 406030.0613460315,\n",
       " 505663.67506023386,\n",
       " 403459.07526296575,\n",
       " 460288.11920934264,\n",
       " 242054.19245239018,\n",
       " 325011.5391367272,\n",
       " 326202.5658926028,\n",
       " 354363.6789495224,\n",
       " 355231.15999556676,\n",
       " 304695.7028956072,\n",
       " 236541.63862501408,\n",
       " 239150.8981500198,\n",
       " 230477.78780351699,\n",
       " 183444.13684994102,\n",
       " 169121.03985786843,\n",
       " 193367.4516741797,\n",
       " 227139.8099499759,\n",
       " 274573.78902731085,\n",
       " 210614.3237228817,\n",
       " 208706.76743657526,\n",
       " 165731.0047535031,\n",
       " 163312.19544889152,\n",
       " 184683.9999770651,\n",
       " 166810.68376548102,\n",
       " 173628.86549340474,\n",
       " 184619.6267660261,\n",
       " 170899.33516439173,\n",
       " 180255.54903553307,\n",
       " 180853.36492344373,\n",
       " 244193.63564321434,\n",
       " 174061.90693809782,\n",
       " 201927.08657325836,\n",
       " 155093.63703009524,\n",
       " 214337.37662788277,\n",
       " 175190.9287067912,\n",
       " 215771.04137514497,\n",
       " 229904.07014457087,\n",
       " 186671.760814641,\n",
       " 173936.686404193,\n",
       " 404773.2338661898,\n",
       " 334351.0062719799,\n",
       " 332183.4191817269,\n",
       " 272194.27691754734,\n",
       " 259152.17286539532,\n",
       " 341364.49752029666,\n",
       " 189326.48329792576,\n",
       " 278577.433152694,\n",
       " 207667.04748001223,\n",
       " 420219.5095622253,\n",
       " 215878.10427817918,\n",
       " 245009.78337353704,\n",
       " 231646.87702456355,\n",
       " 223130.93859284895,\n",
       " 229028.22210875576,\n",
       " 201752.28272781058,\n",
       " 193178.86978392917,\n",
       " 239736.99495843353,\n",
       " 155287.38564421402,\n",
       " 308424.67741979205,\n",
       " 251800.17724125326,\n",
       " 252906.16744733625,\n",
       " 266375.2165531704,\n",
       " 128131.27785694276,\n",
       " 144980.2674066852,\n",
       " 155163.53253911348,\n",
       " 193637.68899607015,\n",
       " 199785.9031864667,\n",
       " 132272.5402238221,\n",
       " 114691.14635181175,\n",
       " 146992.3044643496,\n",
       " 290056.55081394047,\n",
       " 144377.57923596303,\n",
       " 160833.45254000713,\n",
       " 225507.83849802671,\n",
       " 207015.8217528804,\n",
       " 227752.87664306493,\n",
       " 216613.9334993373,\n",
       " 223852.86458378113,\n",
       " 160554.88289018342,\n",
       " 165824.2859991808,\n",
       " 174876.90468315373,\n",
       " 253893.9730865796,\n",
       " 282332.2247838585,\n",
       " 248701.34243282248,\n",
       " 280953.87329558365,\n",
       " 373411.70581282093,\n",
       " 150810.98776200248,\n",
       " 214195.69641103005,\n",
       " 142508.6289363886,\n",
       " 163679.40862789884,\n",
       " 206182.98130165657,\n",
       " 198667.5210048859,\n",
       " 228634.25709320867,\n",
       " 164799.5555215797,\n",
       " 141093.62288391244,\n",
       " 146694.38750149586,\n",
       " 113332.46579738034,\n",
       " 125169.06819764744,\n",
       " 149200.03195848482,\n",
       " 142084.4003602799,\n",
       " 113585.41199970877,\n",
       " 175625.51939002518,\n",
       " 154914.70581379128,\n",
       " 214133.9037557759,\n",
       " 150008.80498590728,\n",
       " 221632.26862494848,\n",
       " 136142.86670560992,\n",
       " 71177.45090864,\n",
       " 64180.94754233178,\n",
       " 111370.59118980113,\n",
       " 140004.9203810371,\n",
       " 142725.30147434567,\n",
       " 158419.80589355875,\n",
       " 146292.57305763912,\n",
       " 150899.32066365285,\n",
       " 123279.59852162063,\n",
       " 153000.41149401906,\n",
       " 126825.73726697007,\n",
       " 165013.3507985892,\n",
       " 115129.01885165868,\n",
       " 153220.69024388585,\n",
       " 129072.02395672753,\n",
       " 154221.09802166597,\n",
       " 133626.3872619328,\n",
       " 121381.26863154361,\n",
       " 127803.32810549784,\n",
       " 133414.19206300186,\n",
       " 117470.91558631157,\n",
       " 131002.4364996246,\n",
       " 139183.2331767519,\n",
       " 135105.83170306933,\n",
       " 146173.91614696934,\n",
       " 156212.67415104475,\n",
       " 183354.31435368425,\n",
       " 130017.61345877848,\n",
       " 126438.53887353378,\n",
       " 185573.0405724097,\n",
       " 115670.86820064881,\n",
       " 129292.62181816381,\n",
       " 124266.25119141088,\n",
       " 151348.27904571226,\n",
       " 149304.63794386687,\n",
       " 131993.6598966248,\n",
       " 143672.218284653,\n",
       " 103866.82616529978,\n",
       " 105488.38265940004,\n",
       " 132484.8816076253,\n",
       " 120936.0153953385,\n",
       " 118192.68786442865,\n",
       " 103391.70481611091,\n",
       " 111036.71125340438,\n",
       " 129237.82975503587,\n",
       " 130507.35726548737,\n",
       " 87257.0606425326,\n",
       " 122681.30747093778,\n",
       " 191009.94551064295,\n",
       " 120233.7857813387,\n",
       " 107568.6097899227,\n",
       " 149227.69968339114,\n",
       " 148553.39369675328,\n",
       " 191858.97619285123,\n",
       " 82761.95780937048,\n",
       " 143056.42334170258,\n",
       " 115882.66159069086,\n",
       " 129257.53843522815,\n",
       " 135388.40786287075,\n",
       " 126732.54553380143,\n",
       " 113895.22399039405,\n",
       " 129298.52613648932,\n",
       " ...]"
      ]
     },
     "execution_count": 130,
     "metadata": {},
     "output_type": "execute_result"
    }
   ],
   "source": [
    "y_competition = model.predict(df_test)\n",
    "len(y_competition.tolist())\n",
    "y_competition.tolist()"
   ]
  },
  {
   "cell_type": "code",
   "execution_count": 116,
   "id": "596506b0",
   "metadata": {},
   "outputs": [],
   "source": [
    "from sklearn.preprocessing import OneHotEncoder\n"
   ]
  },
  {
   "cell_type": "code",
   "execution_count": null,
   "id": "72fba2a0",
   "metadata": {},
   "outputs": [],
   "source": [
    "# #List of categorical columns\n",
    "# categoricalcolumns4 = X.select_dtypes(include=[\"category\"]).columns.tolist()\n",
    "# print(\"Names of categorical columns : \", categoricalcolumns4)\n",
    "# #Get location of categorical columns\n",
    "# cat_features = [X.columns.get_loc(col) for col in categoricalcolumns4]\n",
    "# print(\"Location of categorical columns : \",cat_features)"
   ]
  },
  {
   "cell_type": "code",
   "execution_count": null,
   "id": "edf2869f",
   "metadata": {},
   "outputs": [],
   "source": [
    "# Y_train_dummy_encoded_pandas = pd.get_dummies(Y_train[categoricalcolumns4], drop_first=True)\n",
    "# X_test_dummy_encoded = pd.get_dummies(X_test[vars_categorical], drop_first=True )\n"
   ]
  },
  {
   "cell_type": "code",
   "execution_count": null,
   "id": "e275d076",
   "metadata": {},
   "outputs": [],
   "source": []
  },
  {
   "cell_type": "code",
   "execution_count": 128,
   "id": "ab667c30",
   "metadata": {},
   "outputs": [],
   "source": [
    "# for feature in categoricalcolumns3:\n",
    "#     X[feature] = pd.Series(X[feature],dtype='category')\n",
    "# X.dtypes\n",
    "# ob = list(X.loc[:, X.dtypes =='category'].columns.values)\n",
    "# ob\n",
    "\n",
    "import nbconvert"
   ]
  },
  {
   "cell_type": "code",
   "execution_count": 129,
   "id": "2893c4e9",
   "metadata": {},
   "outputs": [
    {
     "ename": "SyntaxError",
     "evalue": "invalid syntax (1591838459.py, line 1)",
     "output_type": "error",
     "traceback": [
      "\u001b[0;36m  Input \u001b[0;32mIn [129]\u001b[0;36m\u001b[0m\n\u001b[0;31m    jupyter nbconvert --to pdf boost all.ipynb\u001b[0m\n\u001b[0m            ^\u001b[0m\n\u001b[0;31mSyntaxError\u001b[0m\u001b[0;31m:\u001b[0m invalid syntax\n"
     ]
    }
   ],
   "source": [
    "jupyter nbconvert --to pdf boost all.ipynb"
   ]
  },
  {
   "cell_type": "code",
   "execution_count": null,
   "id": "16e970b8",
   "metadata": {},
   "outputs": [],
   "source": []
  },
  {
   "cell_type": "raw",
   "id": "76ae9978",
   "metadata": {},
   "source": []
  },
  {
   "cell_type": "code",
   "execution_count": null,
   "id": "cf29c595",
   "metadata": {},
   "outputs": [],
   "source": [
    "\n"
   ]
  },
  {
   "cell_type": "code",
   "execution_count": null,
   "id": "d723197c",
   "metadata": {},
   "outputs": [],
   "source": []
  },
  {
   "cell_type": "code",
   "execution_count": null,
   "id": "a12c3bcc",
   "metadata": {},
   "outputs": [],
   "source": [
    "#  Identify columns with categorical features\n",
    "# categorical_features_indices = np.where(np.logical_and(X_train.dtypes != np.float64,  X_train.dtypes != np.int64))\n",
    "# categorical_features_indices "
   ]
  },
  {
   "cell_type": "code",
   "execution_count": null,
   "id": "fa30c3b0",
   "metadata": {},
   "outputs": [],
   "source": [
    "# category_object = np.where(X_train.dtypes == np.object)\n",
    "# category_object = obj = df_train[df_train.dtypes[df_train.dtypes == 'object'].index]\n",
    "# category_object"
   ]
  },
  {
   "cell_type": "code",
   "execution_count": null,
   "id": "8e56281f",
   "metadata": {},
   "outputs": [],
   "source": []
  },
  {
   "cell_type": "code",
   "execution_count": null,
   "id": "f7e321f2",
   "metadata": {},
   "outputs": [],
   "source": []
  },
  {
   "cell_type": "code",
   "execution_count": null,
   "id": "3ec1487d",
   "metadata": {},
   "outputs": [],
   "source": []
  },
  {
   "cell_type": "code",
   "execution_count": null,
   "id": "6d024396",
   "metadata": {},
   "outputs": [],
   "source": []
  },
  {
   "cell_type": "code",
   "execution_count": null,
   "id": "d4351462",
   "metadata": {},
   "outputs": [],
   "source": [
    "\n"
   ]
  },
  {
   "cell_type": "code",
   "execution_count": null,
   "id": "5a868408",
   "metadata": {},
   "outputs": [],
   "source": []
  },
  {
   "cell_type": "code",
   "execution_count": null,
   "id": "5e37170a",
   "metadata": {},
   "outputs": [],
   "source": []
  },
  {
   "cell_type": "code",
   "execution_count": null,
   "id": "7b4efbc7",
   "metadata": {},
   "outputs": [],
   "source": []
  }
 ],
 "metadata": {
  "kernelspec": {
   "display_name": "Python 3 (ipykernel)",
   "language": "python",
   "name": "python3"
  },
  "language_info": {
   "codemirror_mode": {
    "name": "ipython",
    "version": 3
   },
   "file_extension": ".py",
   "mimetype": "text/x-python",
   "name": "python",
   "nbconvert_exporter": "python",
   "pygments_lexer": "ipython3",
   "version": "3.10.6"
  }
 },
 "nbformat": 4,
 "nbformat_minor": 5
}
