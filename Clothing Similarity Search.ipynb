{
 "cells": [
  {
   "cell_type": "code",
   "execution_count": 1,
   "id": "901687e3",
   "metadata": {},
   "outputs": [],
   "source": [
    "import pandas as pd\n",
    "import os\n",
    "import numpy as np\n",
    "import swifter\n",
    "import re\n",
    "import string"
   ]
  },
  {
   "cell_type": "code",
   "execution_count": 2,
   "id": "a4c03724",
   "metadata": {},
   "outputs": [],
   "source": [
    "df = pd.read_csv(r'/home/rahul/Downloads/Womens Clothing E-Commerce Reviews.csv')"
   ]
  },
  {
   "cell_type": "code",
   "execution_count": 3,
   "id": "b69c18f1",
   "metadata": {},
   "outputs": [
    {
     "data": {
      "text/html": [
       "<div>\n",
       "<style scoped>\n",
       "    .dataframe tbody tr th:only-of-type {\n",
       "        vertical-align: middle;\n",
       "    }\n",
       "\n",
       "    .dataframe tbody tr th {\n",
       "        vertical-align: top;\n",
       "    }\n",
       "\n",
       "    .dataframe thead th {\n",
       "        text-align: right;\n",
       "    }\n",
       "</style>\n",
       "<table border=\"1\" class=\"dataframe\">\n",
       "  <thead>\n",
       "    <tr style=\"text-align: right;\">\n",
       "      <th></th>\n",
       "      <th>Unnamed: 0</th>\n",
       "      <th>Clothing ID</th>\n",
       "      <th>Age</th>\n",
       "      <th>Title</th>\n",
       "      <th>Review Text</th>\n",
       "      <th>Rating</th>\n",
       "      <th>Recommended IND</th>\n",
       "      <th>Positive Feedback Count</th>\n",
       "      <th>Division Name</th>\n",
       "      <th>Department Name</th>\n",
       "      <th>Class Name</th>\n",
       "    </tr>\n",
       "  </thead>\n",
       "  <tbody>\n",
       "    <tr>\n",
       "      <th>0</th>\n",
       "      <td>0</td>\n",
       "      <td>767</td>\n",
       "      <td>33</td>\n",
       "      <td>NaN</td>\n",
       "      <td>Absolutely wonderful - silky and sexy and comf...</td>\n",
       "      <td>4</td>\n",
       "      <td>1</td>\n",
       "      <td>0</td>\n",
       "      <td>Initmates</td>\n",
       "      <td>Intimate</td>\n",
       "      <td>Intimates</td>\n",
       "    </tr>\n",
       "    <tr>\n",
       "      <th>1</th>\n",
       "      <td>1</td>\n",
       "      <td>1080</td>\n",
       "      <td>34</td>\n",
       "      <td>NaN</td>\n",
       "      <td>Love this dress!  it's sooo pretty.  i happene...</td>\n",
       "      <td>5</td>\n",
       "      <td>1</td>\n",
       "      <td>4</td>\n",
       "      <td>General</td>\n",
       "      <td>Dresses</td>\n",
       "      <td>Dresses</td>\n",
       "    </tr>\n",
       "    <tr>\n",
       "      <th>2</th>\n",
       "      <td>2</td>\n",
       "      <td>1077</td>\n",
       "      <td>60</td>\n",
       "      <td>Some major design flaws</td>\n",
       "      <td>I had such high hopes for this dress and reall...</td>\n",
       "      <td>3</td>\n",
       "      <td>0</td>\n",
       "      <td>0</td>\n",
       "      <td>General</td>\n",
       "      <td>Dresses</td>\n",
       "      <td>Dresses</td>\n",
       "    </tr>\n",
       "    <tr>\n",
       "      <th>3</th>\n",
       "      <td>3</td>\n",
       "      <td>1049</td>\n",
       "      <td>50</td>\n",
       "      <td>My favorite buy!</td>\n",
       "      <td>I love, love, love this jumpsuit. it's fun, fl...</td>\n",
       "      <td>5</td>\n",
       "      <td>1</td>\n",
       "      <td>0</td>\n",
       "      <td>General Petite</td>\n",
       "      <td>Bottoms</td>\n",
       "      <td>Pants</td>\n",
       "    </tr>\n",
       "    <tr>\n",
       "      <th>4</th>\n",
       "      <td>4</td>\n",
       "      <td>847</td>\n",
       "      <td>47</td>\n",
       "      <td>Flattering shirt</td>\n",
       "      <td>This shirt is very flattering to all due to th...</td>\n",
       "      <td>5</td>\n",
       "      <td>1</td>\n",
       "      <td>6</td>\n",
       "      <td>General</td>\n",
       "      <td>Tops</td>\n",
       "      <td>Blouses</td>\n",
       "    </tr>\n",
       "  </tbody>\n",
       "</table>\n",
       "</div>"
      ],
      "text/plain": [
       "   Unnamed: 0  Clothing ID  Age                    Title  \\\n",
       "0           0          767   33                      NaN   \n",
       "1           1         1080   34                      NaN   \n",
       "2           2         1077   60  Some major design flaws   \n",
       "3           3         1049   50         My favorite buy!   \n",
       "4           4          847   47         Flattering shirt   \n",
       "\n",
       "                                         Review Text  Rating  Recommended IND  \\\n",
       "0  Absolutely wonderful - silky and sexy and comf...       4                1   \n",
       "1  Love this dress!  it's sooo pretty.  i happene...       5                1   \n",
       "2  I had such high hopes for this dress and reall...       3                0   \n",
       "3  I love, love, love this jumpsuit. it's fun, fl...       5                1   \n",
       "4  This shirt is very flattering to all due to th...       5                1   \n",
       "\n",
       "   Positive Feedback Count   Division Name Department Name Class Name  \n",
       "0                        0       Initmates        Intimate  Intimates  \n",
       "1                        4         General         Dresses    Dresses  \n",
       "2                        0         General         Dresses    Dresses  \n",
       "3                        0  General Petite         Bottoms      Pants  \n",
       "4                        6         General            Tops    Blouses  "
      ]
     },
     "execution_count": 3,
     "metadata": {},
     "output_type": "execute_result"
    }
   ],
   "source": [
    "df.head()"
   ]
  },
  {
   "cell_type": "code",
   "execution_count": 4,
   "id": "d8e772d6",
   "metadata": {},
   "outputs": [
    {
     "data": {
      "text/plain": [
       "Index(['Unnamed: 0', 'Clothing ID', 'Age', 'Title', 'Review Text', 'Rating',\n",
       "       'Recommended IND', 'Positive Feedback Count', 'Division Name',\n",
       "       'Department Name', 'Class Name'],\n",
       "      dtype='object')"
      ]
     },
     "execution_count": 4,
     "metadata": {},
     "output_type": "execute_result"
    }
   ],
   "source": [
    "df.columns"
   ]
  },
  {
   "cell_type": "code",
   "execution_count": 5,
   "id": "0b6f58de",
   "metadata": {},
   "outputs": [],
   "source": [
    "df.drop(columns=['Unnamed: 0', 'Clothing ID', 'Age', 'Title', 'Recommended IND','Positive Feedback Count',\n",
    "                 'Division Name', 'Class Name','Department Name'], axis = 0, inplace = True)"
   ]
  },
  {
   "cell_type": "code",
   "execution_count": 6,
   "id": "75fab68f",
   "metadata": {},
   "outputs": [
    {
     "data": {
      "text/html": [
       "<div>\n",
       "<style scoped>\n",
       "    .dataframe tbody tr th:only-of-type {\n",
       "        vertical-align: middle;\n",
       "    }\n",
       "\n",
       "    .dataframe tbody tr th {\n",
       "        vertical-align: top;\n",
       "    }\n",
       "\n",
       "    .dataframe thead th {\n",
       "        text-align: right;\n",
       "    }\n",
       "</style>\n",
       "<table border=\"1\" class=\"dataframe\">\n",
       "  <thead>\n",
       "    <tr style=\"text-align: right;\">\n",
       "      <th></th>\n",
       "      <th>Review Text</th>\n",
       "      <th>Rating</th>\n",
       "    </tr>\n",
       "  </thead>\n",
       "  <tbody>\n",
       "    <tr>\n",
       "      <th>0</th>\n",
       "      <td>Absolutely wonderful - silky and sexy and comf...</td>\n",
       "      <td>4</td>\n",
       "    </tr>\n",
       "    <tr>\n",
       "      <th>1</th>\n",
       "      <td>Love this dress!  it's sooo pretty.  i happene...</td>\n",
       "      <td>5</td>\n",
       "    </tr>\n",
       "    <tr>\n",
       "      <th>2</th>\n",
       "      <td>I had such high hopes for this dress and reall...</td>\n",
       "      <td>3</td>\n",
       "    </tr>\n",
       "    <tr>\n",
       "      <th>3</th>\n",
       "      <td>I love, love, love this jumpsuit. it's fun, fl...</td>\n",
       "      <td>5</td>\n",
       "    </tr>\n",
       "    <tr>\n",
       "      <th>4</th>\n",
       "      <td>This shirt is very flattering to all due to th...</td>\n",
       "      <td>5</td>\n",
       "    </tr>\n",
       "    <tr>\n",
       "      <th>...</th>\n",
       "      <td>...</td>\n",
       "      <td>...</td>\n",
       "    </tr>\n",
       "    <tr>\n",
       "      <th>23481</th>\n",
       "      <td>I was very happy to snag this dress at such a ...</td>\n",
       "      <td>5</td>\n",
       "    </tr>\n",
       "    <tr>\n",
       "      <th>23482</th>\n",
       "      <td>It reminds me of maternity clothes. soft, stre...</td>\n",
       "      <td>3</td>\n",
       "    </tr>\n",
       "    <tr>\n",
       "      <th>23483</th>\n",
       "      <td>This fit well, but the top was very see throug...</td>\n",
       "      <td>3</td>\n",
       "    </tr>\n",
       "    <tr>\n",
       "      <th>23484</th>\n",
       "      <td>I bought this dress for a wedding i have this ...</td>\n",
       "      <td>3</td>\n",
       "    </tr>\n",
       "    <tr>\n",
       "      <th>23485</th>\n",
       "      <td>This dress in a lovely platinum is feminine an...</td>\n",
       "      <td>5</td>\n",
       "    </tr>\n",
       "  </tbody>\n",
       "</table>\n",
       "<p>23486 rows × 2 columns</p>\n",
       "</div>"
      ],
      "text/plain": [
       "                                             Review Text  Rating\n",
       "0      Absolutely wonderful - silky and sexy and comf...       4\n",
       "1      Love this dress!  it's sooo pretty.  i happene...       5\n",
       "2      I had such high hopes for this dress and reall...       3\n",
       "3      I love, love, love this jumpsuit. it's fun, fl...       5\n",
       "4      This shirt is very flattering to all due to th...       5\n",
       "...                                                  ...     ...\n",
       "23481  I was very happy to snag this dress at such a ...       5\n",
       "23482  It reminds me of maternity clothes. soft, stre...       3\n",
       "23483  This fit well, but the top was very see throug...       3\n",
       "23484  I bought this dress for a wedding i have this ...       3\n",
       "23485  This dress in a lovely platinum is feminine an...       5\n",
       "\n",
       "[23486 rows x 2 columns]"
      ]
     },
     "execution_count": 6,
     "metadata": {},
     "output_type": "execute_result"
    }
   ],
   "source": [
    "df"
   ]
  },
  {
   "cell_type": "code",
   "execution_count": null,
   "id": "ef831c55",
   "metadata": {},
   "outputs": [],
   "source": []
  },
  {
   "cell_type": "markdown",
   "id": "a9a68232",
   "metadata": {},
   "source": [
    "## Change the columns name"
   ]
  },
  {
   "cell_type": "code",
   "execution_count": 7,
   "id": "8aa32628",
   "metadata": {},
   "outputs": [],
   "source": [
    "df.rename(columns = {'Review Text':'description_of_a_clothing_item','Rating':'ranked_list'}, inplace = True)"
   ]
  },
  {
   "cell_type": "code",
   "execution_count": 8,
   "id": "13aa113c",
   "metadata": {},
   "outputs": [
    {
     "data": {
      "text/plain": [
       "5    13131\n",
       "4     5077\n",
       "3     2871\n",
       "2     1565\n",
       "1      842\n",
       "Name: ranked_list, dtype: int64"
      ]
     },
     "execution_count": 8,
     "metadata": {},
     "output_type": "execute_result"
    }
   ],
   "source": [
    "df.ranked_list.value_counts()"
   ]
  },
  {
   "cell_type": "code",
   "execution_count": 9,
   "id": "dd86a31a",
   "metadata": {},
   "outputs": [
    {
     "data": {
      "text/plain": [
       "description_of_a_clothing_item    3.597888\n",
       "ranked_list                       0.000000\n",
       "dtype: float64"
      ]
     },
     "execution_count": 9,
     "metadata": {},
     "output_type": "execute_result"
    }
   ],
   "source": [
    "# Checking Null Value\n",
    "df.isnull().sum()/len(df)*100"
   ]
  },
  {
   "cell_type": "code",
   "execution_count": 10,
   "id": "5c1ae9cf",
   "metadata": {},
   "outputs": [],
   "source": [
    "df.dropna(inplace = True)"
   ]
  },
  {
   "cell_type": "code",
   "execution_count": 11,
   "id": "a280cc31",
   "metadata": {},
   "outputs": [
    {
     "data": {
      "text/plain": [
       "description_of_a_clothing_item    0.0\n",
       "ranked_list                       0.0\n",
       "dtype: float64"
      ]
     },
     "execution_count": 11,
     "metadata": {},
     "output_type": "execute_result"
    }
   ],
   "source": [
    "df.isnull().sum()/len(df)*100"
   ]
  },
  {
   "cell_type": "code",
   "execution_count": 12,
   "id": "29012669",
   "metadata": {},
   "outputs": [
    {
     "data": {
      "text/plain": [
       "(22641, 2)"
      ]
     },
     "execution_count": 12,
     "metadata": {},
     "output_type": "execute_result"
    }
   ],
   "source": [
    "df.shape"
   ]
  },
  {
   "cell_type": "code",
   "execution_count": 13,
   "id": "f7b94e31",
   "metadata": {},
   "outputs": [
    {
     "data": {
      "text/html": [
       "<div>\n",
       "<style scoped>\n",
       "    .dataframe tbody tr th:only-of-type {\n",
       "        vertical-align: middle;\n",
       "    }\n",
       "\n",
       "    .dataframe tbody tr th {\n",
       "        vertical-align: top;\n",
       "    }\n",
       "\n",
       "    .dataframe thead th {\n",
       "        text-align: right;\n",
       "    }\n",
       "</style>\n",
       "<table border=\"1\" class=\"dataframe\">\n",
       "  <thead>\n",
       "    <tr style=\"text-align: right;\">\n",
       "      <th></th>\n",
       "      <th>description_of_a_clothing_item</th>\n",
       "      <th>ranked_list</th>\n",
       "    </tr>\n",
       "  </thead>\n",
       "  <tbody>\n",
       "    <tr>\n",
       "      <th>10067</th>\n",
       "      <td>Perfect fit and i've gotten so many compliment...</td>\n",
       "      <td>5</td>\n",
       "    </tr>\n",
       "    <tr>\n",
       "      <th>11074</th>\n",
       "      <td>Lightweight, soft cotton top and shorts. i thi...</td>\n",
       "      <td>5</td>\n",
       "    </tr>\n",
       "    <tr>\n",
       "      <th>12526</th>\n",
       "      <td>I purchased this and another eva franco dress ...</td>\n",
       "      <td>2</td>\n",
       "    </tr>\n",
       "    <tr>\n",
       "      <th>13354</th>\n",
       "      <td>Perfect fit and i've gotten so many compliment...</td>\n",
       "      <td>5</td>\n",
       "    </tr>\n",
       "    <tr>\n",
       "      <th>14275</th>\n",
       "      <td>I bought this shirt at the store and after goi...</td>\n",
       "      <td>5</td>\n",
       "    </tr>\n",
       "    <tr>\n",
       "      <th>21470</th>\n",
       "      <td>The sweater and skirt are so pretty! they're r...</td>\n",
       "      <td>5</td>\n",
       "    </tr>\n",
       "    <tr>\n",
       "      <th>21888</th>\n",
       "      <td>Love, love these jeans. being short they come ...</td>\n",
       "      <td>5</td>\n",
       "    </tr>\n",
       "  </tbody>\n",
       "</table>\n",
       "</div>"
      ],
      "text/plain": [
       "                          description_of_a_clothing_item  ranked_list\n",
       "10067  Perfect fit and i've gotten so many compliment...            5\n",
       "11074  Lightweight, soft cotton top and shorts. i thi...            5\n",
       "12526  I purchased this and another eva franco dress ...            2\n",
       "13354  Perfect fit and i've gotten so many compliment...            5\n",
       "14275  I bought this shirt at the store and after goi...            5\n",
       "21470  The sweater and skirt are so pretty! they're r...            5\n",
       "21888  Love, love these jeans. being short they come ...            5"
      ]
     },
     "execution_count": 13,
     "metadata": {},
     "output_type": "execute_result"
    }
   ],
   "source": [
    "# Checking Duplicate Value\n",
    "df[df.duplicated()]"
   ]
  },
  {
   "cell_type": "code",
   "execution_count": 14,
   "id": "8b714018",
   "metadata": {},
   "outputs": [],
   "source": [
    "df.drop_duplicates(inplace = True)"
   ]
  },
  {
   "cell_type": "code",
   "execution_count": 15,
   "id": "197f765a",
   "metadata": {},
   "outputs": [
    {
     "data": {
      "text/plain": [
       "(22634, 2)"
      ]
     },
     "execution_count": 15,
     "metadata": {},
     "output_type": "execute_result"
    }
   ],
   "source": [
    "df.shape"
   ]
  },
  {
   "cell_type": "markdown",
   "id": "fc45fe28",
   "metadata": {},
   "source": [
    "## Text Preprocessing"
   ]
  },
  {
   "cell_type": "code",
   "execution_count": 16,
   "id": "4a115c41",
   "metadata": {},
   "outputs": [],
   "source": [
    "class text_preprocess:\n",
    "    \n",
    "    def __init__(self):\n",
    "        pass\n",
    "\n",
    "    def convert_to_lower(self, text):\n",
    "        return text.lower()\n",
    "\n",
    "    def remove_emojis(self, text):\n",
    "        text = re.sub(r\"(?:\\@|https?\\://)\\S+\", \" \", text) #remove links and mentions\n",
    "        text = re.sub(r\"<.*?>\",\" \",text)\n",
    "\n",
    "        wierd_pattern = re.compile(\"[\"\n",
    "            u\"\\U0001F600-\\U0001F64F\"  # emotions\n",
    "            u\"\\U0001F300-\\U0001F5FF\"  # symbols & pictographs\n",
    "            u\"\\U0001F680-\\U0001F6FF\"  # transport & map symbols\n",
    "            u\"\\U0001F1E0-\\U0001F1FF\"  # flags (iOS)\n",
    "            u\"\\U00002702-\\U000027B0\"\n",
    "            u\"\\U000024C2-\\U0001F251\"\n",
    "            u\"\\U0001f926-\\U0001f937\"\n",
    "            u'\\U00010000-\\U0010ffff'\n",
    "            u\"\\u200d\"\n",
    "            u\"\\u2640-\\u2642\"\n",
    "            u\"\\u2600-\\u2B55\"\n",
    "            u\"\\u23cf\"\n",
    "            u\"\\u23e9\"\n",
    "            u\"\\u231a\"\n",
    "            u\"\\u3030\"\n",
    "            u\"\\ufe0f\"\n",
    "            u\"\\u2069\"\n",
    "            u\"\\u2066\"\n",
    "            u\"\\u200c\"\n",
    "            u\"\\u2068\"\n",
    "            u\"\\u2067\"\n",
    "            \"]+\", flags=re.UNICODE)\n",
    "\n",
    "        rm_emoji = wierd_pattern.sub(r'', text)\n",
    "        return rm_emoji\n",
    "\n",
    "    def remove_html(self, text):\n",
    "        html = re.compile(r'<.*?>|&([a-z0-9]+|#[0-9]{1,6}|#x[0-9a-f]{1,6});')\n",
    "        rm_html = re.sub(html, ' ', text)\n",
    "        return rm_html\n",
    "\n",
    "    def remove_URL(self,text):\n",
    "        url = re.compile(r'https?://\\S+|www\\.\\S+')\n",
    "        URL = url.sub(r' ', text)\n",
    "        return URL\n",
    "    \n",
    "    def remove_non_ascii(self, text):\n",
    "        return re.sub(r'[^\\x00-\\x7f]',r' ', text) # or ''.join([x for x in text if x in string.printable]) \n",
    "    \n",
    "    \n",
    "    def remove_numbers(self, text):\n",
    "        number_pattern = r'\\d+'\n",
    "        without_number = re.sub(pattern=number_pattern, repl=\" \", string=text)\n",
    "        return without_number\n",
    "\n",
    "\n",
    "    def remove_punctuation(self,text):\n",
    "        return text.translate(str.maketrans(' ', ' ', string.punctuation))\n",
    "\n",
    "\n",
    "    def remove_extra_white_spaces(self, text):\n",
    "        single_char_pattern = re.compile(r'\\s+[a-zA-Z]\\s+')\n",
    "        without_sc = re.sub(single_char_pattern, r\" \", text)\n",
    "#         without_sc = text.replace(' ', '')\n",
    "        return without_sc\n",
    "\n",
    "\n",
    "    def preprocessText(self,text):            \n",
    "        return self.remove_extra_white_spaces(self.remove_non_ascii(self.remove_URL(self.remove_html(self.remove_punctuation(self.remove_numbers(self.remove_emojis(self.convert_to_lower(text))))))))\n",
    "\n",
    "     "
   ]
  },
  {
   "cell_type": "code",
   "execution_count": 17,
   "id": "d570199a",
   "metadata": {},
   "outputs": [
    {
     "data": {
      "application/vnd.jupyter.widget-view+json": {
       "model_id": "2d6cc4bb87c2412398a592145f5fc701",
       "version_major": 2,
       "version_minor": 0
      },
      "text/plain": [
       "Pandas Apply:   0%|          | 0/22634 [00:00<?, ?it/s]"
      ]
     },
     "metadata": {},
     "output_type": "display_data"
    }
   ],
   "source": [
    "if __name__ == \"__main__\":    \n",
    "    text_prpocess_obj = text_preprocess()\n",
    "    df.description_of_a_clothing_item = df.description_of_a_clothing_item.swifter.apply(lambda x: text_prpocess_obj.preprocessText(x))"
   ]
  },
  {
   "cell_type": "code",
   "execution_count": 18,
   "id": "ea62a9b1",
   "metadata": {},
   "outputs": [
    {
     "data": {
      "text/plain": [
       "0        absolutely wonderful  silky and sexy and comfo...\n",
       "1        love this dress  its sooo pretty happened to f...\n",
       "2        i had such high hopes for this dress and reall...\n",
       "3        i love love love this jumpsuit its fun flirty ...\n",
       "4        this shirt is very flattering to all due to th...\n",
       "                               ...                        \n",
       "23481    i was very happy to snag this dress at such gr...\n",
       "23482    it reminds me of maternity clothes soft stretc...\n",
       "23483    this fit well but the top was very see through...\n",
       "23484    i bought this dress for wedding have this summ...\n",
       "23485    this dress in lovely platinum is feminine and ...\n",
       "Name: description_of_a_clothing_item, Length: 22634, dtype: object"
      ]
     },
     "execution_count": 18,
     "metadata": {},
     "output_type": "execute_result"
    }
   ],
   "source": [
    "df.description_of_a_clothing_item"
   ]
  },
  {
   "cell_type": "code",
   "execution_count": 19,
   "id": "840f6ad1",
   "metadata": {},
   "outputs": [
    {
     "data": {
      "text/html": [
       "<div>\n",
       "<style scoped>\n",
       "    .dataframe tbody tr th:only-of-type {\n",
       "        vertical-align: middle;\n",
       "    }\n",
       "\n",
       "    .dataframe tbody tr th {\n",
       "        vertical-align: top;\n",
       "    }\n",
       "\n",
       "    .dataframe thead th {\n",
       "        text-align: right;\n",
       "    }\n",
       "</style>\n",
       "<table border=\"1\" class=\"dataframe\">\n",
       "  <thead>\n",
       "    <tr style=\"text-align: right;\">\n",
       "      <th></th>\n",
       "      <th>description_of_a_clothing_item</th>\n",
       "      <th>ranked_list</th>\n",
       "    </tr>\n",
       "  </thead>\n",
       "  <tbody>\n",
       "    <tr>\n",
       "      <th>0</th>\n",
       "      <td>absolutely wonderful  silky and sexy and comfo...</td>\n",
       "      <td>4</td>\n",
       "    </tr>\n",
       "    <tr>\n",
       "      <th>1</th>\n",
       "      <td>love this dress  its sooo pretty happened to f...</td>\n",
       "      <td>5</td>\n",
       "    </tr>\n",
       "    <tr>\n",
       "      <th>2</th>\n",
       "      <td>i had such high hopes for this dress and reall...</td>\n",
       "      <td>3</td>\n",
       "    </tr>\n",
       "    <tr>\n",
       "      <th>3</th>\n",
       "      <td>i love love love this jumpsuit its fun flirty ...</td>\n",
       "      <td>5</td>\n",
       "    </tr>\n",
       "    <tr>\n",
       "      <th>4</th>\n",
       "      <td>this shirt is very flattering to all due to th...</td>\n",
       "      <td>5</td>\n",
       "    </tr>\n",
       "    <tr>\n",
       "      <th>...</th>\n",
       "      <td>...</td>\n",
       "      <td>...</td>\n",
       "    </tr>\n",
       "    <tr>\n",
       "      <th>23481</th>\n",
       "      <td>i was very happy to snag this dress at such gr...</td>\n",
       "      <td>5</td>\n",
       "    </tr>\n",
       "    <tr>\n",
       "      <th>23482</th>\n",
       "      <td>it reminds me of maternity clothes soft stretc...</td>\n",
       "      <td>3</td>\n",
       "    </tr>\n",
       "    <tr>\n",
       "      <th>23483</th>\n",
       "      <td>this fit well but the top was very see through...</td>\n",
       "      <td>3</td>\n",
       "    </tr>\n",
       "    <tr>\n",
       "      <th>23484</th>\n",
       "      <td>i bought this dress for wedding have this summ...</td>\n",
       "      <td>3</td>\n",
       "    </tr>\n",
       "    <tr>\n",
       "      <th>23485</th>\n",
       "      <td>this dress in lovely platinum is feminine and ...</td>\n",
       "      <td>5</td>\n",
       "    </tr>\n",
       "  </tbody>\n",
       "</table>\n",
       "<p>22634 rows × 2 columns</p>\n",
       "</div>"
      ],
      "text/plain": [
       "                          description_of_a_clothing_item  ranked_list\n",
       "0      absolutely wonderful  silky and sexy and comfo...            4\n",
       "1      love this dress  its sooo pretty happened to f...            5\n",
       "2      i had such high hopes for this dress and reall...            3\n",
       "3      i love love love this jumpsuit its fun flirty ...            5\n",
       "4      this shirt is very flattering to all due to th...            5\n",
       "...                                                  ...          ...\n",
       "23481  i was very happy to snag this dress at such gr...            5\n",
       "23482  it reminds me of maternity clothes soft stretc...            3\n",
       "23483  this fit well but the top was very see through...            3\n",
       "23484  i bought this dress for wedding have this summ...            3\n",
       "23485  this dress in lovely platinum is feminine and ...            5\n",
       "\n",
       "[22634 rows x 2 columns]"
      ]
     },
     "execution_count": 19,
     "metadata": {},
     "output_type": "execute_result"
    }
   ],
   "source": [
    "df"
   ]
  },
  {
   "cell_type": "markdown",
   "id": "8ddfc81c",
   "metadata": {},
   "source": [
    "## Tokenization"
   ]
  },
  {
   "cell_type": "code",
   "execution_count": 20,
   "id": "5e7db375",
   "metadata": {},
   "outputs": [
    {
     "name": "stderr",
     "output_type": "stream",
     "text": [
      "2023-05-19 17:29:29.196210: I tensorflow/core/platform/cpu_feature_guard.cc:193] This TensorFlow binary is optimized with oneAPI Deep Neural Network Library (oneDNN) to use the following CPU instructions in performance-critical operations:  AVX2 FMA\n",
      "To enable them in other operations, rebuild TensorFlow with the appropriate compiler flags.\n",
      "2023-05-19 17:29:30.448440: W tensorflow/compiler/xla/stream_executor/platform/default/dso_loader.cc:64] Could not load dynamic library 'libnvinfer.so.7'; dlerror: libnvinfer.so.7: cannot open shared object file: No such file or directory\n",
      "2023-05-19 17:29:30.448669: W tensorflow/compiler/xla/stream_executor/platform/default/dso_loader.cc:64] Could not load dynamic library 'libnvinfer_plugin.so.7'; dlerror: libnvinfer_plugin.so.7: cannot open shared object file: No such file or directory\n",
      "2023-05-19 17:29:30.448687: W tensorflow/compiler/tf2tensorrt/utils/py_utils.cc:38] TF-TRT Warning: Cannot dlopen some TensorRT libraries. If you would like to use Nvidia GPU with TensorRT, please make sure the missing libraries mentioned above are installed properly.\n",
      "2023-05-19 17:29:31.275638: W tensorflow/compiler/xla/stream_executor/platform/default/dso_loader.cc:64] Could not load dynamic library 'libcuda.so.1'; dlerror: libcuda.so.1: cannot open shared object file: No such file or directory\n",
      "2023-05-19 17:29:31.275676: W tensorflow/compiler/xla/stream_executor/cuda/cuda_driver.cc:265] failed call to cuInit: UNKNOWN ERROR (303)\n",
      "2023-05-19 17:29:31.275709: I tensorflow/compiler/xla/stream_executor/cuda/cuda_diagnostics.cc:156] kernel driver does not appear to be running on this host (rahul-Vostro-14-3468): /proc/driver/nvidia/version does not exist\n"
     ]
    }
   ],
   "source": [
    "from spacy.lang.en import English\n",
    "from spacy.lang.en.stop_words import STOP_WORDS\n",
    "\n",
    "# Load English tokenizer, tagger, parser, NER and word vectors\n",
    "nlp = English()"
   ]
  },
  {
   "cell_type": "code",
   "execution_count": 21,
   "id": "5fd853fc",
   "metadata": {},
   "outputs": [],
   "source": [
    "# Tokenizing the description_of_a_clothing_item base texts.\n",
    "def tokenize(text):\n",
    "    my_doc = nlp(text)\n",
    "    token_list = []\n",
    "    for token in my_doc:\n",
    "        token_list.append(token.text)\n",
    "    return token_list   "
   ]
  },
  {
   "cell_type": "code",
   "execution_count": 22,
   "id": "86704798",
   "metadata": {},
   "outputs": [
    {
     "data": {
      "application/vnd.jupyter.widget-view+json": {
       "model_id": "cc0327ff5b7346f0a6a3f78f57fa7054",
       "version_major": 2,
       "version_minor": 0
      },
      "text/plain": [
       "Pandas Apply:   0%|          | 0/22634 [00:00<?, ?it/s]"
      ]
     },
     "metadata": {},
     "output_type": "display_data"
    }
   ],
   "source": [
    "\n",
    "df.description_of_a_clothing_item = df.description_of_a_clothing_item.swifter.apply(lambda x: tokenize(x))"
   ]
  },
  {
   "cell_type": "code",
   "execution_count": 23,
   "id": "c74fc366",
   "metadata": {},
   "outputs": [
    {
     "data": {
      "text/plain": [
       "0        [absolutely, wonderful,  , silky, and, sexy, a...\n",
       "1        [love, this, dress,  , its, sooo, pretty, happ...\n",
       "2        [i, had, such, high, hopes, for, this, dress, ...\n",
       "3        [i, love, love, love, this, jumpsuit, its, fun...\n",
       "4        [this, shirt, is, very, flattering, to, all, d...\n",
       "                               ...                        \n",
       "23481    [i, was, very, happy, to, snag, this, dress, a...\n",
       "23482    [it, reminds, me, of, maternity, clothes, soft...\n",
       "23483    [this, fit, well, but, the, top, was, very, se...\n",
       "23484    [i, bought, this, dress, for, wedding, have, t...\n",
       "23485    [this, dress, in, lovely, platinum, is, femini...\n",
       "Name: description_of_a_clothing_item, Length: 22634, dtype: object"
      ]
     },
     "execution_count": 23,
     "metadata": {},
     "output_type": "execute_result"
    }
   ],
   "source": [
    "df.description_of_a_clothing_item"
   ]
  },
  {
   "cell_type": "markdown",
   "id": "7b3de95f",
   "metadata": {},
   "source": [
    "## Remove stopwords"
   ]
  },
  {
   "cell_type": "code",
   "execution_count": 24,
   "id": "49a0c39c",
   "metadata": {},
   "outputs": [],
   "source": [
    "def remove_stopwords(text):    \n",
    "    filtered_sentence =[] \n",
    "    for word in text:\n",
    "        lexeme = nlp.vocab[word]\n",
    "        if lexeme.is_stop == False:\n",
    "            filtered_sentence.append(word) \n",
    "    return \" \".join(filtered_sentence)"
   ]
  },
  {
   "cell_type": "code",
   "execution_count": 25,
   "id": "8338862a",
   "metadata": {},
   "outputs": [
    {
     "data": {
      "application/vnd.jupyter.widget-view+json": {
       "model_id": "bc6a4da807ff4bdba8512f6068a7fb65",
       "version_major": 2,
       "version_minor": 0
      },
      "text/plain": [
       "Pandas Apply:   0%|          | 0/22634 [00:00<?, ?it/s]"
      ]
     },
     "metadata": {},
     "output_type": "display_data"
    }
   ],
   "source": [
    "df.description_of_a_clothing_item = df.description_of_a_clothing_item.swifter.apply(lambda x: remove_stopwords(x))"
   ]
  },
  {
   "cell_type": "code",
   "execution_count": 26,
   "id": "ac06c4e5",
   "metadata": {},
   "outputs": [
    {
     "data": {
      "text/plain": [
       "0            absolutely wonderful   silky sexy comfortable\n",
       "1        love dress   sooo pretty happened find store m...\n",
       "2        high hopes dress wanted work initially ordered...\n",
       "3        love love love jumpsuit fun flirty fabulous ti...\n",
       "4        shirt flattering adjustable tie perfect length...\n",
       "                               ...                        \n",
       "23481    happy snag dress great price easy slip flatter...\n",
       "23482    reminds maternity clothes soft stretchy shiny ...\n",
       "23483    fit worked m glad able try store nt order onli...\n",
       "23484    bought dress wedding summer cute unfortunately...\n",
       "23485    dress lovely platinum feminine fits perfectly ...\n",
       "Name: description_of_a_clothing_item, Length: 22634, dtype: object"
      ]
     },
     "execution_count": 26,
     "metadata": {},
     "output_type": "execute_result"
    }
   ],
   "source": [
    "df.description_of_a_clothing_item"
   ]
  },
  {
   "cell_type": "markdown",
   "id": "ee6b766d",
   "metadata": {},
   "source": [
    "## Lemmatization"
   ]
  },
  {
   "cell_type": "code",
   "execution_count": 27,
   "id": "7c64e5d3",
   "metadata": {},
   "outputs": [
    {
     "name": "stderr",
     "output_type": "stream",
     "text": [
      "[nltk_data] Downloading package words to /home/rahul/nltk_data...\n",
      "[nltk_data]   Package words is already up-to-date!\n",
      "[nltk_data] Downloading package wordnet to /home/rahul/nltk_data...\n",
      "[nltk_data]   Package wordnet is already up-to-date!\n",
      "[nltk_data] Downloading package omw-1.4 to /home/rahul/nltk_data...\n",
      "[nltk_data]   Package omw-1.4 is already up-to-date!\n"
     ]
    }
   ],
   "source": [
    "from nltk.stem import WordNetLemmatizer\n",
    "import nltk\n",
    "\n",
    "nltk.download('words')\n",
    "nltk.download('wordnet')\n",
    "nltk.download('omw-1.4')\n",
    "\n",
    "\n",
    "w_tokenizer = nltk.tokenize.WhitespaceTokenizer()\n",
    "lemmatizer = WordNetLemmatizer()\n",
    "\n",
    "words = set(nltk.corpus.words.words())\n",
    "# words = nltk.word_tokenize(corpus)\n",
    "\n",
    "class lemmatization:\n",
    "    \n",
    "    def __init__(self):\n",
    "        pass\n",
    "    \n",
    "    def lemmatizing_space(self, text):   \n",
    "        return \" \".join([lemmatizer.lemmatize(w) for w in w_tokenizer.tokenize(text)])"
   ]
  },
  {
   "cell_type": "code",
   "execution_count": 28,
   "id": "1e3b9b46",
   "metadata": {},
   "outputs": [
    {
     "data": {
      "application/vnd.jupyter.widget-view+json": {
       "model_id": "8e9c8ccabf6c47fa83aaf8cda377de08",
       "version_major": 2,
       "version_minor": 0
      },
      "text/plain": [
       "Pandas Apply:   0%|          | 0/22634 [00:00<?, ?it/s]"
      ]
     },
     "metadata": {},
     "output_type": "display_data"
    }
   ],
   "source": [
    "if __name__ == \"__main__\":\n",
    "  lemmatization_obj = lemmatization()\n",
    "  df.description_of_a_clothing_item = df.description_of_a_clothing_item.swifter.apply(lambda x: lemmatization_obj.lemmatizing_space(x))"
   ]
  },
  {
   "cell_type": "code",
   "execution_count": 29,
   "id": "b58d6783",
   "metadata": {},
   "outputs": [
    {
     "data": {
      "text/plain": [
       "0              absolutely wonderful silky sexy comfortable\n",
       "1        love dress sooo pretty happened find store m g...\n",
       "2        high hope dress wanted work initially ordered ...\n",
       "3        love love love jumpsuit fun flirty fabulous ti...\n",
       "4        shirt flattering adjustable tie perfect length...\n",
       "                               ...                        \n",
       "23481    happy snag dress great price easy slip flatter...\n",
       "23482    reminds maternity clothes soft stretchy shiny ...\n",
       "23483    fit worked m glad able try store nt order onli...\n",
       "23484    bought dress wedding summer cute unfortunately...\n",
       "23485    dress lovely platinum feminine fit perfectly e...\n",
       "Name: description_of_a_clothing_item, Length: 22634, dtype: object"
      ]
     },
     "execution_count": 29,
     "metadata": {},
     "output_type": "execute_result"
    }
   ],
   "source": [
    "df.description_of_a_clothing_item"
   ]
  },
  {
   "cell_type": "markdown",
   "id": "0dac7ff9",
   "metadata": {},
   "source": [
    "## Fasttext\n",
    "FastText is an open-source, free, lightweight library that allows users to learn text representations and text classifiers.\n",
    "\n",
    "** FastText, by Facebook Research, is a library for efficient learning of word representations and text classification. FastText supports supervised (classifications) and unsupervised (embedding) representations of words and sentences.**"
   ]
  },
  {
   "cell_type": "code",
   "execution_count": 30,
   "id": "711fbf5a",
   "metadata": {},
   "outputs": [],
   "source": [
    "#data split for train and test\n",
    "\n",
    "from sklearn.model_selection import train_test_split\n",
    "\n",
    "train, test = train_test_split(df, test_size = 0.1, random_state = 2529, stratify = df.ranked_list)\n",
    "train.reset_index(drop=True, inplace=True)\n",
    "test.reset_index(drop=True, inplace=True)"
   ]
  },
  {
   "cell_type": "code",
   "execution_count": 31,
   "id": "ea6bd60a",
   "metadata": {},
   "outputs": [
    {
     "data": {
      "text/html": [
       "<div>\n",
       "<style scoped>\n",
       "    .dataframe tbody tr th:only-of-type {\n",
       "        vertical-align: middle;\n",
       "    }\n",
       "\n",
       "    .dataframe tbody tr th {\n",
       "        vertical-align: top;\n",
       "    }\n",
       "\n",
       "    .dataframe thead th {\n",
       "        text-align: right;\n",
       "    }\n",
       "</style>\n",
       "<table border=\"1\" class=\"dataframe\">\n",
       "  <thead>\n",
       "    <tr style=\"text-align: right;\">\n",
       "      <th></th>\n",
       "      <th>description_of_a_clothing_item</th>\n",
       "      <th>ranked_list</th>\n",
       "    </tr>\n",
       "  </thead>\n",
       "  <tbody>\n",
       "    <tr>\n",
       "      <th>0</th>\n",
       "      <td>absolutely wonderful silky sexy comfortable</td>\n",
       "      <td>4</td>\n",
       "    </tr>\n",
       "    <tr>\n",
       "      <th>1</th>\n",
       "      <td>love dress sooo pretty happened find store m g...</td>\n",
       "      <td>5</td>\n",
       "    </tr>\n",
       "    <tr>\n",
       "      <th>2</th>\n",
       "      <td>high hope dress wanted work initially ordered ...</td>\n",
       "      <td>3</td>\n",
       "    </tr>\n",
       "    <tr>\n",
       "      <th>3</th>\n",
       "      <td>love love love jumpsuit fun flirty fabulous ti...</td>\n",
       "      <td>5</td>\n",
       "    </tr>\n",
       "    <tr>\n",
       "      <th>4</th>\n",
       "      <td>shirt flattering adjustable tie perfect length...</td>\n",
       "      <td>5</td>\n",
       "    </tr>\n",
       "    <tr>\n",
       "      <th>...</th>\n",
       "      <td>...</td>\n",
       "      <td>...</td>\n",
       "    </tr>\n",
       "    <tr>\n",
       "      <th>23481</th>\n",
       "      <td>happy snag dress great price easy slip flatter...</td>\n",
       "      <td>5</td>\n",
       "    </tr>\n",
       "    <tr>\n",
       "      <th>23482</th>\n",
       "      <td>reminds maternity clothes soft stretchy shiny ...</td>\n",
       "      <td>3</td>\n",
       "    </tr>\n",
       "    <tr>\n",
       "      <th>23483</th>\n",
       "      <td>fit worked m glad able try store nt order onli...</td>\n",
       "      <td>3</td>\n",
       "    </tr>\n",
       "    <tr>\n",
       "      <th>23484</th>\n",
       "      <td>bought dress wedding summer cute unfortunately...</td>\n",
       "      <td>3</td>\n",
       "    </tr>\n",
       "    <tr>\n",
       "      <th>23485</th>\n",
       "      <td>dress lovely platinum feminine fit perfectly e...</td>\n",
       "      <td>5</td>\n",
       "    </tr>\n",
       "  </tbody>\n",
       "</table>\n",
       "<p>22634 rows × 2 columns</p>\n",
       "</div>"
      ],
      "text/plain": [
       "                          description_of_a_clothing_item  ranked_list\n",
       "0            absolutely wonderful silky sexy comfortable            4\n",
       "1      love dress sooo pretty happened find store m g...            5\n",
       "2      high hope dress wanted work initially ordered ...            3\n",
       "3      love love love jumpsuit fun flirty fabulous ti...            5\n",
       "4      shirt flattering adjustable tie perfect length...            5\n",
       "...                                                  ...          ...\n",
       "23481  happy snag dress great price easy slip flatter...            5\n",
       "23482  reminds maternity clothes soft stretchy shiny ...            3\n",
       "23483  fit worked m glad able try store nt order onli...            3\n",
       "23484  bought dress wedding summer cute unfortunately...            3\n",
       "23485  dress lovely platinum feminine fit perfectly e...            5\n",
       "\n",
       "[22634 rows x 2 columns]"
      ]
     },
     "execution_count": 31,
     "metadata": {},
     "output_type": "execute_result"
    }
   ],
   "source": [
    "df"
   ]
  },
  {
   "cell_type": "code",
   "execution_count": 32,
   "id": "b2ff2308",
   "metadata": {},
   "outputs": [],
   "source": [
    "#Data prepare for fasttext format for train\n",
    "\n",
    "train[\"ranked_format\"] = 0\n",
    "    \n",
    "for i in train.index:\n",
    "    train.loc[i, 'ranked_format'] = \"__ranked_list__\" +str(train.ranked_list[i])+\" \"+str(train.description_of_a_clothing_item[i])"
   ]
  },
  {
   "cell_type": "code",
   "execution_count": 33,
   "id": "6f490697",
   "metadata": {},
   "outputs": [
    {
     "data": {
      "text/html": [
       "<div>\n",
       "<style scoped>\n",
       "    .dataframe tbody tr th:only-of-type {\n",
       "        vertical-align: middle;\n",
       "    }\n",
       "\n",
       "    .dataframe tbody tr th {\n",
       "        vertical-align: top;\n",
       "    }\n",
       "\n",
       "    .dataframe thead th {\n",
       "        text-align: right;\n",
       "    }\n",
       "</style>\n",
       "<table border=\"1\" class=\"dataframe\">\n",
       "  <thead>\n",
       "    <tr style=\"text-align: right;\">\n",
       "      <th></th>\n",
       "      <th>description_of_a_clothing_item</th>\n",
       "      <th>ranked_list</th>\n",
       "      <th>ranked_format</th>\n",
       "    </tr>\n",
       "  </thead>\n",
       "  <tbody>\n",
       "    <tr>\n",
       "      <th>0</th>\n",
       "      <td>great quality product unique design</td>\n",
       "      <td>5</td>\n",
       "      <td>__ranked_list__5 great quality product unique ...</td>\n",
       "    </tr>\n",
       "    <tr>\n",
       "      <th>1</th>\n",
       "      <td>absolutely love dress quality perfection desig...</td>\n",
       "      <td>5</td>\n",
       "      <td>__ranked_list__5 absolutely love dress quality...</td>\n",
       "    </tr>\n",
       "    <tr>\n",
       "      <th>2</th>\n",
       "      <td>love simple stylish shirt fabric soft fit true...</td>\n",
       "      <td>5</td>\n",
       "      <td>__ranked_list__5 love simple stylish shirt fab...</td>\n",
       "    </tr>\n",
       "    <tr>\n",
       "      <th>3</th>\n",
       "      <td>saw sweater big llama face knew ordered eagerl...</td>\n",
       "      <td>3</td>\n",
       "      <td>__ranked_list__3 saw sweater big llama face kn...</td>\n",
       "    </tr>\n",
       "    <tr>\n",
       "      <th>4</th>\n",
       "      <td>gorgeous print purchased recommend love larger...</td>\n",
       "      <td>5</td>\n",
       "      <td>__ranked_list__5 gorgeous print purchased reco...</td>\n",
       "    </tr>\n",
       "    <tr>\n",
       "      <th>...</th>\n",
       "      <td>...</td>\n",
       "      <td>...</td>\n",
       "      <td>...</td>\n",
       "    </tr>\n",
       "    <tr>\n",
       "      <th>20365</th>\n",
       "      <td>love sweater gotten compliment comfortable uni...</td>\n",
       "      <td>5</td>\n",
       "      <td>__ranked_list__5 love sweater gotten complimen...</td>\n",
       "    </tr>\n",
       "    <tr>\n",
       "      <th>20366</th>\n",
       "      <td>skirt ladylike light air cherry red color beau...</td>\n",
       "      <td>5</td>\n",
       "      <td>__ranked_list__5 skirt ladylike light air cher...</td>\n",
       "    </tr>\n",
       "    <tr>\n",
       "      <th>20367</th>\n",
       "      <td>thought getting nice light weight white sweate...</td>\n",
       "      <td>3</td>\n",
       "      <td>__ranked_list__3 thought getting nice light we...</td>\n",
       "    </tr>\n",
       "    <tr>\n",
       "      <th>20368</th>\n",
       "      <td>like dress color great style cute casual perfe...</td>\n",
       "      <td>4</td>\n",
       "      <td>__ranked_list__4 like dress color great style ...</td>\n",
       "    </tr>\n",
       "    <tr>\n",
       "      <th>20369</th>\n",
       "      <td>dress beautifullovely color designbut huuuge m...</td>\n",
       "      <td>4</td>\n",
       "      <td>__ranked_list__4 dress beautifullovely color d...</td>\n",
       "    </tr>\n",
       "  </tbody>\n",
       "</table>\n",
       "<p>20370 rows × 3 columns</p>\n",
       "</div>"
      ],
      "text/plain": [
       "                          description_of_a_clothing_item  ranked_list  \\\n",
       "0                    great quality product unique design            5   \n",
       "1      absolutely love dress quality perfection desig...            5   \n",
       "2      love simple stylish shirt fabric soft fit true...            5   \n",
       "3      saw sweater big llama face knew ordered eagerl...            3   \n",
       "4      gorgeous print purchased recommend love larger...            5   \n",
       "...                                                  ...          ...   \n",
       "20365  love sweater gotten compliment comfortable uni...            5   \n",
       "20366  skirt ladylike light air cherry red color beau...            5   \n",
       "20367  thought getting nice light weight white sweate...            3   \n",
       "20368  like dress color great style cute casual perfe...            4   \n",
       "20369  dress beautifullovely color designbut huuuge m...            4   \n",
       "\n",
       "                                           ranked_format  \n",
       "0      __ranked_list__5 great quality product unique ...  \n",
       "1      __ranked_list__5 absolutely love dress quality...  \n",
       "2      __ranked_list__5 love simple stylish shirt fab...  \n",
       "3      __ranked_list__3 saw sweater big llama face kn...  \n",
       "4      __ranked_list__5 gorgeous print purchased reco...  \n",
       "...                                                  ...  \n",
       "20365  __ranked_list__5 love sweater gotten complimen...  \n",
       "20366  __ranked_list__5 skirt ladylike light air cher...  \n",
       "20367  __ranked_list__3 thought getting nice light we...  \n",
       "20368  __ranked_list__4 like dress color great style ...  \n",
       "20369  __ranked_list__4 dress beautifullovely color d...  \n",
       "\n",
       "[20370 rows x 3 columns]"
      ]
     },
     "execution_count": 33,
     "metadata": {},
     "output_type": "execute_result"
    }
   ],
   "source": [
    "train"
   ]
  },
  {
   "cell_type": "code",
   "execution_count": 34,
   "id": "3aad5d20",
   "metadata": {},
   "outputs": [],
   "source": [
    "#Data prepare for fasttext format for train\n",
    "\n",
    "test[\"ranked_format\"] = 0\n",
    "    \n",
    "for i in test.index:\n",
    "    test.loc[i, 'ranked_format'] = \"__ranked_list__\" +str(test.ranked_list[i])+\" \"+str(test.description_of_a_clothing_item[i])"
   ]
  },
  {
   "cell_type": "code",
   "execution_count": 35,
   "id": "34cd6041",
   "metadata": {},
   "outputs": [
    {
     "data": {
      "text/html": [
       "<div>\n",
       "<style scoped>\n",
       "    .dataframe tbody tr th:only-of-type {\n",
       "        vertical-align: middle;\n",
       "    }\n",
       "\n",
       "    .dataframe tbody tr th {\n",
       "        vertical-align: top;\n",
       "    }\n",
       "\n",
       "    .dataframe thead th {\n",
       "        text-align: right;\n",
       "    }\n",
       "</style>\n",
       "<table border=\"1\" class=\"dataframe\">\n",
       "  <thead>\n",
       "    <tr style=\"text-align: right;\">\n",
       "      <th></th>\n",
       "      <th>description_of_a_clothing_item</th>\n",
       "      <th>ranked_list</th>\n",
       "      <th>ranked_format</th>\n",
       "    </tr>\n",
       "  </thead>\n",
       "  <tbody>\n",
       "    <tr>\n",
       "      <th>0</th>\n",
       "      <td>ordered color usual size eptites size smaller ...</td>\n",
       "      <td>5</td>\n",
       "      <td>__ranked_list__5 ordered color usual size epti...</td>\n",
       "    </tr>\n",
       "    <tr>\n",
       "      <th>1</th>\n",
       "      <td>suit fit like glove ve kid currently nursing b...</td>\n",
       "      <td>5</td>\n",
       "      <td>__ranked_list__5 suit fit like glove ve kid cu...</td>\n",
       "    </tr>\n",
       "    <tr>\n",
       "      <th>2</th>\n",
       "      <td>liked purchased color green wine color exactly...</td>\n",
       "      <td>5</td>\n",
       "      <td>__ranked_list__5 liked purchased color green w...</td>\n",
       "    </tr>\n",
       "    <tr>\n",
       "      <th>3</th>\n",
       "      <td>material horrible heavy cheap skirt flow appea...</td>\n",
       "      <td>1</td>\n",
       "      <td>__ranked_list__1 material horrible heavy cheap...</td>\n",
       "    </tr>\n",
       "    <tr>\n",
       "      <th>4</th>\n",
       "      <td>awesome tshirt m glad finally went sale eying ...</td>\n",
       "      <td>5</td>\n",
       "      <td>__ranked_list__5 awesome tshirt m glad finally...</td>\n",
       "    </tr>\n",
       "    <tr>\n",
       "      <th>...</th>\n",
       "      <td>...</td>\n",
       "      <td>...</td>\n",
       "      <td>...</td>\n",
       "    </tr>\n",
       "    <tr>\n",
       "      <th>2259</th>\n",
       "      <td>got compliment dress time wore know work offic...</td>\n",
       "      <td>4</td>\n",
       "      <td>__ranked_list__4 got compliment dress time wor...</td>\n",
       "    </tr>\n",
       "    <tr>\n",
       "      <th>2260</th>\n",
       "      <td>ve wanted vest past year find perfect material...</td>\n",
       "      <td>5</td>\n",
       "      <td>__ranked_list__5 ve wanted vest past year find...</td>\n",
       "    </tr>\n",
       "    <tr>\n",
       "      <th>2261</th>\n",
       "      <td>concept sweater pretty usual size xl fit perfe...</td>\n",
       "      <td>4</td>\n",
       "      <td>__ranked_list__4 concept sweater pretty usual ...</td>\n",
       "    </tr>\n",
       "    <tr>\n",
       "      <th>2262</th>\n",
       "      <td>shirt adorable butit nt work m smaller gal lar...</td>\n",
       "      <td>2</td>\n",
       "      <td>__ranked_list__2 shirt adorable butit nt work ...</td>\n",
       "    </tr>\n",
       "    <tr>\n",
       "      <th>2263</th>\n",
       "      <td>dress adorable ruffle cute detail bit transpar...</td>\n",
       "      <td>5</td>\n",
       "      <td>__ranked_list__5 dress adorable ruffle cute de...</td>\n",
       "    </tr>\n",
       "  </tbody>\n",
       "</table>\n",
       "<p>2264 rows × 3 columns</p>\n",
       "</div>"
      ],
      "text/plain": [
       "                         description_of_a_clothing_item  ranked_list  \\\n",
       "0     ordered color usual size eptites size smaller ...            5   \n",
       "1     suit fit like glove ve kid currently nursing b...            5   \n",
       "2     liked purchased color green wine color exactly...            5   \n",
       "3     material horrible heavy cheap skirt flow appea...            1   \n",
       "4     awesome tshirt m glad finally went sale eying ...            5   \n",
       "...                                                 ...          ...   \n",
       "2259  got compliment dress time wore know work offic...            4   \n",
       "2260  ve wanted vest past year find perfect material...            5   \n",
       "2261  concept sweater pretty usual size xl fit perfe...            4   \n",
       "2262  shirt adorable butit nt work m smaller gal lar...            2   \n",
       "2263  dress adorable ruffle cute detail bit transpar...            5   \n",
       "\n",
       "                                          ranked_format  \n",
       "0     __ranked_list__5 ordered color usual size epti...  \n",
       "1     __ranked_list__5 suit fit like glove ve kid cu...  \n",
       "2     __ranked_list__5 liked purchased color green w...  \n",
       "3     __ranked_list__1 material horrible heavy cheap...  \n",
       "4     __ranked_list__5 awesome tshirt m glad finally...  \n",
       "...                                                 ...  \n",
       "2259  __ranked_list__4 got compliment dress time wor...  \n",
       "2260  __ranked_list__5 ve wanted vest past year find...  \n",
       "2261  __ranked_list__4 concept sweater pretty usual ...  \n",
       "2262  __ranked_list__2 shirt adorable butit nt work ...  \n",
       "2263  __ranked_list__5 dress adorable ruffle cute de...  \n",
       "\n",
       "[2264 rows x 3 columns]"
      ]
     },
     "execution_count": 35,
     "metadata": {},
     "output_type": "execute_result"
    }
   ],
   "source": [
    "test"
   ]
  },
  {
   "cell_type": "code",
   "execution_count": 36,
   "id": "a0b4e34d",
   "metadata": {},
   "outputs": [],
   "source": [
    "import fasttext"
   ]
  },
  {
   "cell_type": "code",
   "execution_count": 37,
   "id": "5b3f352a",
   "metadata": {},
   "outputs": [],
   "source": [
    "train.ranked_format.to_csv('fasttext_train.txt',index=None,header=None)"
   ]
  },
  {
   "cell_type": "code",
   "execution_count": 38,
   "id": "1818d7af",
   "metadata": {},
   "outputs": [],
   "source": [
    "test.ranked_format.to_csv('fasttext_test.txt',index=None,header=None)"
   ]
  },
  {
   "cell_type": "code",
   "execution_count": 39,
   "id": "2ceb7970",
   "metadata": {},
   "outputs": [
    {
     "name": "stderr",
     "output_type": "stream",
     "text": [
      "Read 0M words\n",
      "Number of words:  15697\n",
      "Number of labels: 5\n",
      "Progress: 100.0% words/sec/thread: 1672910 lr:  0.000000 avg.loss:  0.567465 ETA:   0h 0m 0s\n"
     ]
    }
   ],
   "source": [
    "#train classifier model\n",
    "model = fasttext.train_supervised('fasttext_train.txt', epoch= 250, lr=0.01, label_prefix= '__ranked_list__', dim=100)"
   ]
  },
  {
   "cell_type": "code",
   "execution_count": 40,
   "id": "8511b264",
   "metadata": {},
   "outputs": [
    {
     "data": {
      "text/plain": [
       "(2264, 0.5980565371024735, 0.5980565371024735)"
      ]
     },
     "execution_count": 40,
     "metadata": {},
     "output_type": "execute_result"
    }
   ],
   "source": [
    "#test fasttext model\n",
    "model.test('fasttext_test.txt')"
   ]
  },
  {
   "cell_type": "code",
   "execution_count": 41,
   "id": "fda58dcd",
   "metadata": {},
   "outputs": [],
   "source": [
    "result = model.test('fasttext_train.txt')\n",
    "validation = model.test('fasttext_test.txt')"
   ]
  },
  {
   "cell_type": "code",
   "execution_count": 42,
   "id": "9eb82a4a",
   "metadata": {},
   "outputs": [
    {
     "name": "stdout",
     "output_type": "stream",
     "text": [
      "accuracy:0.8782523318605793,validation:0.5980565371024735\n",
      "\n"
     ]
    }
   ],
   "source": [
    "# DISPLAY ACCURACY OF TRAINED MODEL\n",
    "text_line =  \"accuracy:\" + str(result[1])  +  \",validation:\" + str(validation[1]) + '\\n' \n",
    "print(text_line)"
   ]
  },
  {
   "cell_type": "code",
   "execution_count": 43,
   "id": "bbe402e7",
   "metadata": {},
   "outputs": [
    {
     "data": {
      "text/plain": [
       "(('__ranked_list__5',), array([0.98276168]))"
      ]
     },
     "execution_count": 43,
     "metadata": {},
     "output_type": "execute_result"
    }
   ],
   "source": [
    "model.predict('fabric incredibly soft good weight pretty warm jacket warm sweatshirt fit close body typical bomber jacket fashion m lb went large fit find wishing bomber jacket tad longer exception nt fault jacket true style')"
   ]
  },
  {
   "cell_type": "code",
   "execution_count": 44,
   "id": "1f355fda",
   "metadata": {},
   "outputs": [
    {
     "data": {
      "text/plain": [
       "(('__ranked_list__2',), array([0.69800901]))"
      ]
     },
     "execution_count": 44,
     "metadata": {},
     "output_type": "execute_result"
    }
   ],
   "source": [
    "model.predict('loved way shirt looked forgiving flattering lightweight fabric nt withstand half day wear snagging time developing hole right center idea happened nt wearing near pulled shame staple wardrobe piece')"
   ]
  },
  {
   "cell_type": "code",
   "execution_count": 45,
   "id": "b350e1ff",
   "metadata": {},
   "outputs": [
    {
     "data": {
      "text/plain": [
       "(('__ranked_list__1',), array([0.75059617]))"
      ]
     },
     "execution_count": 45,
     "metadata": {},
     "output_type": "execute_result"
    }
   ],
   "source": [
    "model.predict('poor quality material look thinner cheaper pictured')"
   ]
  },
  {
   "cell_type": "code",
   "execution_count": 46,
   "id": "51f29381",
   "metadata": {},
   "outputs": [
    {
     "data": {
      "text/plain": [
       "(('__ranked_list__5',), array([0.98638785]))"
      ]
     },
     "execution_count": 46,
     "metadata": {},
     "output_type": "execute_result"
    }
   ],
   "source": [
    "model.predict('normally wear large medium review ordered med ve worn small love m glad ordered')"
   ]
  },
  {
   "cell_type": "code",
   "execution_count": 47,
   "id": "d0275fdb",
   "metadata": {},
   "outputs": [
    {
     "data": {
      "text/plain": [
       "(('__ranked_list__2',), array([0.65594465]))"
      ]
     },
     "execution_count": 47,
     "metadata": {},
     "output_type": "execute_result"
    }
   ],
   "source": [
    "model.predict('shirt adorable butit nt work m smaller gal lar')"
   ]
  },
  {
   "cell_type": "code",
   "execution_count": null,
   "id": "ef5c606d",
   "metadata": {},
   "outputs": [],
   "source": []
  }
 ],
 "metadata": {
  "kernelspec": {
   "display_name": "Python 3 (ipykernel)",
   "language": "python",
   "name": "python3"
  },
  "language_info": {
   "codemirror_mode": {
    "name": "ipython",
    "version": 3
   },
   "file_extension": ".py",
   "mimetype": "text/x-python",
   "name": "python",
   "nbconvert_exporter": "python",
   "pygments_lexer": "ipython3",
   "version": "3.10.6"
  }
 },
 "nbformat": 4,
 "nbformat_minor": 5
}
