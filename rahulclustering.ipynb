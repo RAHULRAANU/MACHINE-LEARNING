{
 "cells": [
  {
   "cell_type": "code",
   "execution_count": 1,
   "id": "501c1219",
   "metadata": {},
   "outputs": [
    {
     "name": "stderr",
     "output_type": "stream",
     "text": [
      "2023-04-10 12:36:52.782257: I tensorflow/core/platform/cpu_feature_guard.cc:193] This TensorFlow binary is optimized with oneAPI Deep Neural Network Library (oneDNN) to use the following CPU instructions in performance-critical operations:  AVX2 FMA\n",
      "To enable them in other operations, rebuild TensorFlow with the appropriate compiler flags.\n",
      "2023-04-10 12:36:53.711143: W tensorflow/compiler/xla/stream_executor/platform/default/dso_loader.cc:64] Could not load dynamic library 'libnvinfer.so.7'; dlerror: libnvinfer.so.7: cannot open shared object file: No such file or directory\n",
      "2023-04-10 12:36:53.711257: W tensorflow/compiler/xla/stream_executor/platform/default/dso_loader.cc:64] Could not load dynamic library 'libnvinfer_plugin.so.7'; dlerror: libnvinfer_plugin.so.7: cannot open shared object file: No such file or directory\n",
      "2023-04-10 12:36:53.711269: W tensorflow/compiler/tf2tensorrt/utils/py_utils.cc:38] TF-TRT Warning: Cannot dlopen some TensorRT libraries. If you would like to use Nvidia GPU with TensorRT, please make sure the missing libraries mentioned above are installed properly.\n",
      "2023-04-10 12:36:54.431678: W tensorflow/compiler/xla/stream_executor/platform/default/dso_loader.cc:64] Could not load dynamic library 'libcuda.so.1'; dlerror: libcuda.so.1: cannot open shared object file: No such file or directory\n",
      "2023-04-10 12:36:54.431705: W tensorflow/compiler/xla/stream_executor/cuda/cuda_driver.cc:265] failed call to cuInit: UNKNOWN ERROR (303)\n",
      "2023-04-10 12:36:54.431730: I tensorflow/compiler/xla/stream_executor/cuda/cuda_diagnostics.cc:156] kernel driver does not appear to be running on this host (ubuntu-OptiPlex-3040): /proc/driver/nvidia/version does not exist\n"
     ]
    }
   ],
   "source": [
    "import pandas as pd\n",
    "import numpy as np\n",
    "import nltk\n",
    "import lxml.html\n",
    "import re\n",
    "import string\n",
    "import gensim\n",
    "import matplotlib.pyplot as plt \n",
    "from textacy import preprocessing\n",
    "from nltk.corpus import stopwords\n",
    "from nltk.stem.wordnet import WordNetLemmatizer\n",
    "import matplotlib.pyplot as plt\n",
    "import seaborn as sns\n",
    "import nltk\n",
    "from nltk.corpus import stopwords\n",
    "import os\n",
    "import nltk\n",
    "\n",
    "from nltk.corpus import stopwords\n",
    "# nltk.download('stopwords')  \n",
    "# nltk.download('punkt')\n",
    "# nltk.download('wordnet')\n",
    "# nltk.download('averaged_perceptron_tagger')\n",
    "from nltk.tokenize import word_tokenize\n",
    "import swifter\n",
    "# Importing Libraries\n",
    "from sklearn.linear_model import LogisticRegression\n",
    "from sklearn.model_selection import train_test_split\n",
    "from sklearn.metrics import f1_score\n",
    "\n",
    "import warnings\n",
    "warnings.filterwarnings('ignore')"
   ]
  },
  {
   "cell_type": "code",
   "execution_count": 2,
   "id": "dfa78960",
   "metadata": {},
   "outputs": [],
   "source": [
    "# df = pd.read_csv(r\"/home/ubuntu/Downloads/text_to_cluster.txt\", sep = \"\\t\", header=None,  names=[\"texts\"])"
   ]
  },
  {
   "cell_type": "code",
   "execution_count": 3,
   "id": "1e50e2c2",
   "metadata": {},
   "outputs": [
    {
     "data": {
      "text/html": [
       "<div>\n",
       "<style scoped>\n",
       "    .dataframe tbody tr th:only-of-type {\n",
       "        vertical-align: middle;\n",
       "    }\n",
       "\n",
       "    .dataframe tbody tr th {\n",
       "        vertical-align: top;\n",
       "    }\n",
       "\n",
       "    .dataframe thead th {\n",
       "        text-align: right;\n",
       "    }\n",
       "</style>\n",
       "<table border=\"1\" class=\"dataframe\">\n",
       "  <thead>\n",
       "    <tr style=\"text-align: right;\">\n",
       "      <th></th>\n",
       "      <th>texts</th>\n",
       "    </tr>\n",
       "  </thead>\n",
       "  <tbody>\n",
       "    <tr>\n",
       "      <th>0</th>\n",
       "      <td>Ransomware attack at Mexico's Pemex halts work...</td>\n",
       "    </tr>\n",
       "    <tr>\n",
       "      <th>1</th>\n",
       "      <td>#city | #ransomware | Ransomware Attack At Mex...</td>\n",
       "    </tr>\n",
       "    <tr>\n",
       "      <th>2</th>\n",
       "      <td>Mexico's Pemex Oil Suffers Ransomware Attack, ...</td>\n",
       "    </tr>\n",
       "    <tr>\n",
       "      <th>3</th>\n",
       "      <td>A Mexican oil company was hit by ransomware at...</td>\n",
       "    </tr>\n",
       "    <tr>\n",
       "      <th>4</th>\n",
       "      <td>Pemex Struck by Ransomware Attack\\n</td>\n",
       "    </tr>\n",
       "  </tbody>\n",
       "</table>\n",
       "</div>"
      ],
      "text/plain": [
       "                                               texts\n",
       "0  Ransomware attack at Mexico's Pemex halts work...\n",
       "1  #city | #ransomware | Ransomware Attack At Mex...\n",
       "2  Mexico's Pemex Oil Suffers Ransomware Attack, ...\n",
       "3  A Mexican oil company was hit by ransomware at...\n",
       "4                Pemex Struck by Ransomware Attack\\n"
      ]
     },
     "execution_count": 3,
     "metadata": {},
     "output_type": "execute_result"
    }
   ],
   "source": [
    "texts_filepath = r\"/home/ubuntu/Downloads/text_to_cluster.txt\"\n",
    "\n",
    "with open(texts_filepath) as infile:\n",
    "    data = infile.readlines()\n",
    "    \n",
    "texts_df = pd.DataFrame(data={\"texts\": data}, columns=[\"texts\"])\n",
    "texts_df.head()"
   ]
  },
  {
   "cell_type": "code",
   "execution_count": 4,
   "id": "7e803ec8",
   "metadata": {},
   "outputs": [
    {
     "data": {
      "text/plain": [
       "((684, 1), 684)"
      ]
     },
     "execution_count": 4,
     "metadata": {},
     "output_type": "execute_result"
    }
   ],
   "source": [
    "texts_df.shape, texts_df.size"
   ]
  },
  {
   "cell_type": "code",
   "execution_count": 5,
   "id": "b33c5f0e",
   "metadata": {},
   "outputs": [
    {
     "data": {
      "text/plain": [
       "0      False\n",
       "1      False\n",
       "2      False\n",
       "3      False\n",
       "4      False\n",
       "       ...  \n",
       "679     True\n",
       "680     True\n",
       "681     True\n",
       "682     True\n",
       "683     True\n",
       "Length: 684, dtype: bool"
      ]
     },
     "execution_count": 5,
     "metadata": {},
     "output_type": "execute_result"
    }
   ],
   "source": [
    "texts_df.duplicated()"
   ]
  },
  {
   "cell_type": "code",
   "execution_count": 6,
   "id": "b16904ba",
   "metadata": {},
   "outputs": [],
   "source": [
    "# texts_df.drop_duplicates(inplace = True)"
   ]
  },
  {
   "cell_type": "code",
   "execution_count": 7,
   "id": "f14f3c4f",
   "metadata": {},
   "outputs": [
    {
     "data": {
      "text/html": [
       "<div>\n",
       "<style scoped>\n",
       "    .dataframe tbody tr th:only-of-type {\n",
       "        vertical-align: middle;\n",
       "    }\n",
       "\n",
       "    .dataframe tbody tr th {\n",
       "        vertical-align: top;\n",
       "    }\n",
       "\n",
       "    .dataframe thead th {\n",
       "        text-align: right;\n",
       "    }\n",
       "</style>\n",
       "<table border=\"1\" class=\"dataframe\">\n",
       "  <thead>\n",
       "    <tr style=\"text-align: right;\">\n",
       "      <th></th>\n",
       "      <th>texts</th>\n",
       "    </tr>\n",
       "  </thead>\n",
       "  <tbody>\n",
       "    <tr>\n",
       "      <th>0</th>\n",
       "      <td>Ransomware attack at Mexico's Pemex halts work...</td>\n",
       "    </tr>\n",
       "    <tr>\n",
       "      <th>1</th>\n",
       "      <td>#city | #ransomware | Ransomware Attack At Mex...</td>\n",
       "    </tr>\n",
       "    <tr>\n",
       "      <th>2</th>\n",
       "      <td>Mexico's Pemex Oil Suffers Ransomware Attack, ...</td>\n",
       "    </tr>\n",
       "    <tr>\n",
       "      <th>3</th>\n",
       "      <td>A Mexican oil company was hit by ransomware at...</td>\n",
       "    </tr>\n",
       "    <tr>\n",
       "      <th>4</th>\n",
       "      <td>Pemex Struck by Ransomware Attack\\n</td>\n",
       "    </tr>\n",
       "    <tr>\n",
       "      <th>...</th>\n",
       "      <td>...</td>\n",
       "    </tr>\n",
       "    <tr>\n",
       "      <th>679</th>\n",
       "      <td>Detecting and Responding to Ransomware\\n</td>\n",
       "    </tr>\n",
       "    <tr>\n",
       "      <th>680</th>\n",
       "      <td>Emotet malware is back, more dangerous than ev...</td>\n",
       "    </tr>\n",
       "    <tr>\n",
       "      <th>681</th>\n",
       "      <td>Hosting provider SmarterASP.NET hit by ransomw...</td>\n",
       "    </tr>\n",
       "    <tr>\n",
       "      <th>682</th>\n",
       "      <td>Ransomware as a Service (RaaS) – A Contemporar...</td>\n",
       "    </tr>\n",
       "    <tr>\n",
       "      <th>683</th>\n",
       "      <td>Ransomware as a Service (RaaS) – A Contemporar...</td>\n",
       "    </tr>\n",
       "  </tbody>\n",
       "</table>\n",
       "<p>684 rows × 1 columns</p>\n",
       "</div>"
      ],
      "text/plain": [
       "                                                 texts\n",
       "0    Ransomware attack at Mexico's Pemex halts work...\n",
       "1    #city | #ransomware | Ransomware Attack At Mex...\n",
       "2    Mexico's Pemex Oil Suffers Ransomware Attack, ...\n",
       "3    A Mexican oil company was hit by ransomware at...\n",
       "4                  Pemex Struck by Ransomware Attack\\n\n",
       "..                                                 ...\n",
       "679           Detecting and Responding to Ransomware\\n\n",
       "680  Emotet malware is back, more dangerous than ev...\n",
       "681  Hosting provider SmarterASP.NET hit by ransomw...\n",
       "682  Ransomware as a Service (RaaS) – A Contemporar...\n",
       "683  Ransomware as a Service (RaaS) – A Contemporar...\n",
       "\n",
       "[684 rows x 1 columns]"
      ]
     },
     "execution_count": 7,
     "metadata": {},
     "output_type": "execute_result"
    }
   ],
   "source": [
    "texts_df"
   ]
  },
  {
   "cell_type": "markdown",
   "id": "1f81a1e2",
   "metadata": {},
   "source": [
    "## Text Preprocessing"
   ]
  },
  {
   "cell_type": "code",
   "execution_count": 8,
   "id": "f18d23be",
   "metadata": {},
   "outputs": [],
   "source": [
    "class text_preprocess:\n",
    "    \n",
    "    def __init__(self):\n",
    "        pass\n",
    "\n",
    "    def convert_to_lower(self, text):\n",
    "        return text.lower()\n",
    "\n",
    "    def remove_emojis(self, text):\n",
    "        text = re.sub(r\"(?:\\@|https?\\://)\\S+\", \" \", text) #remove links and mentions\n",
    "        text = re.sub(r\"<.*?>\",\" \",text)\n",
    "\n",
    "        wierd_pattern = re.compile(\"[\"\n",
    "            u\"\\U0001F600-\\U0001F64F\"  # emotions\n",
    "            u\"\\U0001F300-\\U0001F5FF\"  # symbols & pictographs\n",
    "            u\"\\U0001F680-\\U0001F6FF\"  # transport & map symbols\n",
    "            u\"\\U0001F1E0-\\U0001F1FF\"  # flags (iOS)\n",
    "            u\"\\U00002702-\\U000027B0\"\n",
    "            u\"\\U000024C2-\\U0001F251\"\n",
    "            u\"\\U0001f926-\\U0001f937\"\n",
    "            u'\\U00010000-\\U0010ffff'\n",
    "            u\"\\u200d\"\n",
    "            u\"\\u2640-\\u2642\"\n",
    "            u\"\\u2600-\\u2B55\"\n",
    "            u\"\\u23cf\"\n",
    "            u\"\\u23e9\"\n",
    "            u\"\\u231a\"\n",
    "            u\"\\u3030\"\n",
    "            u\"\\ufe0f\"\n",
    "            u\"\\u2069\"\n",
    "            u\"\\u2066\"\n",
    "            u\"\\u200c\"\n",
    "            u\"\\u2068\"\n",
    "            u\"\\u2067\"\n",
    "            \"]+\", flags=re.UNICODE)\n",
    "\n",
    "        rm_emoji = wierd_pattern.sub(r'', text)\n",
    "        return rm_emoji\n",
    "\n",
    "    def remove_html(self, text):\n",
    "        html = re.compile(r'<.*?>|&([a-z0-9]+|#[0-9]{1,6}|#x[0-9a-f]{1,6});')\n",
    "        rm_html = re.sub(html, ' ', text)\n",
    "        return rm_html\n",
    "\n",
    "    def remove_URL(self,text):\n",
    "        url = re.compile(r'https?://\\S+|www\\.\\S+')\n",
    "        URL = url.sub(r' ', text)\n",
    "        return URL\n",
    "    \n",
    "    def remove_non_ascii(self, text):\n",
    "        return re.sub(r'[^\\x00-\\x7f]',r' ', text) # or ''.join([x for x in text if x in string.printable]) \n",
    "    \n",
    "    \n",
    "    def remove_numbers(self, text):\n",
    "        number_pattern = r'\\d+'\n",
    "        without_number = re.sub(pattern=number_pattern, repl=\" \", string=text)\n",
    "        return without_number\n",
    "\n",
    "\n",
    "    def remove_punctuation(self,text):\n",
    "        return text.translate(str.maketrans('', '', string.punctuation))\n",
    "    \n",
    "    def remove_keywords(self, text):\n",
    "        return re.sub(\"\\n|\\r\", \"\", text)\n",
    "\n",
    "\n",
    "    def remove_extra_white_spaces(self, text):\n",
    "        single_char_pattern = re.compile(r'\\s+[a-zA-Z]\\s+')\n",
    "        without_sc = re.sub(single_char_pattern, r\" \", text)\n",
    "#         without_sc = text.replace(' ', '')\n",
    "        return without_sc\n",
    "\n",
    "\n",
    "    def preprocessText(self,text):            \n",
    "        return self.remove_extra_white_spaces(self.remove_non_ascii(self.remove_URL(self.remove_html(self.remove_punctuation(self.remove_numbers(self.remove_emojis(self.remove_keywords(self.convert_to_lower(text)))))))))\n"
   ]
  },
  {
   "cell_type": "code",
   "execution_count": 9,
   "id": "7bfedcb4",
   "metadata": {},
   "outputs": [
    {
     "data": {
      "application/vnd.jupyter.widget-view+json": {
       "model_id": "f617ef9d2aee40298f39ce09e8a6b121",
       "version_major": 2,
       "version_minor": 0
      },
      "text/plain": [
       "Pandas Apply:   0%|          | 0/684 [00:00<?, ?it/s]"
      ]
     },
     "metadata": {},
     "output_type": "display_data"
    }
   ],
   "source": [
    "if __name__ == \"__main__\":    \n",
    "    text_prpocess_obj = text_preprocess()\n",
    "    texts_df['cleaned_texts'] = texts_df.texts.swifter.apply(lambda x: text_prpocess_obj.preprocessText(x))"
   ]
  },
  {
   "cell_type": "code",
   "execution_count": 10,
   "id": "6256adbc",
   "metadata": {},
   "outputs": [
    {
     "data": {
      "text/plain": [
       "0      ransomware attack at mexicos pemex halts work ...\n",
       "1      city  ransomware  ransomware attack at mexico ...\n",
       "2      mexicos pemex oil suffers ransomware attack   ...\n",
       "3      a mexican oil company was hit by ransomware at...\n",
       "4                      pemex struck by ransomware attack\n",
       "                             ...                        \n",
       "679               detecting and responding to ransomware\n",
       "680      emotet malware is back more dangerous than ever\n",
       "681    hosting provider smarteraspnet hit by ransomwa...\n",
       "682    ransomware as service raas contemporary mal du...\n",
       "683    ransomware as service raas contemporary mal du...\n",
       "Name: cleaned_texts, Length: 684, dtype: object"
      ]
     },
     "execution_count": 10,
     "metadata": {},
     "output_type": "execute_result"
    }
   ],
   "source": [
    "texts_df.cleaned_texts"
   ]
  },
  {
   "cell_type": "markdown",
   "id": "c7e0c846",
   "metadata": {},
   "source": [
    "## Tokenization"
   ]
  },
  {
   "cell_type": "code",
   "execution_count": 11,
   "id": "69ff1e00",
   "metadata": {},
   "outputs": [
    {
     "name": "stderr",
     "output_type": "stream",
     "text": [
      "[nltk_data] Downloading package punkt to /home/ubuntu/nltk_data...\n",
      "[nltk_data]   Package punkt is already up-to-date!\n"
     ]
    },
    {
     "data": {
      "text/plain": [
       "True"
      ]
     },
     "execution_count": 11,
     "metadata": {},
     "output_type": "execute_result"
    }
   ],
   "source": [
    "from typing import List, Dict\n",
    "from nltk import word_tokenize\n",
    "from nltk.corpus import stopwords\n",
    "# from spacy.lang.en.stop_words import STOP_WORDS\n",
    "nltk.download('punkt')"
   ]
  },
  {
   "cell_type": "code",
   "execution_count": 12,
   "id": "478de8db",
   "metadata": {},
   "outputs": [
    {
     "data": {
      "text/html": [
       "<div>\n",
       "<style scoped>\n",
       "    .dataframe tbody tr th:only-of-type {\n",
       "        vertical-align: middle;\n",
       "    }\n",
       "\n",
       "    .dataframe tbody tr th {\n",
       "        vertical-align: top;\n",
       "    }\n",
       "\n",
       "    .dataframe thead th {\n",
       "        text-align: right;\n",
       "    }\n",
       "</style>\n",
       "<table border=\"1\" class=\"dataframe\">\n",
       "  <thead>\n",
       "    <tr style=\"text-align: right;\">\n",
       "      <th></th>\n",
       "      <th>texts</th>\n",
       "      <th>cleaned_texts</th>\n",
       "    </tr>\n",
       "  </thead>\n",
       "  <tbody>\n",
       "    <tr>\n",
       "      <th>0</th>\n",
       "      <td>Ransomware attack at Mexico's Pemex halts work...</td>\n",
       "      <td>ransomware attack at mexicos pemex halts work ...</td>\n",
       "    </tr>\n",
       "    <tr>\n",
       "      <th>1</th>\n",
       "      <td>#city | #ransomware | Ransomware Attack At Mex...</td>\n",
       "      <td>city  ransomware  ransomware attack at mexico ...</td>\n",
       "    </tr>\n",
       "    <tr>\n",
       "      <th>2</th>\n",
       "      <td>Mexico's Pemex Oil Suffers Ransomware Attack, ...</td>\n",
       "      <td>mexicos pemex oil suffers ransomware attack   ...</td>\n",
       "    </tr>\n",
       "    <tr>\n",
       "      <th>3</th>\n",
       "      <td>A Mexican oil company was hit by ransomware at...</td>\n",
       "      <td>a mexican oil company was hit by ransomware at...</td>\n",
       "    </tr>\n",
       "    <tr>\n",
       "      <th>4</th>\n",
       "      <td>Pemex Struck by Ransomware Attack\\n</td>\n",
       "      <td>pemex struck by ransomware attack</td>\n",
       "    </tr>\n",
       "    <tr>\n",
       "      <th>...</th>\n",
       "      <td>...</td>\n",
       "      <td>...</td>\n",
       "    </tr>\n",
       "    <tr>\n",
       "      <th>679</th>\n",
       "      <td>Detecting and Responding to Ransomware\\n</td>\n",
       "      <td>detecting and responding to ransomware</td>\n",
       "    </tr>\n",
       "    <tr>\n",
       "      <th>680</th>\n",
       "      <td>Emotet malware is back, more dangerous than ev...</td>\n",
       "      <td>emotet malware is back more dangerous than ever</td>\n",
       "    </tr>\n",
       "    <tr>\n",
       "      <th>681</th>\n",
       "      <td>Hosting provider SmarterASP.NET hit by ransomw...</td>\n",
       "      <td>hosting provider smarteraspnet hit by ransomwa...</td>\n",
       "    </tr>\n",
       "    <tr>\n",
       "      <th>682</th>\n",
       "      <td>Ransomware as a Service (RaaS) – A Contemporar...</td>\n",
       "      <td>ransomware as service raas contemporary mal du...</td>\n",
       "    </tr>\n",
       "    <tr>\n",
       "      <th>683</th>\n",
       "      <td>Ransomware as a Service (RaaS) – A Contemporar...</td>\n",
       "      <td>ransomware as service raas contemporary mal du...</td>\n",
       "    </tr>\n",
       "  </tbody>\n",
       "</table>\n",
       "<p>684 rows × 2 columns</p>\n",
       "</div>"
      ],
      "text/plain": [
       "                                                 texts  \\\n",
       "0    Ransomware attack at Mexico's Pemex halts work...   \n",
       "1    #city | #ransomware | Ransomware Attack At Mex...   \n",
       "2    Mexico's Pemex Oil Suffers Ransomware Attack, ...   \n",
       "3    A Mexican oil company was hit by ransomware at...   \n",
       "4                  Pemex Struck by Ransomware Attack\\n   \n",
       "..                                                 ...   \n",
       "679           Detecting and Responding to Ransomware\\n   \n",
       "680  Emotet malware is back, more dangerous than ev...   \n",
       "681  Hosting provider SmarterASP.NET hit by ransomw...   \n",
       "682  Ransomware as a Service (RaaS) – A Contemporar...   \n",
       "683  Ransomware as a Service (RaaS) – A Contemporar...   \n",
       "\n",
       "                                         cleaned_texts  \n",
       "0    ransomware attack at mexicos pemex halts work ...  \n",
       "1    city  ransomware  ransomware attack at mexico ...  \n",
       "2    mexicos pemex oil suffers ransomware attack   ...  \n",
       "3    a mexican oil company was hit by ransomware at...  \n",
       "4                    pemex struck by ransomware attack  \n",
       "..                                                 ...  \n",
       "679             detecting and responding to ransomware  \n",
       "680    emotet malware is back more dangerous than ever  \n",
       "681  hosting provider smarteraspnet hit by ransomwa...  \n",
       "682  ransomware as service raas contemporary mal du...  \n",
       "683  ransomware as service raas contemporary mal du...  \n",
       "\n",
       "[684 rows x 2 columns]"
      ]
     },
     "execution_count": 12,
     "metadata": {},
     "output_type": "execute_result"
    }
   ],
   "source": [
    "texts_df"
   ]
  },
  {
   "cell_type": "code",
   "execution_count": 72,
   "id": "72987b69",
   "metadata": {},
   "outputs": [],
   "source": [
    "# texts_df.cleaned_texts.tolist()"
   ]
  },
  {
   "cell_type": "code",
   "execution_count": 15,
   "id": "b9ab2d75",
   "metadata": {},
   "outputs": [
    {
     "name": "stderr",
     "output_type": "stream",
     "text": [
      "[nltk_data] Downloading package stopwords to /home/ubuntu/nltk_data...\n",
      "[nltk_data]   Package stopwords is already up-to-date!\n"
     ]
    }
   ],
   "source": [
    "nltk.download('stopwords')\n",
    "stop_words = set(stopwords.words(\"english\"))"
   ]
  },
  {
   "cell_type": "code",
   "execution_count": 16,
   "id": "9c3271e8",
   "metadata": {},
   "outputs": [],
   "source": [
    "def Tokenize_text(text: str) -> List[str]:\n",
    "    text_tokens = word_tokenize(text)\n",
    "    text_without_stopwords = [word for word in text_tokens if word not in stop_words]\n",
    "    return text_without_stopwords"
   ]
  },
  {
   "cell_type": "code",
   "execution_count": 17,
   "id": "6b09576e",
   "metadata": {},
   "outputs": [
    {
     "data": {
      "application/vnd.jupyter.widget-view+json": {
       "model_id": "d7c9a98112f7429f9c95b3095a2428d5",
       "version_major": 2,
       "version_minor": 0
      },
      "text/plain": [
       "Pandas Apply:   0%|          | 0/684 [00:00<?, ?it/s]"
      ]
     },
     "metadata": {},
     "output_type": "display_data"
    }
   ],
   "source": [
    "texts_df['cleaned_texts'] = texts_df.cleaned_texts.swifter.apply(lambda x: Tokenize_text(x))"
   ]
  },
  {
   "cell_type": "code",
   "execution_count": 18,
   "id": "8c82733f",
   "metadata": {},
   "outputs": [
    {
     "data": {
      "text/plain": [
       "['ransomware',\n",
       " 'attack',\n",
       " 'mexicos',\n",
       " 'pemex',\n",
       " 'halts',\n",
       " 'work',\n",
       " 'threatens',\n",
       " 'cripple',\n",
       " 'computers']"
      ]
     },
     "execution_count": 18,
     "metadata": {},
     "output_type": "execute_result"
    }
   ],
   "source": [
    "texts_df.cleaned_texts.tolist()[0]"
   ]
  },
  {
   "cell_type": "markdown",
   "id": "55d15538",
   "metadata": {},
   "source": [
    "## Word2vec"
   ]
  },
  {
   "cell_type": "code",
   "execution_count": 19,
   "id": "3e5d23c9",
   "metadata": {},
   "outputs": [],
   "source": [
    "from gensim.models import Word2Vec"
   ]
  },
  {
   "cell_type": "code",
   "execution_count": 20,
   "id": "8751bb39",
   "metadata": {},
   "outputs": [],
   "source": [
    "w2v_model = Word2Vec(sentences=texts_df['cleaned_texts'], vector_size=100, workers=2)"
   ]
  },
  {
   "cell_type": "code",
   "execution_count": 21,
   "id": "47ee308d",
   "metadata": {},
   "outputs": [
    {
     "data": {
      "text/plain": [
       "[('ransomware', 0.6307824850082397),\n",
       " ('malware', 0.6269527673721313),\n",
       " ('wanted', 0.6132566332817078),\n",
       " ('hit', 0.5850839018821716),\n",
       " ('attack', 0.5803406238555908),\n",
       " ('undercuts', 0.5587689876556396),\n",
       " ('says', 0.5577048063278198),\n",
       " ('discount', 0.5457214117050171),\n",
       " ('ransomwareasaservice', 0.5430466532707214),\n",
       " ('threat', 0.5397765636444092)]"
      ]
     },
     "execution_count": 21,
     "metadata": {},
     "output_type": "execute_result"
    }
   ],
   "source": [
    "w2v_model.wv.most_similar(\"threatens\")"
   ]
  },
  {
   "cell_type": "code",
   "execution_count": 22,
   "id": "f6fb3856",
   "metadata": {},
   "outputs": [
    {
     "data": {
      "text/plain": [
       "array([ 3.8781425e-03,  2.4851218e-03, -9.2181386e-03,  1.1497257e-02,\n",
       "       -8.4486911e-03, -6.2804255e-03,  9.7399456e-03,  1.3583688e-02,\n",
       "       -1.6752420e-02,  1.6264303e-03, -7.2079194e-03, -1.2795372e-02,\n",
       "        7.5292001e-03, -4.6591870e-03, -6.8214643e-03, -4.8563215e-03,\n",
       "        7.9989983e-03, -5.8800885e-03, -9.2406543e-03, -1.6581168e-02,\n",
       "        9.4210869e-03,  1.1988385e-02,  1.2736007e-02, -3.3261017e-03,\n",
       "        3.2098107e-03,  4.0364489e-03, -4.0354542e-03, -5.1953364e-05,\n",
       "       -4.1297433e-04,  1.1548216e-03,  8.8481815e-04, -3.6712994e-03,\n",
       "        1.1009533e-02, -1.1242375e-02,  9.6844451e-07,  1.0312642e-02,\n",
       "       -4.9331214e-04, -8.3236955e-03,  1.1164651e-03, -1.4815392e-02,\n",
       "       -9.0940185e-03, -7.1771266e-03,  5.4350505e-03,  7.0203436e-03,\n",
       "        4.5460318e-03,  9.3611749e-03, -1.0652624e-02, -4.4086911e-03,\n",
       "       -4.4717300e-03, -4.2748818e-04,  9.1260290e-03, -1.1159301e-02,\n",
       "       -7.2361133e-03, -9.4107082e-03,  8.0551999e-03,  8.1603014e-04,\n",
       "        3.0876566e-03, -5.4688277e-03, -7.3357853e-03,  3.8595553e-03,\n",
       "       -1.6683273e-03, -3.7017411e-03, -4.3828087e-03, -3.4010882e-04,\n",
       "       -1.5872229e-02,  5.5978792e-03,  1.6686539e-03,  1.6987078e-02,\n",
       "       -5.6731431e-03,  1.4222019e-02, -1.1365870e-02, -7.1091685e-03,\n",
       "        9.9864854e-03,  7.2069874e-04,  3.1110938e-03, -7.1809877e-04,\n",
       "        1.0723062e-02, -8.0959639e-03, -8.0864839e-03,  3.1973913e-04,\n",
       "       -2.8398011e-03,  1.4436121e-02, -8.2002934e-03,  1.5408645e-03,\n",
       "       -9.8265819e-03, -1.0162677e-02, -1.6481054e-03, -1.4378078e-03,\n",
       "       -9.0089528e-04, -3.6263580e-03,  6.5680495e-03,  2.3638834e-03,\n",
       "        5.1274039e-03,  9.3399081e-03,  2.0698095e-02,  1.8205823e-03,\n",
       "        9.8958751e-03,  2.9812320e-03, -6.0368571e-03, -9.2115048e-03],\n",
       "      dtype=float32)"
      ]
     },
     "execution_count": 22,
     "metadata": {},
     "output_type": "execute_result"
    }
   ],
   "source": [
    "w2v_model.wv['threatens']"
   ]
  },
  {
   "cell_type": "code",
   "execution_count": 23,
   "id": "521784d6",
   "metadata": {},
   "outputs": [],
   "source": [
    "def create_vectors(docs: List[List[str]]) -> List[List[float]]:\n",
    "    \n",
    "    all_vectors: List = []\n",
    "\n",
    "    for text_tokens in docs:\n",
    "        zero_vector = np.zeros(w2v_model.vector_size)\n",
    "        vectors: List = []\n",
    "        for token in text_tokens:\n",
    "            if token in w2v_model.wv:\n",
    "                try:\n",
    "                    vectors.append(w2v_model.wv[token])\n",
    "                except KeyError:\n",
    "                    continue\n",
    "                    \n",
    "        if vectors:\n",
    "            vectors = np.asarray(vectors)\n",
    "            avg_vector = vectors.mean(axis=0)\n",
    "            all_vectors.append(avg_vector)\n",
    "        else:\n",
    "            all_vectors.append(zero_vector)\n",
    "    return all_vectors"
   ]
  },
  {
   "cell_type": "code",
   "execution_count": 24,
   "id": "b4be546b",
   "metadata": {},
   "outputs": [],
   "source": [
    "all_text_vectors = create_vectors(texts_df.cleaned_texts)"
   ]
  },
  {
   "cell_type": "code",
   "execution_count": 25,
   "id": "29c14c31",
   "metadata": {},
   "outputs": [
    {
     "data": {
      "text/plain": [
       "684"
      ]
     },
     "execution_count": 25,
     "metadata": {},
     "output_type": "execute_result"
    }
   ],
   "source": [
    "len(all_text_vectors)"
   ]
  },
  {
   "cell_type": "code",
   "execution_count": 26,
   "id": "8a0622a1",
   "metadata": {},
   "outputs": [
    {
     "data": {
      "text/plain": [
       "array([-4.31032153e-03,  2.41161603e-03, -1.24638798e-04,  7.17833312e-03,\n",
       "        2.03378731e-04, -1.82368197e-02,  3.19226971e-03,  2.03472897e-02,\n",
       "       -1.40013164e-02, -9.55930166e-03,  1.76584930e-03, -1.37192141e-02,\n",
       "       -2.39620148e-03,  6.47950917e-03,  2.94731953e-03,  1.37045700e-03,\n",
       "        6.49562059e-03, -9.55815241e-03, -7.51781045e-03, -1.78936291e-02,\n",
       "        1.03589275e-03,  2.71309307e-03,  5.59775997e-03, -7.23774964e-03,\n",
       "        6.20342442e-04,  3.22882598e-03, -1.15274526e-02, -5.54135442e-03,\n",
       "       -4.53272974e-03,  1.44901162e-03,  3.84759577e-03,  2.70541734e-03,\n",
       "        6.34612143e-03, -8.47783964e-03, -2.97076069e-03,  1.62423775e-02,\n",
       "        4.75747744e-03, -5.17467456e-03, -7.03626487e-04, -1.39664756e-02,\n",
       "       -4.38939547e-03, -5.52493799e-03, -2.60638684e-04,  2.15352885e-03,\n",
       "        6.43387437e-03,  3.61297117e-03, -4.64133266e-03,  8.25864496e-04,\n",
       "        3.90515430e-03,  9.80034750e-03,  2.73367763e-03, -4.15032078e-03,\n",
       "        8.35490355e-04,  3.66080436e-04, -3.96936812e-04,  3.94629641e-03,\n",
       "        4.15767077e-03, -3.57326935e-04, -5.58997085e-03,  7.36912573e-03,\n",
       "       -9.96730378e-05,  5.95287979e-03, -9.70865076e-04, -4.20843298e-03,\n",
       "       -1.05495909e-02,  8.00498202e-03,  3.73266637e-03,  1.13246655e-02,\n",
       "       -5.06369630e-03,  1.18378140e-02, -4.77263844e-03, -7.98653637e-04,\n",
       "        7.04878010e-03,  7.02410063e-04,  1.18935099e-02,  8.87367758e-04,\n",
       "        2.97929882e-03, -5.75459155e-04, -3.38799926e-03, -2.31402600e-03,\n",
       "       -4.70665004e-03,  1.02152899e-02, -6.63455809e-03,  1.11593194e-02,\n",
       "       -6.11751433e-03,  2.90769734e-04,  7.79095385e-03,  3.80543037e-03,\n",
       "        7.35216495e-03, -2.63697561e-03,  1.12348087e-02,  7.79772969e-03,\n",
       "        5.49995154e-03,  8.92060902e-03,  1.50055103e-02,  1.18688010e-02,\n",
       "        6.48963777e-03, -6.64779358e-03, -4.11876477e-03, -4.01324220e-03],\n",
       "      dtype=float32)"
      ]
     },
     "execution_count": 26,
     "metadata": {},
     "output_type": "execute_result"
    }
   ],
   "source": [
    "all_text_vectors[0]"
   ]
  },
  {
   "cell_type": "code",
   "execution_count": 27,
   "id": "469fc914",
   "metadata": {},
   "outputs": [
    {
     "data": {
      "text/plain": [
       "100"
      ]
     },
     "execution_count": 27,
     "metadata": {},
     "output_type": "execute_result"
    }
   ],
   "source": [
    "len(all_text_vectors[0])"
   ]
  },
  {
   "cell_type": "code",
   "execution_count": 28,
   "id": "32ec314c",
   "metadata": {},
   "outputs": [],
   "source": [
    "from sklearn.cluster import KMeans"
   ]
  },
  {
   "cell_type": "code",
   "execution_count": 37,
   "id": "261d3afa",
   "metadata": {},
   "outputs": [
    {
     "name": "stdout",
     "output_type": "stream",
     "text": [
      "silhouette_scoreof n_cluster200 0.7338090158315508\n",
      "silhouette_scoreof n_cluster201 0.7399178125821569\n",
      "silhouette_scoreof n_cluster202 0.7372220599487314\n",
      "silhouette_scoreof n_cluster203 0.7484955259963518\n",
      "silhouette_scoreof n_cluster204 0.7485426471299598\n",
      "silhouette_scoreof n_cluster205 0.7552913382227275\n",
      "silhouette_scoreof n_cluster206 0.7538072524192903\n",
      "silhouette_scoreof n_cluster207 0.741843735988947\n",
      "silhouette_scoreof n_cluster208 0.7539198708891945\n",
      "silhouette_scoreof n_cluster209 0.7491503084018083\n",
      "silhouette_scoreof n_cluster210 0.7568340997606604\n",
      "silhouette_scoreof n_cluster211 0.7557235293261145\n",
      "silhouette_scoreof n_cluster212 0.7597479363357609\n",
      "silhouette_scoreof n_cluster213 0.7587419174124738\n",
      "silhouette_scoreof n_cluster214 0.7598910459718592\n",
      "silhouette_scoreof n_cluster215 0.7671804519389621\n",
      "silhouette_scoreof n_cluster216 0.767255257690673\n",
      "silhouette_scoreof n_cluster217 0.7648683309990618\n",
      "silhouette_scoreof n_cluster218 0.7722879689838491\n",
      "silhouette_scoreof n_cluster219 0.7730818092375839\n",
      "silhouette_scoreof n_cluster220 0.7713048868520052\n",
      "silhouette_scoreof n_cluster221 0.7702038707595702\n",
      "silhouette_scoreof n_cluster222 0.7729443550031064\n",
      "silhouette_scoreof n_cluster223 0.7721466909483327\n",
      "silhouette_scoreof n_cluster224 0.7705239650830396\n",
      "silhouette_scoreof n_cluster225 0.7718214585993134\n",
      "silhouette_scoreof n_cluster226 0.7856516414444121\n",
      "silhouette_scoreof n_cluster227 0.7837251574119581\n",
      "silhouette_scoreof n_cluster228 0.7814502552000355\n",
      "silhouette_scoreof n_cluster229 0.7906997557233354\n",
      "silhouette_scoreof n_cluster230 0.7868512185874603\n",
      "silhouette_scoreof n_cluster231 0.7872969392499716\n",
      "silhouette_scoreof n_cluster232 0.787399343370517\n",
      "silhouette_scoreof n_cluster233 0.794663872307983\n",
      "silhouette_scoreof n_cluster234 0.7972687457924137\n",
      "silhouette_scoreof n_cluster235 0.7977799767315539\n",
      "silhouette_scoreof n_cluster236 0.800990050624066\n",
      "silhouette_scoreof n_cluster237 0.8025387366418509\n",
      "silhouette_scoreof n_cluster238 0.8045882960113796\n",
      "silhouette_scoreof n_cluster239 0.8080858883751842\n",
      "silhouette_scoreof n_cluster240 0.8050442726379278\n",
      "silhouette_scoreof n_cluster241 0.8092050769975146\n",
      "silhouette_scoreof n_cluster242 0.8146044176124089\n",
      "silhouette_scoreof n_cluster243 0.8144844657600184\n",
      "silhouette_scoreof n_cluster244 0.8190948899282152\n",
      "silhouette_scoreof n_cluster245 0.8211549946093412\n",
      "silhouette_scoreof n_cluster246 0.8276160324644539\n",
      "silhouette_scoreof n_cluster247 0.8261813870904031\n",
      "silhouette_scoreof n_cluster248 0.8269870902534543\n",
      "silhouette_scoreof n_cluster249 0.826987863679937\n",
      "silhouette_scoreof n_cluster250 0.8343200803658282\n",
      "silhouette_scoreof n_cluster251 0.8352884771723861\n",
      "silhouette_scoreof n_cluster252 0.8289121612191847\n",
      "silhouette_scoreof n_cluster253 0.8344733595621462\n",
      "silhouette_scoreof n_cluster254 0.8366371266889711\n",
      "silhouette_scoreof n_cluster255 0.8391311967617519\n",
      "silhouette_scoreof n_cluster256 0.8426775564736629\n",
      "silhouette_scoreof n_cluster257 0.8433590228642592\n",
      "silhouette_scoreof n_cluster258 0.8458706903979734\n",
      "silhouette_scoreof n_cluster259 0.8529430392848901\n",
      "silhouette_scoreof n_cluster260 0.8519462283970409\n",
      "silhouette_scoreof n_cluster261 0.8510896598737698\n",
      "silhouette_scoreof n_cluster262 0.8521020376358025\n",
      "silhouette_scoreof n_cluster263 0.8511318669713376\n",
      "silhouette_scoreof n_cluster264 0.8603813874381745\n",
      "silhouette_scoreof n_cluster265 0.8572690975843039\n",
      "silhouette_scoreof n_cluster266 0.8572774893437008\n",
      "silhouette_scoreof n_cluster267 0.8585851008387334\n",
      "silhouette_scoreof n_cluster268 0.8603115153499643\n",
      "silhouette_scoreof n_cluster269 0.8618340258343431\n",
      "silhouette_scoreof n_cluster270 0.8642756293836449\n",
      "silhouette_scoreof n_cluster271 0.8658192407333424\n",
      "silhouette_scoreof n_cluster272 0.8664879237508548\n",
      "silhouette_scoreof n_cluster273 0.867849180086048\n",
      "silhouette_scoreof n_cluster274 0.8702171862351111\n",
      "silhouette_scoreof n_cluster275 0.8720422596708591\n",
      "silhouette_scoreof n_cluster276 0.8740340621127527\n",
      "silhouette_scoreof n_cluster277 0.8728069604765065\n",
      "silhouette_scoreof n_cluster278 0.8700793642784252\n",
      "silhouette_scoreof n_cluster279 0.8700793642784252\n",
      "silhouette_scoreof n_cluster280 0.8700793642784252\n",
      "silhouette_scoreof n_cluster281 0.8700793642784252\n",
      "silhouette_scoreof n_cluster282 0.8700793642784252\n",
      "silhouette_scoreof n_cluster283 0.8700793642784252\n",
      "silhouette_scoreof n_cluster284 0.8700793642784252\n",
      "silhouette_scoreof n_cluster285 0.8700793642784252\n",
      "silhouette_scoreof n_cluster286 0.8700793642784252\n",
      "silhouette_scoreof n_cluster287 0.8700793642784252\n",
      "silhouette_scoreof n_cluster288 0.8700793642784252\n",
      "silhouette_scoreof n_cluster289 0.8700793642784252\n",
      "silhouette_scoreof n_cluster290 0.8700793642784252\n",
      "silhouette_scoreof n_cluster291 0.8700793642784252\n",
      "silhouette_scoreof n_cluster292 0.8700793642784252\n",
      "silhouette_scoreof n_cluster293 0.8700793642784252\n",
      "silhouette_scoreof n_cluster294 0.8700793642784252\n",
      "silhouette_scoreof n_cluster295 0.8700793642784252\n",
      "silhouette_scoreof n_cluster296 0.8700793642784252\n",
      "silhouette_scoreof n_cluster297 0.8700793642784252\n",
      "silhouette_scoreof n_cluster298 0.8700793642784252\n",
      "silhouette_scoreof n_cluster299 0.8700793642784252\n"
     ]
    }
   ],
   "source": [
    "for x in range(200, 300):\n",
    "    kmeans_model = KMeans(n_clusters=x).fit(all_text_vectors)\n",
    "    y_pred = kmeans_model.predict(all_text_vectors)\n",
    "    print(f\"silhouette_scoreof n_cluster{x}\",silhouette_score(all_text_vectors, y_pred))"
   ]
  },
  {
   "cell_type": "code",
   "execution_count": 38,
   "id": "9ef0a80c",
   "metadata": {},
   "outputs": [],
   "source": [
    "kmeans_model = KMeans(n_clusters=274).fit(all_text_vectors)"
   ]
  },
  {
   "cell_type": "code",
   "execution_count": 39,
   "id": "4a391624",
   "metadata": {},
   "outputs": [],
   "source": [
    "texts_df[\"cluster_label\"] = kmeans_model.labels_"
   ]
  },
  {
   "cell_type": "code",
   "execution_count": 73,
   "id": "27a704f0",
   "metadata": {},
   "outputs": [
    {
     "data": {
      "text/html": [
       "<div>\n",
       "<style scoped>\n",
       "    .dataframe tbody tr th:only-of-type {\n",
       "        vertical-align: middle;\n",
       "    }\n",
       "\n",
       "    .dataframe tbody tr th {\n",
       "        vertical-align: top;\n",
       "    }\n",
       "\n",
       "    .dataframe thead th {\n",
       "        text-align: right;\n",
       "    }\n",
       "</style>\n",
       "<table border=\"1\" class=\"dataframe\">\n",
       "  <thead>\n",
       "    <tr style=\"text-align: right;\">\n",
       "      <th></th>\n",
       "      <th>texts</th>\n",
       "      <th>cleaned_texts</th>\n",
       "      <th>cluster_label</th>\n",
       "    </tr>\n",
       "  </thead>\n",
       "  <tbody>\n",
       "    <tr>\n",
       "      <th>0</th>\n",
       "      <td>Ransomware attack at Mexico's Pemex halts work...</td>\n",
       "      <td>[ransomware, attack, mexicos, pemex, halts, wo...</td>\n",
       "      <td>131</td>\n",
       "    </tr>\n",
       "    <tr>\n",
       "      <th>1</th>\n",
       "      <td>#city | #ransomware | Ransomware Attack At Mex...</td>\n",
       "      <td>[city, ransomware, ransomware, attack, mexico,...</td>\n",
       "      <td>260</td>\n",
       "    </tr>\n",
       "    <tr>\n",
       "      <th>2</th>\n",
       "      <td>Mexico's Pemex Oil Suffers Ransomware Attack, ...</td>\n",
       "      <td>[mexicos, pemex, oil, suffers, ransomware, att...</td>\n",
       "      <td>248</td>\n",
       "    </tr>\n",
       "    <tr>\n",
       "      <th>3</th>\n",
       "      <td>A Mexican oil company was hit by ransomware at...</td>\n",
       "      <td>[mexican, oil, company, hit, ransomware, attack]</td>\n",
       "      <td>4</td>\n",
       "    </tr>\n",
       "    <tr>\n",
       "      <th>4</th>\n",
       "      <td>Pemex Struck by Ransomware Attack\\n</td>\n",
       "      <td>[pemex, struck, ransomware, attack]</td>\n",
       "      <td>26</td>\n",
       "    </tr>\n",
       "  </tbody>\n",
       "</table>\n",
       "</div>"
      ],
      "text/plain": [
       "                                               texts  \\\n",
       "0  Ransomware attack at Mexico's Pemex halts work...   \n",
       "1  #city | #ransomware | Ransomware Attack At Mex...   \n",
       "2  Mexico's Pemex Oil Suffers Ransomware Attack, ...   \n",
       "3  A Mexican oil company was hit by ransomware at...   \n",
       "4                Pemex Struck by Ransomware Attack\\n   \n",
       "\n",
       "                                       cleaned_texts  cluster_label  \n",
       "0  [ransomware, attack, mexicos, pemex, halts, wo...            131  \n",
       "1  [city, ransomware, ransomware, attack, mexico,...            260  \n",
       "2  [mexicos, pemex, oil, suffers, ransomware, att...            248  \n",
       "3   [mexican, oil, company, hit, ransomware, attack]              4  \n",
       "4                [pemex, struck, ransomware, attack]             26  "
      ]
     },
     "execution_count": 73,
     "metadata": {},
     "output_type": "execute_result"
    }
   ],
   "source": [
    "texts_df.head()"
   ]
  },
  {
   "cell_type": "code",
   "execution_count": 40,
   "id": "f944b757",
   "metadata": {},
   "outputs": [
    {
     "data": {
      "text/plain": [
       "2      14\n",
       "0      14\n",
       "90      7\n",
       "3       7\n",
       "16      7\n",
       "       ..\n",
       "223     1\n",
       "238     1\n",
       "199     1\n",
       "211     1\n",
       "245     1\n",
       "Name: cluster_label, Length: 274, dtype: int64"
      ]
     },
     "execution_count": 40,
     "metadata": {},
     "output_type": "execute_result"
    }
   ],
   "source": [
    "texts_df.cluster_label.value_counts()"
   ]
  },
  {
   "cell_type": "code",
   "execution_count": 41,
   "id": "97e6339a",
   "metadata": {},
   "outputs": [
    {
     "data": {
      "text/plain": [
       "0.00017464702094648939"
      ]
     },
     "execution_count": 41,
     "metadata": {},
     "output_type": "execute_result"
    }
   ],
   "source": [
    "kmeans_model.inertia_"
   ]
  },
  {
   "cell_type": "code",
   "execution_count": 42,
   "id": "5af1285e",
   "metadata": {},
   "outputs": [],
   "source": [
    "y_pred = kmeans_model.predict(all_text_vectors)"
   ]
  },
  {
   "cell_type": "code",
   "execution_count": 43,
   "id": "ae73eb73",
   "metadata": {},
   "outputs": [
    {
     "data": {
      "text/plain": [
       "array([131, 260, 248,   4,  26, 235,  71,  20, 247, 178, 131, 255, 168,\n",
       "       213, 135, 234,  53, 218, 107, 120, 115, 237, 210, 198, 129,  61,\n",
       "       169, 154, 245, 104, 113, 118, 246,   2,  15,  67,  30,   2,   2,\n",
       "       160,  47,  47,  90,  90,   2,  90, 143,  11, 270,  78, 126, 156,\n",
       "         2, 197, 231, 215,  54, 177, 102, 208, 258,  89, 266, 261, 251,\n",
       "        95, 264, 195,  31, 252, 257, 133, 252, 227, 133, 249,  51, 191,\n",
       "       268, 243, 230, 204, 236, 172, 148,   1, 197,   2, 165,   7, 253,\n",
       "       273,  82, 100,  35,  94,  49,  81,  49, 168,  30,   2,   2, 160,\n",
       "        47,  47,   2,  90, 143,  11, 270,  78, 126, 156,   2,  95, 243,\n",
       "       230, 204, 236, 172, 148,   1,   7, 100,  35,  94,  81, 232, 267,\n",
       "        36, 140, 224,  34,  43,  55, 116, 233,  79, 189,   0,   6,  41,\n",
       "        43,  40, 244,  72,   5,  46,  19, 101,  68,  65, 132,  12,  82,\n",
       "       119,  37, 120, 200,  99,  77, 182, 182,  36, 140,  34,  55,   0,\n",
       "        37, 120,  99,  77,  58,   0,  16,  14,  13,  13,  66,  66, 134,\n",
       "        64, 112, 131, 272,  20, 260,  18, 248, 125, 247,   4, 269,  26,\n",
       "        71, 178,  18, 131, 254, 255, 168,  74,   3, 205,  22,  73, 129,\n",
       "        10,  59,  10,   3,   3, 118, 216, 213, 115,   3, 162, 169, 207,\n",
       "        56,  22, 159,  92,  24, 137,  79, 142,   5, 109,  96,  65,  46,\n",
       "       135, 234,  53, 190, 218,  61, 237, 210, 122, 240, 198,  61, 211,\n",
       "        91, 104, 147, 206, 246, 217, 104,  15, 265, 185,  67, 196, 161,\n",
       "       145, 108,  27, 186,  87,  57, 199,  32,  19, 101, 110,  68, 228,\n",
       "       132,  69, 136,  59, 100,  35,  49,  62,  62, 168,   3,  22, 159,\n",
       "         5, 109,  96,  65, 142,  46,  87,  68,  23,  98,  76,   8, 259,\n",
       "         8, 166, 248, 125, 131,  20,   4, 131, 269,  26,  71, 254, 255,\n",
       "        18, 247, 178,  74, 141,  86,  97, 119,  37, 115, 224, 136, 151,\n",
       "        62,  47,  78,  47, 221, 108,  27,  28, 116,  10,  59,  87, 118,\n",
       "        57,  77,  63, 214, 220,  58,  16, 202,  14, 188, 170, 193, 157,\n",
       "        32,  16, 157,  16,  32,  32, 239, 113,  52, 126, 192, 149,  16,\n",
       "        16,  44,   3, 183,  84,  21, 134,  64, 112,  99,  80, 176, 111,\n",
       "        76,  43,  17,  43,  40, 256, 174,  55, 226, 234, 122,   2,   6,\n",
       "        72, 106, 103,  30,   7, 130, 117,  12,  33, 238,  76, 137, 223,\n",
       "        16,  21,  42,  92, 209,  93,  56,   8, 222, 163, 123, 197, 231,\n",
       "       215,  54, 102, 208,  89, 251, 133, 273, 195, 227, 230, 133,  31,\n",
       "       225, 249, 258, 204, 128,  51, 191, 236, 172, 148,   1, 250,   5,\n",
       "        19, 101, 110,  68, 228,  65,  46,  96,  41, 181,  48,  45,  39,\n",
       "       263, 212,  45, 165,  53, 190, 218,  61, 210, 240,  61, 169, 154,\n",
       "        91,  15, 206, 107,  24, 145,  90,  90,   2,  69, 100,  35,  25,\n",
       "        49,  75, 271, 185,  67, 185,  67,  98,   8,  18, 247,  74,  97,\n",
       "        37, 115, 136, 151,  62,  86, 141, 119, 224,  63,  80,  55,   2,\n",
       "        30,   7, 130,  72,  12, 197, 231, 215,  54, 102, 128,  89, 251,\n",
       "       208,  65,  46, 107,  24, 145,  90,   2,  25,  66,  66,  21,  22,\n",
       "        10,  10, 118, 203, 108,  73,  87,  27, 150,  57,  28,  48,  70,\n",
       "       139,  79,  76, 189, 121,  50, 242,  37, 187, 184,  89, 109,  91,\n",
       "        83, 152,  44,  88,  17,  69, 100,  94,  49,  38, 181, 124,  39,\n",
       "       173,  33,  33,  75, 262, 271,  81,   9, 180,   0,  85,   5, 134,\n",
       "         0,  19, 101, 110,  68, 162,  46,  88,  65, 132,   0, 135,  64,\n",
       "       241,  22,  97, 158,  21, 171, 104, 138,  24, 130,  97, 248,  18,\n",
       "       219,  71,   0, 114, 164, 123, 201, 167, 127, 105, 194, 175, 106,\n",
       "       103,   0,   0, 144,  60,   0,   0,   0, 108,  27,  73,  87,  57,\n",
       "        28,  70,  48, 139, 242,  91,  37,  50,  89, 109,  83,  44,  17,\n",
       "        69,  38,  88,  94,  49, 173,   9,   0,  85,   0, 229, 146,  29,\n",
       "        29, 117,  42, 179, 153, 155, 155, 140,  21,  21,  79,  18, 225,\n",
       "        64,  99, 109,   3,  25, 104,  57,  57], dtype=int32)"
      ]
     },
     "execution_count": 43,
     "metadata": {},
     "output_type": "execute_result"
    }
   ],
   "source": [
    "y_pred"
   ]
  },
  {
   "cell_type": "code",
   "execution_count": 44,
   "id": "b71e2d49",
   "metadata": {},
   "outputs": [],
   "source": [
    "from sklearn.metrics import silhouette_score"
   ]
  },
  {
   "cell_type": "code",
   "execution_count": 45,
   "id": "4fdff72e",
   "metadata": {},
   "outputs": [
    {
     "name": "stdout",
     "output_type": "stream",
     "text": [
      "silhouette_score(n_cluster=20) 0.8713735766533465\n"
     ]
    }
   ],
   "source": [
    "print(\"silhouette_score(n_cluster=20)\",silhouette_score(all_text_vectors, y_pred))"
   ]
  },
  {
   "cell_type": "code",
   "execution_count": null,
   "id": "0e80324b",
   "metadata": {},
   "outputs": [],
   "source": []
  },
  {
   "cell_type": "code",
   "execution_count": 64,
   "id": "a2250a44",
   "metadata": {},
   "outputs": [],
   "source": [
    "import numpy as np\n",
    "from sklearn.cluster import DBSCAN\n",
    "from sklearn import metrics"
   ]
  },
  {
   "cell_type": "code",
   "execution_count": 65,
   "id": "60ad9995",
   "metadata": {},
   "outputs": [],
   "source": [
    "db = DBSCAN(eps=0.02, min_samples=10).fit(all_text_vectors)\n",
    "labels = db.labels_"
   ]
  },
  {
   "cell_type": "code",
   "execution_count": 66,
   "id": "1e6ce847",
   "metadata": {},
   "outputs": [
    {
     "name": "stdout",
     "output_type": "stream",
     "text": [
      "Estimated number of clusters: 5\n",
      "Estimated number of noise points: 508\n"
     ]
    }
   ],
   "source": [
    "# Number of clusters in labels, ignoring noise if present.\n",
    "n_clusters_ = len(set(labels)) - (1 if -1 in labels else 0)\n",
    "n_noise_ = list(labels).count(-1)\n",
    "\n",
    "print(\"Estimated number of clusters: %d\" % n_clusters_)\n",
    "print(\"Estimated number of noise points: %d\" % n_noise_)"
   ]
  },
  {
   "cell_type": "code",
   "execution_count": 69,
   "id": "63df4742",
   "metadata": {},
   "outputs": [
    {
     "name": "stdout",
     "output_type": "stream",
     "text": [
      "Silhouette Coefficient: -0.055\n"
     ]
    }
   ],
   "source": [
    "print(f\"Silhouette Coefficient: {metrics.silhouette_score(all_text_vectors, labels):.3f}\")"
   ]
  },
  {
   "cell_type": "code",
   "execution_count": 70,
   "id": "7ce9da66",
   "metadata": {},
   "outputs": [
    {
     "data": {
      "text/plain": [
       "array([ 0,  0,  0,  0, -1, -1,  0,  0,  0,  0,  0,  0, -1,  1,  1,  1,  1,\n",
       "        1, -1, -1, -1,  1,  1,  1, -1, -1, -1, -1, -1,  1, -1, -1,  1,  2,\n",
       "        1, -1, -1,  2,  2, -1, -1, -1, -1, -1,  2, -1, -1, -1, -1, -1, -1,\n",
       "       -1,  2,  3, -1,  3,  3, -1,  3,  3,  3,  3,  3,  3,  3, -1,  3, -1,\n",
       "        3,  3,  3,  3,  3,  3,  3,  3, -1, -1,  3,  3,  3,  3,  3,  3,  3,\n",
       "        3,  3,  2, -1, -1,  3,  3, -1, -1, -1, -1, -1, -1, -1, -1, -1,  2,\n",
       "        2, -1, -1, -1,  2, -1, -1, -1, -1, -1, -1, -1,  2, -1,  3,  3,  3,\n",
       "        3,  3,  3,  3, -1, -1, -1, -1, -1, -1, -1, -1, -1, -1, -1, -1, -1,\n",
       "       -1, -1, -1, -1,  4, -1, -1, -1, -1, -1, -1, -1, -1, -1, -1, -1, -1,\n",
       "       -1, -1, -1, -1, -1, -1, -1, -1, -1, -1, -1, -1, -1, -1, -1,  4, -1,\n",
       "       -1, -1, -1, -1,  4, -1, -1, -1, -1, -1, -1, -1, -1, -1,  0,  0,  0,\n",
       "        0,  0,  0,  0,  0,  0,  0, -1,  0,  0,  0,  0,  0,  0, -1, -1, -1,\n",
       "       -1, -1, -1, -1, -1, -1, -1, -1, -1, -1, -1,  1, -1, -1, -1, -1, -1,\n",
       "       -1, -1, -1, -1, -1, -1, -1, -1, -1, -1, -1, -1, -1,  1,  1,  1, -1,\n",
       "        1, -1,  1,  1, -1,  1,  1, -1, -1, -1,  1, -1,  1,  1, -1,  1,  1,\n",
       "        1, -1, -1, -1, -1, -1, -1, -1, -1, -1, -1, -1, -1, -1, -1, -1, -1,\n",
       "       -1, -1, -1, -1, -1, -1, -1, -1, -1, -1, -1, -1, -1, -1, -1, -1, -1,\n",
       "       -1, -1, -1, -1, -1, -1, -1, -1, -1, -1, -1, -1,  0,  0,  0,  0,  0,\n",
       "        0,  0, -1,  0,  0,  0,  0,  0,  0, -1, -1, -1, -1, -1, -1, -1, -1,\n",
       "       -1, -1, -1, -1, -1, -1, -1, -1, -1, -1, -1, -1, -1, -1, -1, -1, -1,\n",
       "       -1, -1, -1, -1, -1, -1, -1, -1, -1, -1, -1, -1, -1, -1, -1, -1, -1,\n",
       "       -1, -1, -1, -1, -1, -1, -1, -1, -1, -1, -1, -1, -1, -1, -1, -1, -1,\n",
       "       -1, -1, -1, -1, -1, -1, -1, -1, -1, -1, -1, -1,  1, -1,  2, -1, -1,\n",
       "       -1, -1, -1, -1, -1, -1, -1, -1, -1, -1, -1, -1, -1, -1, -1, -1, -1,\n",
       "       -1, -1, -1, -1, -1, -1,  3, -1,  3,  3,  3,  3,  3,  3,  3,  3, -1,\n",
       "        3,  3,  3,  3, -1,  3,  3,  3, -1, -1, -1,  3,  3,  3,  3,  3, -1,\n",
       "       -1, -1, -1, -1, -1, -1, -1, -1, -1, -1, -1, -1, -1, -1, -1, -1, -1,\n",
       "        1, -1,  1, -1,  1,  1, -1, -1, -1, -1,  1,  1, -1, -1, -1, -1, -1,\n",
       "        2, -1, -1, -1, -1, -1, -1, -1, -1, -1, -1, -1, -1, -1,  0,  0, -1,\n",
       "       -1, -1, -1, -1, -1, -1, -1, -1, -1, -1, -1, -1, -1,  2, -1, -1, -1,\n",
       "       -1, -1,  3, -1,  3,  3,  3, -1,  3,  3,  3, -1, -1, -1, -1, -1, -1,\n",
       "        2, -1, -1, -1, -1, -1, -1, -1, -1, -1, -1, -1, -1, -1, -1, -1, -1,\n",
       "       -1, -1, -1, -1, -1, -1, -1, -1, -1, -1, -1, -1,  3, -1, -1, -1, -1,\n",
       "       -1, -1, -1, -1, -1, -1, -1, -1, -1, -1, -1, -1, -1, -1, -1, -1, -1,\n",
       "       -1, -1, -1,  4, -1, -1, -1,  4, -1, -1, -1, -1, -1, -1, -1, -1, -1,\n",
       "        4,  1, -1, -1, -1, -1, -1, -1, -1,  1, -1, -1, -1, -1,  0,  0, -1,\n",
       "        0,  4, -1, -1, -1, -1, -1, -1, -1, -1, -1, -1, -1,  4,  4, -1, -1,\n",
       "        4,  4,  4, -1, -1, -1, -1, -1, -1, -1, -1, -1, -1, -1, -1, -1,  3,\n",
       "       -1, -1, -1, -1, -1, -1, -1, -1, -1, -1, -1,  4, -1,  4, -1, -1, -1,\n",
       "       -1, -1, -1, -1, -1, -1, -1, -1, -1, -1, -1,  0, -1, -1, -1, -1, -1,\n",
       "       -1,  1, -1, -1])"
      ]
     },
     "execution_count": 70,
     "metadata": {},
     "output_type": "execute_result"
    }
   ],
   "source": [
    "db.labels_"
   ]
  },
  {
   "cell_type": "code",
   "execution_count": null,
   "id": "6cf00597",
   "metadata": {},
   "outputs": [],
   "source": []
  },
  {
   "cell_type": "code",
   "execution_count": null,
   "id": "53134182",
   "metadata": {},
   "outputs": [],
   "source": []
  }
 ],
 "metadata": {
  "kernelspec": {
   "display_name": "Python 3 (ipykernel)",
   "language": "python",
   "name": "python3"
  },
  "language_info": {
   "codemirror_mode": {
    "name": "ipython",
    "version": 3
   },
   "file_extension": ".py",
   "mimetype": "text/x-python",
   "name": "python",
   "nbconvert_exporter": "python",
   "pygments_lexer": "ipython3",
   "version": "3.10.6"
  }
 },
 "nbformat": 4,
 "nbformat_minor": 5
}
