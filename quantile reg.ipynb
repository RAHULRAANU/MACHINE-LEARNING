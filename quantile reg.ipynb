{
 "cells": [
  {
   "cell_type": "code",
   "execution_count": 1,
   "id": "bbaabd94",
   "metadata": {},
   "outputs": [],
   "source": [
    "import numpy as np\n",
    "import pandas as pd  \n",
    "import seaborn as sns \n",
    "import matplotlib.pyplot as plt \n",
    "from sklearn.linear_model import LinearRegression\n",
    "from sklearn.metrics import r2_score\n",
    "\n",
    "from sklearn.preprocessing import power_transform\n",
    "\n",
    "from sklearn import metrics\n",
    "import statsmodels.api as sm\n",
    "import statsmodels.formula.api as smf"
   ]
  },
  {
   "cell_type": "code",
   "execution_count": 2,
   "id": "fa824145",
   "metadata": {},
   "outputs": [],
   "source": [
    "# from sklearn.datasets import load_boston\n",
    "# boston_dataset = load_boston()\n",
    "# boston = pd.DataFrame(boston_dataset.data, columns=boston_dataset.feature_names)\n",
    "# boston.head()"
   ]
  },
  {
   "cell_type": "code",
   "execution_count": 3,
   "id": "d01ecc07",
   "metadata": {},
   "outputs": [
    {
     "data": {
      "text/html": [
       "<div>\n",
       "<style scoped>\n",
       "    .dataframe tbody tr th:only-of-type {\n",
       "        vertical-align: middle;\n",
       "    }\n",
       "\n",
       "    .dataframe tbody tr th {\n",
       "        vertical-align: top;\n",
       "    }\n",
       "\n",
       "    .dataframe thead th {\n",
       "        text-align: right;\n",
       "    }\n",
       "</style>\n",
       "<table border=\"1\" class=\"dataframe\">\n",
       "  <thead>\n",
       "    <tr style=\"text-align: right;\">\n",
       "      <th></th>\n",
       "      <th>income</th>\n",
       "      <th>foodexp</th>\n",
       "    </tr>\n",
       "  </thead>\n",
       "  <tbody>\n",
       "    <tr>\n",
       "      <th>0</th>\n",
       "      <td>420.157651</td>\n",
       "      <td>255.839425</td>\n",
       "    </tr>\n",
       "    <tr>\n",
       "      <th>1</th>\n",
       "      <td>541.411707</td>\n",
       "      <td>310.958667</td>\n",
       "    </tr>\n",
       "    <tr>\n",
       "      <th>2</th>\n",
       "      <td>901.157457</td>\n",
       "      <td>485.680014</td>\n",
       "    </tr>\n",
       "    <tr>\n",
       "      <th>3</th>\n",
       "      <td>639.080229</td>\n",
       "      <td>402.997356</td>\n",
       "    </tr>\n",
       "    <tr>\n",
       "      <th>4</th>\n",
       "      <td>750.875606</td>\n",
       "      <td>495.560775</td>\n",
       "    </tr>\n",
       "    <tr>\n",
       "      <th>5</th>\n",
       "      <td>945.798931</td>\n",
       "      <td>633.797815</td>\n",
       "    </tr>\n",
       "    <tr>\n",
       "      <th>6</th>\n",
       "      <td>829.397887</td>\n",
       "      <td>630.756568</td>\n",
       "    </tr>\n",
       "    <tr>\n",
       "      <th>7</th>\n",
       "      <td>979.164836</td>\n",
       "      <td>700.440904</td>\n",
       "    </tr>\n",
       "    <tr>\n",
       "      <th>8</th>\n",
       "      <td>1309.878940</td>\n",
       "      <td>830.958622</td>\n",
       "    </tr>\n",
       "    <tr>\n",
       "      <th>9</th>\n",
       "      <td>1492.398744</td>\n",
       "      <td>815.360217</td>\n",
       "    </tr>\n",
       "  </tbody>\n",
       "</table>\n",
       "</div>"
      ],
      "text/plain": [
       "        income     foodexp\n",
       "0   420.157651  255.839425\n",
       "1   541.411707  310.958667\n",
       "2   901.157457  485.680014\n",
       "3   639.080229  402.997356\n",
       "4   750.875606  495.560775\n",
       "5   945.798931  633.797815\n",
       "6   829.397887  630.756568\n",
       "7   979.164836  700.440904\n",
       "8  1309.878940  830.958622\n",
       "9  1492.398744  815.360217"
      ]
     },
     "execution_count": 3,
     "metadata": {},
     "output_type": "execute_result"
    }
   ],
   "source": [
    "data = sm.datasets.engel.load_pandas().data\n",
    "data.head(10)"
   ]
  },
  {
   "cell_type": "code",
   "execution_count": 4,
   "id": "d013e28e",
   "metadata": {},
   "outputs": [
    {
     "data": {
      "text/html": [
       "<div>\n",
       "<style scoped>\n",
       "    .dataframe tbody tr th:only-of-type {\n",
       "        vertical-align: middle;\n",
       "    }\n",
       "\n",
       "    .dataframe tbody tr th {\n",
       "        vertical-align: top;\n",
       "    }\n",
       "\n",
       "    .dataframe thead th {\n",
       "        text-align: right;\n",
       "    }\n",
       "</style>\n",
       "<table border=\"1\" class=\"dataframe\">\n",
       "  <thead>\n",
       "    <tr style=\"text-align: right;\">\n",
       "      <th></th>\n",
       "      <th>income</th>\n",
       "      <th>foodexp</th>\n",
       "    </tr>\n",
       "  </thead>\n",
       "  <tbody>\n",
       "    <tr>\n",
       "      <th>count</th>\n",
       "      <td>235.000000</td>\n",
       "      <td>235.000000</td>\n",
       "    </tr>\n",
       "    <tr>\n",
       "      <th>mean</th>\n",
       "      <td>982.473044</td>\n",
       "      <td>624.150111</td>\n",
       "    </tr>\n",
       "    <tr>\n",
       "      <th>std</th>\n",
       "      <td>519.230879</td>\n",
       "      <td>276.456997</td>\n",
       "    </tr>\n",
       "    <tr>\n",
       "      <th>min</th>\n",
       "      <td>377.058369</td>\n",
       "      <td>242.320202</td>\n",
       "    </tr>\n",
       "    <tr>\n",
       "      <th>25%</th>\n",
       "      <td>638.875788</td>\n",
       "      <td>429.688763</td>\n",
       "    </tr>\n",
       "    <tr>\n",
       "      <th>50%</th>\n",
       "      <td>883.984917</td>\n",
       "      <td>582.541251</td>\n",
       "    </tr>\n",
       "    <tr>\n",
       "      <th>75%</th>\n",
       "      <td>1163.986672</td>\n",
       "      <td>743.881432</td>\n",
       "    </tr>\n",
       "    <tr>\n",
       "      <th>max</th>\n",
       "      <td>4957.813024</td>\n",
       "      <td>2032.679190</td>\n",
       "    </tr>\n",
       "  </tbody>\n",
       "</table>\n",
       "</div>"
      ],
      "text/plain": [
       "            income      foodexp\n",
       "count   235.000000   235.000000\n",
       "mean    982.473044   624.150111\n",
       "std     519.230879   276.456997\n",
       "min     377.058369   242.320202\n",
       "25%     638.875788   429.688763\n",
       "50%     883.984917   582.541251\n",
       "75%    1163.986672   743.881432\n",
       "max    4957.813024  2032.679190"
      ]
     },
     "execution_count": 4,
     "metadata": {},
     "output_type": "execute_result"
    }
   ],
   "source": [
    "data.describe()"
   ]
  },
  {
   "cell_type": "code",
   "execution_count": 5,
   "id": "d2e74f18",
   "metadata": {},
   "outputs": [
    {
     "data": {
      "text/plain": [
       "(235, 2)"
      ]
     },
     "execution_count": 5,
     "metadata": {},
     "output_type": "execute_result"
    }
   ],
   "source": [
    "data.shape"
   ]
  },
  {
   "cell_type": "code",
   "execution_count": 6,
   "id": "b34f4e7f",
   "metadata": {},
   "outputs": [
    {
     "name": "stdout",
     "output_type": "stream",
     "text": [
      "<class 'pandas.core.frame.DataFrame'>\n",
      "RangeIndex: 235 entries, 0 to 234\n",
      "Data columns (total 2 columns):\n",
      " #   Column   Non-Null Count  Dtype  \n",
      "---  ------   --------------  -----  \n",
      " 0   income   235 non-null    float64\n",
      " 1   foodexp  235 non-null    float64\n",
      "dtypes: float64(2)\n",
      "memory usage: 3.8 KB\n"
     ]
    }
   ],
   "source": [
    "data.info()"
   ]
  },
  {
   "cell_type": "code",
   "execution_count": 7,
   "id": "51b78ad3",
   "metadata": {},
   "outputs": [
    {
     "data": {
      "text/plain": [
       "income     0.0\n",
       "foodexp    0.0\n",
       "dtype: float64"
      ]
     },
     "execution_count": 7,
     "metadata": {},
     "output_type": "execute_result"
    }
   ],
   "source": [
    "data.isna().mean()"
   ]
  },
  {
   "cell_type": "code",
   "execution_count": 8,
   "id": "aeb6af48",
   "metadata": {},
   "outputs": [
    {
     "name": "stderr",
     "output_type": "stream",
     "text": [
      "/usr/local/lib/python3.10/dist-packages/seaborn/distributions.py:2619: FutureWarning: `distplot` is a deprecated function and will be removed in a future version. Please adapt your code to use either `displot` (a figure-level function with similar flexibility) or `histplot` (an axes-level function for histograms).\n",
      "  warnings.warn(msg, FutureWarning)\n"
     ]
    },
    {
     "data": {
      "image/png": "[encoded data removed]",
      "text/plain": [
       "<Figure size 640x480 with 1 Axes>"
      ]
     },
     "metadata": {},
     "output_type": "display_data"
    }
   ],
   "source": [
    "# plt.hist(data.income, bins = 10)\n",
    "sns.distplot(data.income)\n",
    "plt.show()"
   ]
  },
  {
   "cell_type": "code",
   "execution_count": 9,
   "id": "e47c639e",
   "metadata": {},
   "outputs": [],
   "source": [
    "# y_box_cox = power_transform(np.expand_dims(data.income, axis=1), method='box-cox').flatten()\n",
    "# sns.distplot(a=y_box_cox, kde=True)"
   ]
  },
  {
   "cell_type": "code",
   "execution_count": 10,
   "id": "113a5e5f",
   "metadata": {},
   "outputs": [
    {
     "data": {
      "text/plain": [
       "2.7986231725285586"
      ]
     },
     "execution_count": 10,
     "metadata": {},
     "output_type": "execute_result"
    }
   ],
   "source": [
    "data.income.skew()"
   ]
  },
  {
   "cell_type": "code",
   "execution_count": 11,
   "id": "fe9796bf",
   "metadata": {},
   "outputs": [
    {
     "data": {
      "text/plain": [
       "1.7223553604955857"
      ]
     },
     "execution_count": 11,
     "metadata": {},
     "output_type": "execute_result"
    }
   ],
   "source": [
    "data.foodexp.skew()"
   ]
  },
  {
   "cell_type": "code",
   "execution_count": 12,
   "id": "0637fbdc",
   "metadata": {},
   "outputs": [
    {
     "name": "stdout",
     "output_type": "stream",
     "text": [
      "Pearsons correlation: 0.911\n",
      "Spearmans correlation: 0.938\n"
     ]
    }
   ],
   "source": [
    "from scipy.stats import pearsonr\n",
    "# calculate Pearson's correlation\n",
    "corr, _ = pearsonr(data['income'], data['foodexp'])\n",
    "print('Pearsons correlation: %.3f' % corr)\n",
    "\n",
    "from scipy.stats import spearmanr\n",
    "# calculate spearman's correlation\n",
    "corr, _ = spearmanr(data['income'], data['foodexp'])\n",
    "print('Spearmans correlation: %.3f' % corr)"
   ]
  },
  {
   "cell_type": "code",
   "execution_count": 13,
   "id": "405276f9",
   "metadata": {},
   "outputs": [
    {
     "name": "stderr",
     "output_type": "stream",
     "text": [
      "/usr/local/lib/python3.10/dist-packages/seaborn/distributions.py:2619: FutureWarning: `distplot` is a deprecated function and will be removed in a future version. Please adapt your code to use either `displot` (a figure-level function with similar flexibility) or `histplot` (an axes-level function for histograms).\n",
      "  warnings.warn(msg, FutureWarning)\n"
     ]
    },
    {
     "data": {
      "text/plain": [
       "<AxesSubplot:xlabel='foodexp', ylabel='Density'>"
      ]
     },
     "execution_count": 13,
     "metadata": {},
     "output_type": "execute_result"
    },
    {
     "data": {
      "image/png": "[encoded data removed]",
      "text/plain": [
       "<Figure size 640x480 with 1 Axes>"
      ]
     },
     "metadata": {},
     "output_type": "display_data"
    }
   ],
   "source": [
    "sns.distplot(data.foodexp)"
   ]
  },
  {
   "cell_type": "code",
   "execution_count": 14,
   "id": "6c84c48e",
   "metadata": {},
   "outputs": [],
   "source": [
    "# y_box_cox = power_transform(np.expand_dims(data.foodexp, axis=1), method='box-cox').flatten()\n",
    "# sns.distplot(a=y_box_cox, kde=True)"
   ]
  },
  {
   "cell_type": "code",
   "execution_count": 15,
   "id": "39a77f7e",
   "metadata": {},
   "outputs": [
    {
     "name": "stderr",
     "output_type": "stream",
     "text": [
      "/usr/local/lib/python3.10/dist-packages/seaborn/_decorators.py:36: FutureWarning: Pass the following variable as a keyword arg: x. From version 0.12, the only valid positional argument will be `data`, and passing other arguments without an explicit keyword will result in an error or misinterpretation.\n",
      "  warnings.warn(\n"
     ]
    },
    {
     "data": {
      "text/plain": [
       "<AxesSubplot:xlabel='income'>"
      ]
     },
     "execution_count": 15,
     "metadata": {},
     "output_type": "execute_result"
    },
    {
     "data": {
      "image/png": "[encoded data removed]",
      "text/plain": [
       "<Figure size 640x480 with 1 Axes>"
      ]
     },
     "metadata": {},
     "output_type": "display_data"
    }
   ],
   "source": [
    "sns.boxplot(data.income)"
   ]
  },
  {
   "cell_type": "code",
   "execution_count": 16,
   "id": "44a07d96",
   "metadata": {},
   "outputs": [
    {
     "name": "stderr",
     "output_type": "stream",
     "text": [
      "/usr/local/lib/python3.10/dist-packages/seaborn/_decorators.py:36: FutureWarning: Pass the following variable as a keyword arg: x. From version 0.12, the only valid positional argument will be `data`, and passing other arguments without an explicit keyword will result in an error or misinterpretation.\n",
      "  warnings.warn(\n"
     ]
    },
    {
     "data": {
      "text/plain": [
       "<AxesSubplot:xlabel='foodexp'>"
      ]
     },
     "execution_count": 16,
     "metadata": {},
     "output_type": "execute_result"
    },
    {
     "data": {
      "image/png": "[encoded data removed]",
      "text/plain": [
       "<Figure size 640x480 with 1 Axes>"
      ]
     },
     "metadata": {},
     "output_type": "display_data"
    }
   ],
   "source": [
    "sns.boxplot(data.foodexp)"
   ]
  },
  {
   "cell_type": "markdown",
   "id": "83fcd607",
   "metadata": {},
   "source": [
    " ## Least Absolute Deviation\n",
    "## The LAD model is a special case of quantile regression where q=0.5"
   ]
  },
  {
   "cell_type": "code",
   "execution_count": 17,
   "id": "039683bc",
   "metadata": {},
   "outputs": [
    {
     "name": "stdout",
     "output_type": "stream",
     "text": [
      "                         QuantReg Regression Results                          \n",
      "==============================================================================\n",
      "Dep. Variable:                foodexp   Pseudo R-squared:               0.6206\n",
      "Model:                       QuantReg   Bandwidth:                       64.51\n",
      "Method:                 Least Squares   Sparsity:                        209.3\n",
      "Date:                Mon, 14 Nov 2022   No. Observations:                  235\n",
      "Time:                        12:24:24   Df Residuals:                      233\n",
      "                                        Df Model:                            1\n",
      "==============================================================================\n",
      "                 coef    std err          t      P>|t|      [0.025      0.975]\n",
      "------------------------------------------------------------------------------\n",
      "Intercept     81.4823     14.634      5.568      0.000      52.649     110.315\n",
      "income         0.5602      0.013     42.516      0.000       0.534       0.586\n",
      "==============================================================================\n",
      "\n",
      "The condition number is large, 2.38e+03. This might indicate that there are\n",
      "strong multicollinearity or other numerical problems.\n"
     ]
    }
   ],
   "source": [
    "mod = smf.quantreg('foodexp ~ income', data)\n",
    "# mod\n",
    "res = mod.fit(q=.5)\n",
    "print(res.summary())"
   ]
  },
  {
   "cell_type": "markdown",
   "id": "345d6514",
   "metadata": {},
   "source": [
    "## Visualizing the results\n",
    "We estimate the quantile regression model for many quantiles between .025 and .98, and compare best fit line from each of these models to Ordinary Least Squares results."
   ]
  },
  {
   "cell_type": "code",
   "execution_count": null,
   "id": "20923c84",
   "metadata": {},
   "outputs": [],
   "source": []
  },
  {
   "cell_type": "code",
   "execution_count": 18,
   "id": "932e61f2",
   "metadata": {
    "scrolled": true
   },
   "outputs": [
    {
     "name": "stdout",
     "output_type": "stream",
     "text": [
      "       q   Intercept    income        LB        UB\n",
      "0  0.025  109.461087  0.346471  0.257959  0.434983\n",
      "1  0.125  110.303431  0.409106  0.363667  0.454544\n",
      "2  0.225  100.750012  0.458456  0.422233  0.494680\n",
      "3  0.325  106.080084  0.479873  0.447725  0.512022\n",
      "4  0.425   98.547120  0.518995  0.489226  0.548764\n",
      "5  0.525   91.537392  0.555628  0.530086  0.581170\n",
      "6  0.625   84.067242  0.585532  0.562750  0.608313\n",
      "7  0.725   61.687333  0.640250  0.618198  0.662302\n",
      "8  0.825   59.885090  0.660106  0.640634  0.679578\n",
      "9  0.925   64.851155  0.697185  0.669069  0.725301\n",
      "\n",
      "\n",
      "{'a': 147.47538852370573, 'b': 0.48517842367692354, 'lb': 0.4568738130184233, 'ub': 0.5134830343354237}\n"
     ]
    }
   ],
   "source": [
    "quantiles = np.arange(0.025, 0.975, 0.1)\n",
    "\n",
    "def fit_model(q):\n",
    "    res = mod.fit(q=q)\n",
    "    return [q, res.params['Intercept'], res.params['income']] + res.conf_int().loc['income'].tolist()\n",
    "\n",
    "models = [fit_model(x) for x in quantiles]\n",
    "models = pd.DataFrame(models, columns = ['q', 'Intercept', 'income', 'LB', 'UB'])\n",
    "\n",
    "ols = smf.ols('foodexp ~ income', data).fit()\n",
    "ols_ci = ols.conf_int().loc['income'].tolist() # \"ols.conf_int\" will give the lower and upper bounds\n",
    "ols = dict(a = ols.params['Intercept'], \n",
    "          b = ols.params['income'],\n",
    "          lb = ols_ci[0], \n",
    "          ub = ols_ci[1])\n",
    "\n",
    "print(models)\n",
    "print(\"\\n\")\n",
    "print(ols)"
   ]
  },
  {
   "cell_type": "markdown",
   "id": "fe6308ba",
   "metadata": {},
   "source": [
    "## First plot\n",
    "This plot compares best fit lines for 10 quantile regression models to the least squares fit. As Koenker and Hallock (2001) point out, we see that:\n",
    "\n",
    "1). Food expenditure increases with income.\n",
    "\n",
    "2). The dispersion of food expenditure increases with income.\n",
    "\n",
    "3). The least squares estimates fit low income observations quite poorly (i.e. the OLS line passes over most low income households)."
   ]
  },
  {
   "cell_type": "code",
   "execution_count": 19,
   "id": "b7a2f1f4",
   "metadata": {},
   "outputs": [
    {
     "data": {
      "image/png": "[encoded data removed]",
      "text/plain": [
       "<Figure size 800x600 with 1 Axes>"
      ]
     },
     "metadata": {},
     "output_type": "display_data"
    }
   ],
   "source": [
    "x = np.arange(data.income.min(), data.income.max(), 50)\n",
    "get_y = lambda a, b: a + b * x\n",
    "\n",
    "fig, ax = plt.subplots(figsize=(8,6))\n",
    "\n",
    "for i in range(models.shape[0]):\n",
    "    y = get_y(models.Intercept[i], models.income[i])\n",
    "    ax.plot(x, y, linestyle = 'dotted', color = 'grey')\n",
    "y = get_y(ols['a'], ols['b'])\n",
    "\n",
    "ax.plot(x, y, color='red', label='OLS')\n",
    "ax.scatter(data.income, data.foodexp, alpha=.2)\n",
    "ax.set_xlim((240, 3000))\n",
    "ax.set_ylim((240, 2000))\n",
    "legend = ax.legend()\n",
    "ax.set_xlabel('Income', fontsize = 16)\n",
    "ax.set_ylabel('Food Expenditure', fontsize = 16);"
   ]
  },
  {
   "cell_type": "markdown",
   "id": "5ec0b7a5",
   "metadata": {},
   "source": [
    "## Second plot\n",
    "The dotted black lines form 95% point-wise confidence band around 10 quantile regression estimates (solid black line). The red lines represent OLS regression results along with their 95% confindence interval.\n",
    "\n",
    "In most cases, the quantile regression point estimates lie outside the OLS confidence interval, which suggests that the effect of income on food expenditure may not be constant across the distribution."
   ]
  },
  {
   "cell_type": "code",
   "execution_count": 20,
   "id": "735c005a",
   "metadata": {},
   "outputs": [
    {
     "data": {
      "image/png": "[encoded data removed]",
      "text/plain": [
       "<Figure size 640x480 with 1 Axes>"
      ]
     },
     "metadata": {},
     "output_type": "display_data"
    }
   ],
   "source": [
    "n = models.shape[0]\n",
    "\n",
    "p1 = plt.plot(models.q, models.income, color='black', label='Quantile Reg.')\n",
    "p2 = plt.plot(models.q, models.UB, color='black', linestyle='dotted')\n",
    "p3 = plt.plot(models.q, models.LB, color='black', linestyle='dotted')\n",
    "p4 = plt.plot(models.q, [ols['b']] * n, color='red', label='OLS')\n",
    "P5 = plt.plot(models.q, [ols['lb']] * n, color='red', linestyle='dotted')\n",
    "p6 = plt.plot(models.q, [ols['ub']] * n, color='red', linestyle='dotted')\n",
    "\n",
    "plt.ylabel(r'$\\beta_{income}$')\n",
    "plt.xlabel('Quantiles of the conditional food expenditure distribution')\n",
    "plt.legend()\n",
    "plt.show();"
   ]
  },
  {
   "cell_type": "code",
   "execution_count": 21,
   "id": "90b14d89",
   "metadata": {},
   "outputs": [],
   "source": [
    "X = data.income\n",
    "y = data.foodexp"
   ]
  },
  {
   "cell_type": "markdown",
   "id": "22525188",
   "metadata": {},
   "source": [
    "## Logrithm Transformation\n",
    "y= a+ b* log(x)"
   ]
  },
  {
   "cell_type": "code",
   "execution_count": 22,
   "id": "134e9757",
   "metadata": {},
   "outputs": [],
   "source": [
    "# # Input dataset\n",
    "# X_log = np.log(data['income'].values.reshape(-1,1))\n",
    "\n",
    "# # Output or Predicted Value of data\n",
    "# y_log = data['foodexp'].values.reshape(-1,1)"
   ]
  },
  {
   "cell_type": "code",
   "execution_count": 23,
   "id": "6e1c34cb",
   "metadata": {},
   "outputs": [],
   "source": [
    " from sklearn.model_selection import train_test_split"
   ]
  },
  {
   "cell_type": "code",
   "execution_count": 24,
   "id": "0d24cb45",
   "metadata": {},
   "outputs": [
    {
     "data": {
      "text/plain": [
       "(157,)"
      ]
     },
     "execution_count": 24,
     "metadata": {},
     "output_type": "execute_result"
    }
   ],
   "source": [
    "X_train, X_test, y_train, y_test = train_test_split(\n",
    "...     X, y, test_size=0.33, random_state= 2529)\n",
    "X_train.shape"
   ]
  },
  {
   "cell_type": "code",
   "execution_count": 25,
   "id": "11f12a15",
   "metadata": {},
   "outputs": [
    {
     "data": {
      "text/plain": [
       "(157, 1)"
      ]
     },
     "execution_count": 25,
     "metadata": {},
     "output_type": "execute_result"
    }
   ],
   "source": [
    "X_train = X_train.values.reshape(-1, 1)\n",
    "y_train = y_train.values.reshape(-1, 1)\n",
    "X_test = X_test.values.reshape(-1, 1)\n",
    "y_test = y_test.values.reshape(-1, 1)\n",
    "X_train.shape"
   ]
  },
  {
   "cell_type": "code",
   "execution_count": 26,
   "id": "cb11848d",
   "metadata": {},
   "outputs": [],
   "source": [
    "import lightgbm as lgb"
   ]
  },
  {
   "cell_type": "code",
   "execution_count": 27,
   "id": "65faa413",
   "metadata": {},
   "outputs": [],
   "source": [
    "def lgb_model(q):\n",
    "    model = lgb.LGBMRegressor(\n",
    "        objective = 'quantile',\n",
    "        alpha = q,\n",
    "        learning_rate = 0.05,\n",
    "        n_estimators = 1000,\n",
    "        min_data_in_leaf=5,\n",
    "        num_leaves = 100000,\n",
    "        bagging_fraction=0.95,\n",
    "        feature_fraction = 0.95,\n",
    "        max_depth = 10,\n",
    "        random_state = 12,\n",
    "        num_threads = -1\n",
    "    )\n",
    "    model.fit(X_train,y_train)\n",
    "    score = model.score(X_train,y_train)\n",
    "    print(f'quantile {q} score: {round(score,3)}')\n",
    "    y_pred = model.predict(X_test)\n",
    "    return y_pred"
   ]
  },
  {
   "cell_type": "code",
   "execution_count": 28,
   "id": "e588cbf1",
   "metadata": {},
   "outputs": [
    {
     "name": "stderr",
     "output_type": "stream",
     "text": [
      "/home/rahul/.local/lib/python3.10/site-packages/sklearn/utils/validation.py:1111: DataConversionWarning: A column-vector y was passed when a 1d array was expected. Please change the shape of y to (n_samples, ), for example using ravel().\n",
      "  y = column_or_1d(y, warn=True)\n"
     ]
    },
    {
     "name": "stdout",
     "output_type": "stream",
     "text": [
      "[LightGBM] [Warning] num_threads is set=-1, n_jobs=-1 will be ignored. Current value: num_threads=-1\n",
      "[LightGBM] [Warning] bagging_fraction is set=0.95, subsample=1.0 will be ignored. Current value: bagging_fraction=0.95\n",
      "[LightGBM] [Warning] feature_fraction is set=0.95, colsample_bytree=1.0 will be ignored. Current value: feature_fraction=0.95\n",
      "[LightGBM] [Warning] min_data_in_leaf is set=5, min_child_samples=20 will be ignored. Current value: min_data_in_leaf=5\n",
      "quantile 0.05 score: 0.697\n",
      "[LightGBM] [Warning] num_threads is set=-1, n_jobs=-1 will be ignored. Current value: num_threads=-1\n",
      "[LightGBM] [Warning] bagging_fraction is set=0.95, subsample=1.0 will be ignored. Current value: bagging_fraction=0.95\n",
      "[LightGBM] [Warning] feature_fraction is set=0.95, colsample_bytree=1.0 will be ignored. Current value: feature_fraction=0.95\n",
      "[LightGBM] [Warning] min_data_in_leaf is set=5, min_child_samples=20 will be ignored. Current value: min_data_in_leaf=5\n"
     ]
    },
    {
     "name": "stderr",
     "output_type": "stream",
     "text": [
      "/home/rahul/.local/lib/python3.10/site-packages/sklearn/utils/validation.py:1111: DataConversionWarning: A column-vector y was passed when a 1d array was expected. Please change the shape of y to (n_samples, ), for example using ravel().\n",
      "  y = column_or_1d(y, warn=True)\n"
     ]
    },
    {
     "name": "stdout",
     "output_type": "stream",
     "text": [
      "quantile 0.5 score: 0.867\n",
      "[LightGBM] [Warning] num_threads is set=-1, n_jobs=-1 will be ignored. Current value: num_threads=-1\n",
      "[LightGBM] [Warning] bagging_fraction is set=0.95, subsample=1.0 will be ignored. Current value: bagging_fraction=0.95\n",
      "[LightGBM] [Warning] feature_fraction is set=0.95, colsample_bytree=1.0 will be ignored. Current value: feature_fraction=0.95\n",
      "[LightGBM] [Warning] min_data_in_leaf is set=5, min_child_samples=20 will be ignored. Current value: min_data_in_leaf=5\n"
     ]
    },
    {
     "name": "stderr",
     "output_type": "stream",
     "text": [
      "/home/rahul/.local/lib/python3.10/site-packages/sklearn/utils/validation.py:1111: DataConversionWarning: A column-vector y was passed when a 1d array was expected. Please change the shape of y to (n_samples, ), for example using ravel().\n",
      "  y = column_or_1d(y, warn=True)\n"
     ]
    },
    {
     "name": "stdout",
     "output_type": "stream",
     "text": [
      "quantile 0.95 score: 0.507\n"
     ]
    }
   ],
   "source": [
    "sub = pd.DataFrame()\n",
    "# sub['Income']  = data.income[0:78]\n",
    "sub['q0.05'] = lgb_model(0.05)\n",
    "sub['q0.5'] = lgb_model(0.5)\n",
    "sub['q0.95'] = lgb_model(0.95)"
   ]
  },
  {
   "cell_type": "code",
   "execution_count": 29,
   "id": "ebef149f",
   "metadata": {},
   "outputs": [
    {
     "data": {
      "text/html": [
       "<style>#sk-container-id-1 {color: black;background-color: white;}#sk-container-id-1 pre{padding: 0;}#sk-container-id-1 div.sk-toggleable {background-color: white;}#sk-container-id-1 label.sk-toggleable__label {cursor: pointer;display: block;width: 100%;margin-bottom: 0;padding: 0.3em;box-sizing: border-box;text-align: center;}#sk-container-id-1 label.sk-toggleable__label-arrow:before {content: \"▸\";float: left;margin-right: 0.25em;color: #696969;}#sk-container-id-1 label.sk-toggleable__label-arrow:hover:before {color: black;}#sk-container-id-1 div.sk-estimator:hover label.sk-toggleable__label-arrow:before {color: black;}#sk-container-id-1 div.sk-toggleable__content {max-height: 0;max-width: 0;overflow: hidden;text-align: left;background-color: #f0f8ff;}#sk-container-id-1 div.sk-toggleable__content pre {margin: 0.2em;color: black;border-radius: 0.25em;background-color: #f0f8ff;}#sk-container-id-1 input.sk-toggleable__control:checked~div.sk-toggleable__content {max-height: 200px;max-width: 100%;overflow: auto;}#sk-container-id-1 input.sk-toggleable__control:checked~label.sk-toggleable__label-arrow:before {content: \"▾\";}#sk-container-id-1 div.sk-estimator input.sk-toggleable__control:checked~label.sk-toggleable__label {background-color: #d4ebff;}#sk-container-id-1 div.sk-label input.sk-toggleable__control:checked~label.sk-toggleable__label {background-color: #d4ebff;}#sk-container-id-1 input.sk-hidden--visually {border: 0;clip: rect(1px 1px 1px 1px);clip: rect(1px, 1px, 1px, 1px);height: 1px;margin: -1px;overflow: hidden;padding: 0;position: absolute;width: 1px;}#sk-container-id-1 div.sk-estimator {font-family: monospace;background-color: #f0f8ff;border: 1px dotted black;border-radius: 0.25em;box-sizing: border-box;margin-bottom: 0.5em;}#sk-container-id-1 div.sk-estimator:hover {background-color: #d4ebff;}#sk-container-id-1 div.sk-parallel-item::after {content: \"\";width: 100%;border-bottom: 1px solid gray;flex-grow: 1;}#sk-container-id-1 div.sk-label:hover label.sk-toggleable__label {background-color: #d4ebff;}#sk-container-id-1 div.sk-serial::before {content: \"\";position: absolute;border-left: 1px solid gray;box-sizing: border-box;top: 0;bottom: 0;left: 50%;z-index: 0;}#sk-container-id-1 div.sk-serial {display: flex;flex-direction: column;align-items: center;background-color: white;padding-right: 0.2em;padding-left: 0.2em;position: relative;}#sk-container-id-1 div.sk-item {position: relative;z-index: 1;}#sk-container-id-1 div.sk-parallel {display: flex;align-items: stretch;justify-content: center;background-color: white;position: relative;}#sk-container-id-1 div.sk-item::before, #sk-container-id-1 div.sk-parallel-item::before {content: \"\";position: absolute;border-left: 1px solid gray;box-sizing: border-box;top: 0;bottom: 0;left: 50%;z-index: -1;}#sk-container-id-1 div.sk-parallel-item {display: flex;flex-direction: column;z-index: 1;position: relative;background-color: white;}#sk-container-id-1 div.sk-parallel-item:first-child::after {align-self: flex-end;width: 50%;}#sk-container-id-1 div.sk-parallel-item:last-child::after {align-self: flex-start;width: 50%;}#sk-container-id-1 div.sk-parallel-item:only-child::after {width: 0;}#sk-container-id-1 div.sk-dashed-wrapped {border: 1px dashed gray;margin: 0 0.4em 0.5em 0.4em;box-sizing: border-box;padding-bottom: 0.4em;background-color: white;}#sk-container-id-1 div.sk-label label {font-family: monospace;font-weight: bold;display: inline-block;line-height: 1.2em;}#sk-container-id-1 div.sk-label-container {text-align: center;}#sk-container-id-1 div.sk-container {/* jupyter's `normalize.less` sets `[hidden] { display: none; }` but bootstrap.min.css set `[hidden] { display: none !important; }` so we also need the `!important` here to be able to override the default hidden behavior on the sphinx rendered scikit-learn.org. See: https://github.com/scikit-learn/scikit-learn/issues/21755 */display: inline-block !important;position: relative;}#sk-container-id-1 div.sk-text-repr-fallback {display: none;}</style><div id=\"sk-container-id-1\" class=\"sk-top-container\"><div class=\"sk-text-repr-fallback\"><pre>LinearRegression()</pre><b>In a Jupyter environment, please rerun this cell to show the HTML representation or trust the notebook. <br />On GitHub, the HTML representation is unable to render, please try loading this page with nbviewer.org.</b></div><div class=\"sk-container\" hidden><div class=\"sk-item\"><div class=\"sk-estimator sk-toggleable\"><input class=\"sk-toggleable__control sk-hidden--visually\" id=\"sk-estimator-id-1\" type=\"checkbox\" checked><label for=\"sk-estimator-id-1\" class=\"sk-toggleable__label sk-toggleable__label-arrow\">LinearRegression</label><div class=\"sk-toggleable__content\"><pre>LinearRegression()</pre></div></div></div></div></div>"
      ],
      "text/plain": [
       "LinearRegression()"
      ]
     },
     "execution_count": 29,
     "metadata": {},
     "output_type": "execute_result"
    }
   ],
   "source": [
    "OLS = LinearRegression()\n",
    "OLS.fit(X_train, y_train)"
   ]
  },
  {
   "cell_type": "code",
   "execution_count": 30,
   "id": "751b18eb",
   "metadata": {},
   "outputs": [
    {
     "name": "stdout",
     "output_type": "stream",
     "text": [
      "R2 score is 0.62\n"
     ]
    }
   ],
   "source": [
    "# model evaluation for testing set\n",
    "y_test_predict = OLS.predict(X_test)\n",
    "r2 = metrics.r2_score(y_test, y_test_predict).round(2)\n",
    "print('R2 score is {}'.format(r2) )"
   ]
  },
  {
   "cell_type": "code",
   "execution_count": null,
   "id": "908acd4e",
   "metadata": {},
   "outputs": [],
   "source": []
  },
  {
   "cell_type": "code",
   "execution_count": 31,
   "id": "10b01d5f",
   "metadata": {},
   "outputs": [],
   "source": [
    "from sklearn.ensemble import GradientBoostingRegressor"
   ]
  },
  {
   "cell_type": "code",
   "execution_count": 32,
   "id": "5b724dd4",
   "metadata": {},
   "outputs": [],
   "source": [
    "# clf = GradientBoostingRegressor(loss='quantile', alpha = 0.5)"
   ]
  },
  {
   "cell_type": "code",
   "execution_count": 33,
   "id": "7b65c343",
   "metadata": {},
   "outputs": [],
   "source": [
    "# clf.fit(X_train,y_train)\n",
    "\n",
    "# score = clf.score(X_train,y_train)\n",
    "\n",
    "# y_pred1 = clf.predict(X_test)\n",
    "\n",
    "# r2 = metrics.r2_score(y_test, y_pred1).round(2)\n",
    "# print('R2 score is {}'.format(r2) )"
   ]
  },
  {
   "cell_type": "code",
   "execution_count": null,
   "id": "6d11a676",
   "metadata": {},
   "outputs": [],
   "source": []
  },
  {
   "cell_type": "markdown",
   "id": "a81f9e51",
   "metadata": {},
   "source": [
    "## GradientBoostingRegressor"
   ]
  },
  {
   "cell_type": "code",
   "execution_count": 34,
   "id": "81f3a1fa",
   "metadata": {},
   "outputs": [
    {
     "name": "stderr",
     "output_type": "stream",
     "text": [
      "/home/rahul/.local/lib/python3.10/site-packages/sklearn/ensemble/_gb.py:570: DataConversionWarning: A column-vector y was passed when a 1d array was expected. Please change the shape of y to (n_samples, ), for example using ravel().\n",
      "  y = column_or_1d(y, warn=True)\n",
      "/home/rahul/.local/lib/python3.10/site-packages/sklearn/ensemble/_gb.py:570: DataConversionWarning: A column-vector y was passed when a 1d array was expected. Please change the shape of y to (n_samples, ), for example using ravel().\n",
      "  y = column_or_1d(y, warn=True)\n",
      "/home/rahul/.local/lib/python3.10/site-packages/sklearn/ensemble/_gb.py:570: DataConversionWarning: A column-vector y was passed when a 1d array was expected. Please change the shape of y to (n_samples, ), for example using ravel().\n",
      "  y = column_or_1d(y, warn=True)\n"
     ]
    }
   ],
   "source": [
    "alpha = 0.5\n",
    "clf = GradientBoostingRegressor(loss='quantile', alpha=alpha,\n",
    "                                n_estimators=250, max_depth=3,\n",
    "                                learning_rate=.1, min_samples_leaf=9,\n",
    "                                min_samples_split=9)\n",
    "clf.fit(X_train,y_train)\n",
    "# Make the prediction on the meshed x-axis\n",
    "y_pred = clf.predict(X_test)\n",
    "\n",
    "y_lower = GradientBoostingRegressor(loss='quantile', alpha = 1.0-0.95)\n",
    "\n",
    "# clf.set_params(alpha=1.0 - 0.95)\n",
    "y_lower.fit(X_train,y_train)\n",
    "# Make the prediction on the meshed x-axis\n",
    "y_lower1 = y_lower.predict(X_test)\n",
    "\n",
    "y_upper = GradientBoostingRegressor(loss='quantile', alpha = 0.95)\n",
    "y_upper.fit(X_train,y_train)\n",
    "# Make the prediction on the meshed x-axis\n",
    "y_upper1 = y_upper.predict(X_test)\n",
    "\n",
    "# y_upper ,y_lower1 ,y_pred1"
   ]
  },
  {
   "cell_type": "code",
   "execution_count": 35,
   "id": "8fcc56dc",
   "metadata": {},
   "outputs": [
    {
     "name": "stdout",
     "output_type": "stream",
     "text": [
      "0.7673704471039986\n"
     ]
    }
   ],
   "source": [
    "sc = r2_score(y_test, y_pred)\n",
    "print(sc)"
   ]
  },
  {
   "cell_type": "code",
   "execution_count": null,
   "id": "97024136",
   "metadata": {},
   "outputs": [],
   "source": []
  },
  {
   "cell_type": "markdown",
   "id": "170b7b45",
   "metadata": {},
   "source": [
    "## LGBMRegressor"
   ]
  },
  {
   "cell_type": "code",
   "execution_count": 36,
   "id": "f9d807bb",
   "metadata": {},
   "outputs": [],
   "source": [
    "from lightgbm import LGBMRegressor"
   ]
  },
  {
   "cell_type": "code",
   "execution_count": 37,
   "id": "1d1e795f",
   "metadata": {},
   "outputs": [],
   "source": [
    "lgb = LGBMRegressor(\n",
    "        objective = 'quantile',\n",
    "        alpha = 0.5,\n",
    "        learning_rate = 0.04,\n",
    "        n_estimators = 1000,\n",
    "        min_data_in_leaf=5,\n",
    "        num_leaves = 100000,\n",
    "        bagging_fraction=0.95,\n",
    "        feature_fraction = 0.95,\n",
    "        max_depth = 10,\n",
    "        random_state = 12,\n",
    "        num_threads = -1\n",
    "    )"
   ]
  },
  {
   "cell_type": "code",
   "execution_count": 38,
   "id": "abe68e3a",
   "metadata": {},
   "outputs": [
    {
     "name": "stderr",
     "output_type": "stream",
     "text": [
      "/home/rahul/.local/lib/python3.10/site-packages/sklearn/utils/validation.py:1111: DataConversionWarning: A column-vector y was passed when a 1d array was expected. Please change the shape of y to (n_samples, ), for example using ravel().\n",
      "  y = column_or_1d(y, warn=True)\n"
     ]
    },
    {
     "name": "stdout",
     "output_type": "stream",
     "text": [
      "[LightGBM] [Warning] num_threads is set=-1, n_jobs=-1 will be ignored. Current value: num_threads=-1\n",
      "[LightGBM] [Warning] bagging_fraction is set=0.95, subsample=1.0 will be ignored. Current value: bagging_fraction=0.95\n",
      "[LightGBM] [Warning] feature_fraction is set=0.95, colsample_bytree=1.0 will be ignored. Current value: feature_fraction=0.95\n",
      "[LightGBM] [Warning] min_data_in_leaf is set=5, min_child_samples=20 will be ignored. Current value: min_data_in_leaf=5\n",
      "R2 score is 0.78\n"
     ]
    }
   ],
   "source": [
    "lgb.fit(X_train,y_train)\n",
    "score1 = lgb.score(X_train,y_train)\n",
    "y_pred3 = lgb.predict(X_test)\n",
    "r2 = metrics.r2_score(y_test, y_pred3).round(2)\n",
    "print('R2 score is {}'.format(r2)) "
   ]
  },
  {
   "cell_type": "code",
   "execution_count": 39,
   "id": "e7cb93c7",
   "metadata": {},
   "outputs": [
    {
     "name": "stderr",
     "output_type": "stream",
     "text": [
      "/home/rahul/.local/lib/python3.10/site-packages/sklearn/utils/validation.py:1111: DataConversionWarning: A column-vector y was passed when a 1d array was expected. Please change the shape of y to (n_samples, ), for example using ravel().\n",
      "  y = column_or_1d(y, warn=True)\n"
     ]
    }
   ],
   "source": [
    "lower = LGBMRegressor(objective = 'quantile', alpha = 1 - 0.95)\n",
    "lower.fit(X_train, y_train)\n",
    "lower_pred = lower.predict(X_test)\n",
    "# lower_pred"
   ]
  },
  {
   "cell_type": "code",
   "execution_count": 40,
   "id": "3c4b1c21",
   "metadata": {},
   "outputs": [
    {
     "name": "stderr",
     "output_type": "stream",
     "text": [
      "/home/rahul/.local/lib/python3.10/site-packages/sklearn/utils/validation.py:1111: DataConversionWarning: A column-vector y was passed when a 1d array was expected. Please change the shape of y to (n_samples, ), for example using ravel().\n",
      "  y = column_or_1d(y, warn=True)\n"
     ]
    }
   ],
   "source": [
    "upper = LGBMRegressor(objective = 'quantile', alpha = 0.95)\n",
    "upper.fit(X_train, y_train)\n",
    "upper_pred = upper.predict(X_test)\n",
    "# upper_pred"
   ]
  },
  {
   "cell_type": "code",
   "execution_count": 41,
   "id": "5ca7deaf",
   "metadata": {},
   "outputs": [
    {
     "name": "stdout",
     "output_type": "stream",
     "text": [
      "0.7786789750997423\n"
     ]
    }
   ],
   "source": [
    "score = r2_score(y_test, y_pred3)\n",
    "print(score)"
   ]
  },
  {
   "cell_type": "code",
   "execution_count": null,
   "id": "60737090",
   "metadata": {},
   "outputs": [],
   "source": []
  },
  {
   "cell_type": "code",
   "execution_count": null,
   "id": "3a06bf9f",
   "metadata": {},
   "outputs": [],
   "source": []
  },
  {
   "cell_type": "code",
   "execution_count": 42,
   "id": "72b08c58",
   "metadata": {},
   "outputs": [],
   "source": [
    "# def gbr_model(q):\n",
    "#     model1 = GradientBoostingRegressor(\n",
    "#         loss = 'quantile',\n",
    "#         alpha = q,\n",
    "#         learning_rate = 0.05,\n",
    "#         n_estimators = 1000,\n",
    "#         random_state = 12,\n",
    "#     )\n",
    "#     model1.fit(X_train,y_train)\n",
    "#     score = model1.score(X_train,y_train)\n",
    "#     print(f'quantile {q} score: {round(score,3)}')\n",
    "#     y_pred = model1.predict(X_test)\n",
    "#     return y_pred"
   ]
  },
  {
   "cell_type": "code",
   "execution_count": 43,
   "id": "aa5936be",
   "metadata": {},
   "outputs": [],
   "source": [
    "# sub1 = pd.DataFrame()\n",
    "# sub['Income']  = data.income[0:78]\n",
    "# sub['q0.05'] = gbr_model(0.05)\n",
    "# sub['q0.5'] = gbr_model(0.5)\n",
    "# sub['q0.95'] = gbr_model(0.95)"
   ]
  },
  {
   "cell_type": "code",
   "execution_count": null,
   "id": "c0a40c3a",
   "metadata": {},
   "outputs": [],
   "source": []
  },
  {
   "cell_type": "code",
   "execution_count": 44,
   "id": "8e078061",
   "metadata": {},
   "outputs": [],
   "source": [
    "import pickle"
   ]
  },
  {
   "cell_type": "code",
   "execution_count": 45,
   "id": "f15c97c9",
   "metadata": {},
   "outputs": [],
   "source": [
    "# pickle.dump(ols, open('quareg.pkl', 'wb'))"
   ]
  },
  {
   "cell_type": "code",
   "execution_count": 46,
   "id": "4cbafd72",
   "metadata": {},
   "outputs": [],
   "source": [
    "# pickle.dump(models, open('quareg.pkl', 'wb'))"
   ]
  },
  {
   "cell_type": "code",
   "execution_count": 47,
   "id": "6af15cae",
   "metadata": {},
   "outputs": [],
   "source": [
    "# pickle.dump(OLS, open('quareg.pkl', 'wb'))"
   ]
  },
  {
   "cell_type": "code",
   "execution_count": 48,
   "id": "e5538908",
   "metadata": {},
   "outputs": [],
   "source": [
    "# pickle.dump(lgb, open('quareg.pkl', 'wb')) # lightgbm"
   ]
  },
  {
   "cell_type": "code",
   "execution_count": 49,
   "id": "92425dd5",
   "metadata": {},
   "outputs": [],
   "source": [
    "# pickle.dump(clf, open('quareg.pkl', 'wb')) # gradientboostregressor"
   ]
  },
  {
   "cell_type": "code",
   "execution_count": 50,
   "id": "88d5e4e1",
   "metadata": {},
   "outputs": [],
   "source": [
    "# pickle.dump(y_upper, open('quareglower.pkl', 'wb')) # gradientboostregressor"
   ]
  },
  {
   "cell_type": "code",
   "execution_count": 51,
   "id": "7774a208",
   "metadata": {},
   "outputs": [],
   "source": [
    "# pickle.dump(y_lower, open('quaregupper.pkl', 'wb')) # gradientboostregressor"
   ]
  },
  {
   "cell_type": "code",
   "execution_count": null,
   "id": "91c8e6e6",
   "metadata": {},
   "outputs": [],
   "source": []
  },
  {
   "cell_type": "code",
   "execution_count": 52,
   "id": "a532c621",
   "metadata": {},
   "outputs": [],
   "source": [
    "# mp = pickle.load(open('quareg.pkl','rb'))"
   ]
  },
  {
   "cell_type": "code",
   "execution_count": 53,
   "id": "2f379619",
   "metadata": {},
   "outputs": [],
   "source": [
    "# mpl = pickle.load(open('quareglower.pkl','rb'))"
   ]
  },
  {
   "cell_type": "code",
   "execution_count": 54,
   "id": "8f551023",
   "metadata": {},
   "outputs": [],
   "source": [
    "# mpu = pickle.load(open('quaregupper.pkl','rb'))"
   ]
  },
  {
   "cell_type": "code",
   "execution_count": null,
   "id": "112d3c57",
   "metadata": {},
   "outputs": [],
   "source": []
  },
  {
   "cell_type": "code",
   "execution_count": 55,
   "id": "bb64299c",
   "metadata": {},
   "outputs": [],
   "source": [
    "# mp.predict([[76655464.75]])"
   ]
  },
  {
   "cell_type": "code",
   "execution_count": 56,
   "id": "11ad18f2",
   "metadata": {},
   "outputs": [],
   "source": [
    "# mpu.predict([[76655464.75]])"
   ]
  },
  {
   "cell_type": "code",
   "execution_count": 57,
   "id": "29d29509",
   "metadata": {},
   "outputs": [],
   "source": [
    "# mpl.predict([[76655464.75]])"
   ]
  },
  {
   "cell_type": "code",
   "execution_count": null,
   "id": "7746f54e",
   "metadata": {},
   "outputs": [],
   "source": []
  },
  {
   "cell_type": "code",
   "execution_count": null,
   "id": "8c97916f",
   "metadata": {},
   "outputs": [],
   "source": []
  },
  {
   "cell_type": "code",
   "execution_count": 58,
   "id": "bff51cd4",
   "metadata": {},
   "outputs": [],
   "source": [
    "# joblib\n",
    "import joblib"
   ]
  },
  {
   "cell_type": "code",
   "execution_count": 59,
   "id": "a694ad52",
   "metadata": {},
   "outputs": [
    {
     "data": {
      "text/plain": [
       "['clf_joblib']"
      ]
     },
     "execution_count": 59,
     "metadata": {},
     "output_type": "execute_result"
    }
   ],
   "source": [
    "joblib.dump(clf , 'clf_joblib')"
   ]
  },
  {
   "cell_type": "code",
   "execution_count": 60,
   "id": "e6f69ef1",
   "metadata": {},
   "outputs": [
    {
     "data": {
      "text/plain": [
       "['clf_joblibub']"
      ]
     },
     "execution_count": 60,
     "metadata": {},
     "output_type": "execute_result"
    }
   ],
   "source": [
    "joblib.dump(y_upper , 'clf_joblibub')"
   ]
  },
  {
   "cell_type": "code",
   "execution_count": 61,
   "id": "cdfaa100",
   "metadata": {},
   "outputs": [
    {
     "data": {
      "text/plain": [
       "['clf_jobliblb']"
      ]
     },
     "execution_count": 61,
     "metadata": {},
     "output_type": "execute_result"
    }
   ],
   "source": [
    "joblib.dump(y_lower , 'clf_jobliblb')"
   ]
  },
  {
   "cell_type": "code",
   "execution_count": 62,
   "id": "8733cd31",
   "metadata": {},
   "outputs": [],
   "source": [
    "# clf.fit(X_train)\n",
    "# y_pred = clf.predict(X_test)"
   ]
  },
  {
   "cell_type": "code",
   "execution_count": 63,
   "id": "6f6c628a",
   "metadata": {},
   "outputs": [],
   "source": [
    "cup = joblib.load('clf_joblibub')"
   ]
  },
  {
   "cell_type": "code",
   "execution_count": 64,
   "id": "3be84984",
   "metadata": {},
   "outputs": [],
   "source": [
    "# clb = joblib.load('clf_jobliblb')"
   ]
  },
  {
   "cell_type": "code",
   "execution_count": 65,
   "id": "08f10975",
   "metadata": {},
   "outputs": [],
   "source": [
    "ccc = joblib.load('clf_joblib')"
   ]
  },
  {
   "cell_type": "code",
   "execution_count": 76,
   "id": "5f3e772b",
   "metadata": {},
   "outputs": [
    {
     "data": {
      "text/plain": [
       "array([1263.75738795])"
      ]
     },
     "execution_count": 76,
     "metadata": {},
     "output_type": "execute_result"
    }
   ],
   "source": [
    "#var = (7655.7658,8)\n",
    "ccc.predict([[7655.7658]])"
   ]
  },
  {
   "cell_type": "code",
   "execution_count": null,
   "id": "f5388073",
   "metadata": {},
   "outputs": [],
   "source": [
    "ccc.predict([[7655.7658]])"
   ]
  },
  {
   "cell_type": "code",
   "execution_count": null,
   "id": "f41c213c",
   "metadata": {},
   "outputs": [],
   "source": [
    "cup.predict([[7655.7658]])"
   ]
  },
  {
   "cell_type": "code",
   "execution_count": null,
   "id": "5834c9c4",
   "metadata": {},
   "outputs": [],
   "source": [
    "clb.predict([[7655.7658]])"
   ]
  },
  {
   "cell_type": "code",
   "execution_count": null,
   "id": "85ae88ad",
   "metadata": {},
   "outputs": [],
   "source": []
  },
  {
   "cell_type": "code",
   "execution_count": null,
   "id": "74d3d034",
   "metadata": {},
   "outputs": [],
   "source": []
  },
  {
   "cell_type": "code",
   "execution_count": null,
   "id": "b947a9bc",
   "metadata": {},
   "outputs": [],
   "source": []
  },
  {
   "cell_type": "code",
   "execution_count": null,
   "id": "a5843956",
   "metadata": {},
   "outputs": [],
   "source": []
  },
  {
   "cell_type": "code",
   "execution_count": null,
   "id": "521f7259",
   "metadata": {},
   "outputs": [],
   "source": []
  },
  {
   "cell_type": "code",
   "execution_count": null,
   "id": "aca187ce",
   "metadata": {},
   "outputs": [],
   "source": []
  },
  {
   "cell_type": "code",
   "execution_count": null,
   "id": "a885491d",
   "metadata": {},
   "outputs": [],
   "source": [
    "# import statsmodels.regression.quantile_regression as Q_reg"
   ]
  },
  {
   "cell_type": "code",
   "execution_count": null,
   "id": "70005d1d",
   "metadata": {},
   "outputs": [],
   "source": [
    "# quantiles = [0.01, 0.05, 0.50, 0.95 , 0.99]\n",
    "\n",
    "# # Get the model, and the cofficients in (a) - (b)\n",
    "\n",
    "# def Qreg(q):\n",
    "    \n",
    "#    # (a) Modeling \n",
    "#    mod = Q_reg.QuantReg(y_train, X_train).fit(q=q)\n",
    "    \n",
    "#    # (b) Get the coefficients and the lower and upper bounds\n",
    "#    coefs = pd.DataFrame()\n",
    "#    coefs['param'] = mod.params\n",
    "#    coefs = pd.concat([coefs,mod.conf_int()],axis=1) # \"mod.conf_int\" will give the lower and upper bounds\n",
    "#    coefs['q'] = q\n",
    "#    coefs.columns = ['beta','beta_lower','beta_upper','quantile']\n",
    "    \n",
    "#    return coefs\n",
    "\n",
    "# Qreg_coefs = pd.DataFrame()\n",
    "# coefs = pd.Series()\n",
    "# for q in quantiles:\n",
    "#     coefs = Qreg(q)\n",
    "#     Qreg_coefs = pd.concat([Qreg_coefs,coefs])\n",
    "#     print(coefs)\n",
    "\n",
    "# Qreg(0.25)\n",
    "\n",
    "\n",
    "# # Get the R-squared for Q=0.5\n",
    "# q = 0.5\n",
    "# y_test_pred = Q_reg.QuantReg(y_train, X_train).fit(q=q).predict(X_test)\n",
    "# r2 = metrics.r2_score(y_test,y_test_pred)\n",
    "# print('R2 score is {}'.format(r2) ) # 0.75"
   ]
  },
  {
   "cell_type": "code",
   "execution_count": null,
   "id": "3c79c955",
   "metadata": {},
   "outputs": [],
   "source": []
  }
 ],
 "metadata": {
  "kernelspec": {
   "display_name": "Python 3 (ipykernel)",
   "language": "python",
   "name": "python3"
  },
  "language_info": {
   "codemirror_mode": {
    "name": "ipython",
    "version": 3
   },
   "file_extension": ".py",
   "mimetype": "text/x-python",
   "name": "python",
   "nbconvert_exporter": "python",
   "pygments_lexer": "ipython3",
   "version": "3.10.6"
  }
 },
 "nbformat": 4,
 "nbformat_minor": 5
}
